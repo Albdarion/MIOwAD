{
 "cells": [
  {
   "cell_type": "markdown",
   "id": "996b6666",
   "metadata": {},
   "source": [
    "# 1. Import"
   ]
  },
  {
   "cell_type": "code",
   "execution_count": 1,
   "id": "1d556ddd",
   "metadata": {},
   "outputs": [],
   "source": [
    "# ! pip install ucimlrepo"
   ]
  },
  {
   "cell_type": "code",
   "execution_count": 2,
   "id": "f8d6b57d",
   "metadata": {},
   "outputs": [],
   "source": [
    "# reading data file\n",
    "import pandas as pd\n",
    "# numeric operations\n",
    "import numpy as np\n",
    "# plotting charts\n",
    "from matplotlib import pyplot as plt\n",
    "# inheritance\n",
    "from abc import ABC\n",
    "# custom enums\n",
    "from enum import Flag, auto\n",
    "# math.ceil() and measuring program's evaluation time\n",
    "import math, time, copy\n",
    "# reading remote dataset\n",
    "from ucimlrepo import fetch_ucirepo"
   ]
  },
  {
   "cell_type": "markdown",
   "id": "ae4a754e",
   "metadata": {},
   "source": [
    "# 2. Additional implementations"
   ]
  },
  {
   "cell_type": "code",
   "execution_count": 3,
   "id": "1064530b",
   "metadata": {},
   "outputs": [],
   "source": [
    "eps = 1e-10\n",
    "sec_per_op = 7 / 241250"
   ]
  },
  {
   "cell_type": "code",
   "execution_count": 4,
   "id": "9c0f6471",
   "metadata": {},
   "outputs": [],
   "source": [
    "def d(start, end):\n",
    "    diff = math.ceil(end - start)\n",
    "    \n",
    "    hours = diff // 3600\n",
    "    minutes = (diff - hours * 3600) // 60\n",
    "    seconds = diff - hours * 3600 - minutes * 60\n",
    "    \n",
    "    return f'{hours}h {minutes}m {seconds}s', hours, minutes, seconds"
   ]
  },
  {
   "cell_type": "code",
   "execution_count": 5,
   "id": "82f7386a",
   "metadata": {},
   "outputs": [],
   "source": [
    "def encode_one_hot(categories):\n",
    "    unique_categories = np.unique(categories)\n",
    "    one_hot_encoding = np.zeros((len(categories), len(unique_categories)), dtype=int)\n",
    "\n",
    "    for i, category in enumerate(categories):\n",
    "        index = np.where(unique_categories == category)[0][0]\n",
    "        one_hot_encoding[i, index] = 1\n",
    "\n",
    "    return(one_hot_encoding)"
   ]
  },
  {
   "cell_type": "markdown",
   "id": "0e691653",
   "metadata": {},
   "source": [
    "## 2.1. Cost"
   ]
  },
  {
   "cell_type": "code",
   "execution_count": 6,
   "id": "bcffb219",
   "metadata": {},
   "outputs": [],
   "source": [
    "class ICost(ABC):\n",
    "    @staticmethod\n",
    "    def get(p_y_true, p_y_pred):\n",
    "        pass\n",
    "    \n",
    "    @staticmethod\n",
    "    def der(p_y_true, p_y_pred):\n",
    "        pass\n",
    "    \n",
    "    @staticmethod\n",
    "    def type():\n",
    "        pass"
   ]
  },
  {
   "cell_type": "code",
   "execution_count": 7,
   "id": "5505a526",
   "metadata": {},
   "outputs": [],
   "source": [
    "class Cost:\n",
    "    class Type(Flag):\n",
    "        MSE = auto()\n",
    "        CROSS_ENTROPY = auto()\n",
    "        \n",
    "    @staticmethod\n",
    "    def from_type(p_type):\n",
    "        assert type(p_type) == Cost.Type\n",
    "        \n",
    "        match p_type:\n",
    "            case Cost.Type.MSE:\n",
    "                return Cost.MSE()\n",
    "            case Cost.Type.CROSS_ENTROPY:\n",
    "                return Cost.CrossEntropy()\n",
    "            case _:\n",
    "                print(\"WARNING: Unknown cost function type. Using MSE instead.\")\n",
    "                return Cost.MSE()\n",
    "    \n",
    "    class MSE(ICost):\n",
    "        @staticmethod\n",
    "        def get(p_y_true, p_y_pred):\n",
    "            errors = np.square(p_y_pred - p_y_true)\n",
    "            \n",
    "            return errors.mean()\n",
    "\n",
    "        @staticmethod\n",
    "        def der(p_y_true, p_y_pred):            \n",
    "            return 2 * (p_y_pred - p_y_true)\n",
    "\n",
    "        @staticmethod\n",
    "        def type():\n",
    "            return Cost.Type.MSE\n",
    "    \n",
    "    class CrossEntropy(ICost):\n",
    "        @staticmethod\n",
    "        def get(p_y_true, p_y_pred):\n",
    "            errors = np.sum(-p_y_true * np.log(p_y_pred), axis=1)\n",
    "            \n",
    "            return errors.mean()\n",
    "\n",
    "        @staticmethod\n",
    "        def der(p_y_true, p_y_pred):\n",
    "            return -p_y_true / p_y_pred\n",
    "\n",
    "        @staticmethod\n",
    "        def type():\n",
    "            return Cost.Type.CROSS_ENTROPY"
   ]
  },
  {
   "cell_type": "markdown",
   "id": "7525ad67",
   "metadata": {},
   "source": [
    "## 2.2. Metrics"
   ]
  },
  {
   "cell_type": "code",
   "execution_count": 8,
   "id": "9d0d3b4d",
   "metadata": {},
   "outputs": [],
   "source": [
    "class IMetric(ABC):\n",
    "    @staticmethod\n",
    "    def get(p_y_true, p_y_pred):\n",
    "        pass\n",
    "    \n",
    "    @staticmethod\n",
    "    def type():\n",
    "        pass"
   ]
  },
  {
   "cell_type": "code",
   "execution_count": 9,
   "id": "0bcb04ba",
   "metadata": {},
   "outputs": [],
   "source": [
    "class Metric:\n",
    "    class Type(Flag):\n",
    "        MSE = auto()\n",
    "        F_SCORE = auto()\n",
    "    \n",
    "    @staticmethod\n",
    "    def from_type(p_type):\n",
    "        assert type(p_type) == Metric.Type\n",
    "        \n",
    "        match p_type:\n",
    "            case Metric.Type.MSE:\n",
    "                return Metric.MSE()\n",
    "            case Metric.Type.F_SCORE:\n",
    "                return Metric.F_score()\n",
    "            case _:\n",
    "                print(\"WARNING: Unkown metric function type. Using MSE instead.\")\n",
    "                return Metric.MSE()\n",
    "    \n",
    "    class MSE(IMetric):\n",
    "        @staticmethod\n",
    "        def get(p_y_true, p_y_pred):\n",
    "            errors = np.square(p_y_pred - p_y_true)\n",
    "            \n",
    "            return errors.mean()\n",
    "\n",
    "        @staticmethod\n",
    "        def type():\n",
    "            return Metric.Type.MSE\n",
    "    \n",
    "    class F_score(IMetric):\n",
    "        @staticmethod\n",
    "        def get(p_y_true, p_y_pred):\n",
    "            true_positives = np.sum(np.logical_and(p_y_true == p_y_pred, p_y_pred == 1), axis=0)\n",
    "            true_negatives = np.sum(np.logical_and(p_y_true == p_y_pred, p_y_pred == 0), axis=0)\n",
    "            false_positives = np.sum(np.logical_and(p_y_true != p_y_pred, p_y_pred == 1), axis=0)\n",
    "            false_negatives = np.sum(np.logical_and(p_y_true != p_y_pred, p_y_pred == 0), axis=0)\n",
    "\n",
    "            return 2 * true_positives / (2 * true_positives + false_positives + false_negatives)\n",
    "\n",
    "        @staticmethod\n",
    "        def type():\n",
    "            return Metric.Type.F_SCORE"
   ]
  },
  {
   "cell_type": "markdown",
   "id": "c820123f",
   "metadata": {},
   "source": [
    "## 2.3. Activation"
   ]
  },
  {
   "cell_type": "code",
   "execution_count": 10,
   "id": "9b3f61e9",
   "metadata": {},
   "outputs": [],
   "source": [
    "class IActivation(ABC):\n",
    "    @staticmethod\n",
    "    def get(p_x):\n",
    "        pass\n",
    "    \n",
    "    @staticmethod\n",
    "    def der(p_x):\n",
    "        pass\n",
    "    \n",
    "    @staticmethod\n",
    "    def type():\n",
    "        pass"
   ]
  },
  {
   "cell_type": "code",
   "execution_count": 11,
   "id": "2a9a40ba",
   "metadata": {},
   "outputs": [],
   "source": [
    "class Activation:\n",
    "    class Type(Flag):\n",
    "        LINEAR = auto()\n",
    "        SIGMOID = auto()\n",
    "        TANH = auto()\n",
    "        RE_LU = auto()\n",
    "        LEAKY_RE_LU = auto()\n",
    "        SOFTMAX = auto()\n",
    "        \n",
    "    @staticmethod\n",
    "    def from_type(p_type):\n",
    "        assert type(p_type) == Activation.Type\n",
    "        \n",
    "        match p_type:\n",
    "            case Activation.Type.LINEAR:\n",
    "                return Activation.Linear()\n",
    "            case Activation.Type.SIGMOID:\n",
    "                return Activation.Sigmoid()\n",
    "            case Activation.Type.TANH:\n",
    "                return Activation.Tanh()\n",
    "            case Activation.Type.RE_LU:\n",
    "                return Activation.ReLU()\n",
    "            case Activation.Type.LEAKY_RE_LU:\n",
    "                return Activation.LeakyReLU()\n",
    "            case Activation.Type.SOFTMAX:\n",
    "                return Activation.Softmax()\n",
    "            case _:\n",
    "                print(\"WARNING: Unknown activation function type. Using Tanh insted.\")\n",
    "                return Activation.Tanh()\n",
    "                \n",
    "    class Linear(IActivation):\n",
    "        @staticmethod\n",
    "        def get(p_x):\n",
    "            return p_x\n",
    "\n",
    "        @staticmethod\n",
    "        def der(p_x):\n",
    "            return np.ones(shape=p_x.shape)\n",
    "\n",
    "        @staticmethod\n",
    "        def type():\n",
    "            return Activation.Type.LINEAR\n",
    "    \n",
    "    class Sigmoid(IActivation):\n",
    "        @staticmethod\n",
    "        def get(p_x):\n",
    "            return 1 / (1 + np.exp(-p_x))\n",
    "\n",
    "        @staticmethod\n",
    "        def der(p_x):\n",
    "            a = Activation.Sigmoid.get(p_x)\n",
    "            \n",
    "            return a * (1 - a)\n",
    "\n",
    "        @staticmethod\n",
    "        def type():\n",
    "            return Activation.Type.SIGMOID\n",
    "    \n",
    "    class Tanh(IActivation):\n",
    "        @staticmethod\n",
    "        def get(p_x):\n",
    "            return np.tanh(p_x)\n",
    "\n",
    "        @staticmethod\n",
    "        def der(p_x):\n",
    "            a = Activation.Tanh.get(p_x)\n",
    "            \n",
    "            return 1 - a ** 2\n",
    "\n",
    "        @staticmethod\n",
    "        def type():\n",
    "            return Activation.Type.TANH\n",
    "    \n",
    "    class ReLU(IActivation):\n",
    "        @staticmethod\n",
    "        def get(p_x):\n",
    "            return np.where(p_x > 0, p_x, 0)\n",
    "\n",
    "        @staticmethod\n",
    "        def der(p_x):\n",
    "            return np.where(p_x > 0, 1, 0)\n",
    "\n",
    "        @staticmethod\n",
    "        def type():\n",
    "            return Activation.Type.RE_LU\n",
    "    \n",
    "    class LeakyReLU(IActivation):\n",
    "        @staticmethod\n",
    "        def get(p_x):\n",
    "            return np.where(p_x > 0, p_x, 0.01 * p_x)\n",
    "\n",
    "        @staticmethod\n",
    "        def der(p_x):\n",
    "            return np.where(p_x > 0, 1, 0.01)\n",
    "\n",
    "        @staticmethod\n",
    "        def type():\n",
    "            return Activation.Type.LEAKY_RE_LU\n",
    "    \n",
    "    class Softmax(IActivation):\n",
    "        @staticmethod\n",
    "        def get(p_x):\n",
    "            n = np.exp(p_x)\n",
    "            d = np.sum(n, axis=1, keepdims=True)\n",
    "            \n",
    "            return n / d\n",
    "\n",
    "        @staticmethod\n",
    "        def der(p_x):\n",
    "            raise Exception(\"ERROR: Activation.Softmax.der() is unusable.\")\n",
    "\n",
    "        @staticmethod\n",
    "        def type():\n",
    "            return Activation.Type.SOFTMAX"
   ]
  },
  {
   "cell_type": "markdown",
   "id": "592ace7b",
   "metadata": {},
   "source": [
    "## 2.4. Weights initialization"
   ]
  },
  {
   "cell_type": "code",
   "execution_count": 12,
   "id": "b2d86346",
   "metadata": {},
   "outputs": [],
   "source": [
    "class IWeights(ABC):\n",
    "    @staticmethod\n",
    "    def get(p_shape):\n",
    "        pass\n",
    "    \n",
    "    @staticmethod\n",
    "    def type():\n",
    "        pass"
   ]
  },
  {
   "cell_type": "code",
   "execution_count": 13,
   "id": "10150a23",
   "metadata": {},
   "outputs": [],
   "source": [
    "class Weights:\n",
    "    class Type(Flag):\n",
    "        XAVIER = auto()\n",
    "        HE = auto()\n",
    "        UNIFORM = auto()\n",
    "    \n",
    "    @staticmethod\n",
    "    def from_type(p_type):\n",
    "        assert type(p_type) == Weights.Type\n",
    "        \n",
    "        match p_type:\n",
    "            case Weights.Type.XAVIER:\n",
    "                return Weights.Xavier()\n",
    "            case Weights.Type.HE:\n",
    "                return Weights.He()\n",
    "            case Weights.Type.UNIFORM:\n",
    "                return Weights.uniform()\n",
    "            case _:\n",
    "                print(\"WARNING: Unknown weights initialisation type. Using He insted.\")\n",
    "                return Weights.He()\n",
    "    \n",
    "    class Xavier(IWeights):\n",
    "        @staticmethod\n",
    "        def get(p_shape):\n",
    "            n = p_shape[0] + p_shape[1]\n",
    "            a = np.sqrt(2 / n)\n",
    "            \n",
    "            return np.random.uniform(-a, a, size=p_shape)\n",
    "\n",
    "        @staticmethod\n",
    "        def type():\n",
    "            return Weights.Type.XAVIER\n",
    "    \n",
    "    class He(IWeights):\n",
    "        @staticmethod\n",
    "        def get(p_shape):\n",
    "            n = p_shape[0] + p_shape[1]\n",
    "            \n",
    "            return np.random.normal(0, np.sqrt(6 / n), size=p_shape)\n",
    "\n",
    "        @staticmethod\n",
    "        def type():\n",
    "            return Weights.Type.HE\n",
    "    \n",
    "    class uniform(IWeights):\n",
    "        @staticmethod\n",
    "        def get(p_shape):\n",
    "            return np.random.uniform(0, 1, size=p_shape)\n",
    "\n",
    "        @staticmethod\n",
    "        def type():\n",
    "            return Weights.Type.UNIFORM"
   ]
  },
  {
   "cell_type": "markdown",
   "id": "57cc6f8c",
   "metadata": {},
   "source": [
    "# 3. Implementation"
   ]
  },
  {
   "cell_type": "markdown",
   "id": "ea5b610d",
   "metadata": {},
   "source": [
    "## 3.1. Layer"
   ]
  },
  {
   "cell_type": "code",
   "execution_count": 14,
   "id": "793a2a64",
   "metadata": {},
   "outputs": [],
   "source": [
    "class Layer:\n",
    "    __slots__ = ['weights', 'biases', 'act', 'x', 'z']\n",
    "    \n",
    "    def __init__(self, p_in, p_out, p_act_type, p_weights_type):\n",
    "        w_shape = (p_in, p_out)\n",
    "        b_shape = (1, p_out)\n",
    "        \n",
    "        self.weights = Weights.from_type(p_weights_type).get(w_shape)\n",
    "        self.biases = np.zeros(shape=b_shape)\n",
    "        \n",
    "        self.act = Activation.from_type(p_act_type)\n",
    "        \n",
    "        return\n",
    "    \n",
    "    def forward(self, p_input):\n",
    "        self.x = p_input\n",
    "        self.z = self.x @ self.weights + self.biases\n",
    "        \n",
    "        return self.act.get(self.z)"
   ]
  },
  {
   "cell_type": "markdown",
   "id": "b2cc3abb",
   "metadata": {},
   "source": [
    "## 3.2. Network"
   ]
  },
  {
   "cell_type": "code",
   "execution_count": 15,
   "id": "be4f7a36",
   "metadata": {},
   "outputs": [],
   "source": [
    "class Network:\n",
    "    __slots__ = [\n",
    "        'L', \n",
    "        'layers', \n",
    "        'act_type', \n",
    "        'out_act_type', \n",
    "        'all_weights_flattened_len', \n",
    "        'all_biases_flattened_len',\n",
    "        'weights_sizes',\n",
    "        'biases_sizes'\n",
    "    ]\n",
    "    \n",
    "    def __init__(self, p_layers, p_act_type, p_out_act_type, p_weights_type):\n",
    "        self.L = len(p_layers) - 1\n",
    "        self.layers = []\n",
    "        \n",
    "        self.act_type = p_act_type\n",
    "        self.out_act_type = p_out_act_type\n",
    "        \n",
    "        self.all_weights_flattened_len = 0\n",
    "        self.all_biases_flattened_len = 0\n",
    "            \n",
    "        for l in range(self.L - 1):\n",
    "            self.layers.append(Layer(p_layers[l], p_layers[l + 1], p_act_type, p_weights_type))\n",
    "            self.all_weights_flattened_len += p_layers[l] * p_layers[l + 1]\n",
    "            self.all_biases_flattened_len += p_layers[l + 1]\n",
    "        self.layers.append(Layer(p_layers[-2], p_layers[-1], p_out_act_type, p_weights_type))\n",
    "        self.all_weights_flattened_len += p_layers[-2] * p_layers[-1]\n",
    "        self.all_biases_flattened_len += p_layers[-1]\n",
    "        \n",
    "        return\n",
    "    \n",
    "    def predict(self, p_input):\n",
    "        result = p_input\n",
    "        \n",
    "        for layer in self.layers:\n",
    "            result = layer.forward(result)\n",
    "        \n",
    "        return result\n",
    "    \n",
    "    def classify(self, p_input):\n",
    "        return np.argmax(self.predict(p_input), axis=1)\n",
    "    \n",
    "    def tuples(self):\n",
    "        weights_sizes = []\n",
    "        biases_sizes = []\n",
    "        \n",
    "        w_offset = 0\n",
    "        b_offset = 0\n",
    "        \n",
    "        for layer in self.layers:\n",
    "            weights_sizes.append(w_offset + layer.weights.size)\n",
    "            biases_sizes.append(self.all_weights_flattened_len + b_offset + layer.biases.size)\n",
    "            \n",
    "            w_offset += layer.weights.size\n",
    "            b_offset += layer.biases.size\n",
    "            \n",
    "        biases_sizes = biases_sizes[:-1]\n",
    "            \n",
    "        return tuple(weights_sizes + biases_sizes)\n",
    "    \n",
    "    def get_parameters(self):\n",
    "        weights = np.zeros(shape=(1, self.all_weights_flattened_len))\n",
    "        biases = np.zeros(shape=(1, self.all_biases_flattened_len))\n",
    "        \n",
    "        w_offset = 0\n",
    "        b_offset = 0\n",
    "        \n",
    "        for layer in self.layers:\n",
    "            weights[:, w_offset:w_offset + layer.weights.size] = layer.weights.flatten()\n",
    "            biases[:, b_offset:b_offset + layer.biases.size] = layer.biases.flatten()\n",
    "            \n",
    "            w_offset += layer.weights.size\n",
    "            b_offset += layer.biases.size\n",
    "            \n",
    "        return np.append(weights, biases)\n",
    "    \n",
    "    def set_parameters(self, parameters):\n",
    "        weights = parameters[:self.all_weights_flattened_len]\n",
    "        biases = parameters[self.all_weights_flattened_len:]\n",
    "        \n",
    "        w_offset = 0\n",
    "        b_offset = 0\n",
    "        \n",
    "        for layer in self.layers:\n",
    "            layer.weights = weights[w_offset:w_offset + layer.weights.size].reshape(layer.weights.shape)\n",
    "            layer.biases = biases[b_offset:b_offset + layer.biases.size].reshape(layer.biases.shape)\n",
    "            \n",
    "            w_offset += layer.weights.size\n",
    "            b_offset += layer.biases.size"
   ]
  },
  {
   "cell_type": "markdown",
   "id": "bb8a927c",
   "metadata": {},
   "source": [
    "## 3.3. Genetic Algorithm"
   ]
  },
  {
   "cell_type": "code",
   "execution_count": 16,
   "id": "a1d364c7",
   "metadata": {},
   "outputs": [],
   "source": [
    "class GeneticAlgorithm:\n",
    "    __slots__ = [\n",
    "        'population_size',\n",
    "        'number_of_generations',\n",
    "        'crossover_prob',\n",
    "        'mutation_prob',\n",
    "        'population',\n",
    "        'target_function'\n",
    "    ]\n",
    "    \n",
    "    def __init__(self, population_size, number_of_generations, crossover_prob, mutation_prob):\n",
    "        self.population_size = population_size\n",
    "        self.number_of_generations = number_of_generations\n",
    "        self.crossover_prob = crossover_prob\n",
    "        self.mutation_prob = mutation_prob\n",
    "        \n",
    "        self.population = None\n",
    "        self.target_function = None\n",
    "        \n",
    "        return\n",
    "    \n",
    "    def generate_population(self, method, shape):\n",
    "        match method:\n",
    "            case 'gauss':\n",
    "                return np.random.normal(0, 1, size=shape)\n",
    "            case 'uniform':\n",
    "                return np.random.uniform(0, 1, size=shape)\n",
    "            \n",
    "    \n",
    "    def proximities(self, source):\n",
    "        source = copy.deepcopy(source)\n",
    "        \n",
    "        proximities = np.zeros(len(source))\n",
    "            \n",
    "        for i, creature in enumerate(source):\n",
    "            proximities[i] = self.target_function(creature)\n",
    "            \n",
    "        return proximities\n",
    "    \n",
    "    def probabilities(self, source):\n",
    "        proximities = self.proximities(source)\n",
    "        proximities = 1 / proximities\n",
    "        probabilities = proximities / np.sum(proximities)\n",
    "        \n",
    "        return probabilities\n",
    "    \n",
    "    def select(self, source, count, probabilities):\n",
    "        return source[np.random.choice(range(len(source)), size=count, replace=False, p=probabilities)]\n",
    "    \n",
    "    def crossover(self, parent_a, parent_b, split):\n",
    "        # validate data types\n",
    "        assert parent_a.size == parent_b.size and len(parent_a.shape) == 1\n",
    "        assert split is None or type(split) in [int, tuple]\n",
    "        if type(split) == tuple:\n",
    "            for element in split:\n",
    "                assert type(element) == int\n",
    "        \n",
    "        # if success\n",
    "        if np.random.rand() < self.crossover_prob and parent_a.size != 0:            \n",
    "            # we crossover parents\n",
    "            parent_a_parts = []\n",
    "            parent_b_parts = []\n",
    "            \n",
    "            if split is None:\n",
    "                # take whole\n",
    "                \n",
    "                parent_a_parts.append(parent_a)\n",
    "                parent_b_parts.append(parent_b)\n",
    "            elif type(split) == int:\n",
    "                # take parts\n",
    "                \n",
    "                parent_a_parts.append(parent_a[:split])\n",
    "                parent_a_parts.append(parent_a[split:])\n",
    "                parent_b_parts.append(parent_b[:split])\n",
    "                parent_b_parts.append(parent_b[split:])\n",
    "            else:\n",
    "                # split by splits\n",
    "                \n",
    "                _prev = 0\n",
    "                for _next in split:\n",
    "                    parent_a_parts.append(parent_a[_prev:_next])\n",
    "                    parent_b_parts.append(parent_b[_prev:_next])\n",
    "                    \n",
    "                    _prev = _next\n",
    "                parent_a_parts.append(parent_a[_prev:])\n",
    "                parent_b_parts.append(parent_b[_prev:])\n",
    "                \n",
    "            # removing empty parts\n",
    "            parent_a_parts[:] = [x for x in parent_a_parts if not x.size == 0]\n",
    "            parent_b_parts[:] = [x for x in parent_b_parts if not x.size == 0]\n",
    "                \n",
    "            # here we have all what we need to cross\n",
    "            crossover_points = []\n",
    "            for e in parent_a_parts:\n",
    "                crossover_points.append(1 if len(e) in [1, 2] else np.random.randint(1, len(e)))\n",
    "                \n",
    "            for i in range(len(parent_a_parts)):\n",
    "                parent_a_parts[i] = [parent_a_parts[i][:crossover_points[i]], parent_a_parts[i][crossover_points[i]:]]\n",
    "                parent_b_parts[i] = [parent_b_parts[i][:crossover_points[i]], parent_b_parts[i][crossover_points[i]:]]\n",
    "            \n",
    "            mutated_parts = []\n",
    "            for i in range(len(parent_a_parts)):\n",
    "                mutated_parts.append([\n",
    "                    np.append(parent_a_parts[i][0], parent_b_parts[i][1]),\n",
    "                    np.append(parent_b_parts[i][0], parent_a_parts[i][1])\n",
    "                ])\n",
    "            \n",
    "            pos = np.random.choice(range(2))\n",
    "            child_a = mutated_parts[0][pos]\n",
    "            child_b = mutated_parts[0][1 - pos]\n",
    "            \n",
    "            for i in range(1, len(mutated_parts)):\n",
    "                pos = np.random.choice(range(2))\n",
    "                child_a = np.append(child_a, mutated_parts[i][pos])\n",
    "                child_b = np.append(child_b, mutated_parts[i][1 - pos])\n",
    "                \n",
    "            return child_a, child_b\n",
    "        \n",
    "        return parent_a, parent_b\n",
    "    \n",
    "    def mutation(self, creature):\n",
    "        for i, property in enumerate(creature):\n",
    "            if np.random.rand() < self.mutation_prob:\n",
    "                creature[i] += np.random.normal(0, 1)\n",
    "        \n",
    "        return creature\n",
    "    \n",
    "    def optimize(self, function, argc, method, split=None):\n",
    "        solutions = []\n",
    "        evaluations = []\n",
    "        \n",
    "        self.population = self.generate_population(method, (self.population_size, argc))\n",
    "        self.target_function = function\n",
    "        \n",
    "        for generation in range(self.number_of_generations):\n",
    "            # crossover\n",
    "            probabilities = self.probabilities(self.population)\n",
    "            children = np.zeros((self.population_size * 2, argc))\n",
    "            for i in range(0, self.population_size * 2, 2):\n",
    "                parent_a, parent_b = self.select(self.population, 2, probabilities)\n",
    "                children[i], children[i + 1] = self.crossover(parent_a, parent_b, split)\n",
    "            self.population = np.append(self.population, children, axis=0)\n",
    "            \n",
    "            # mutation\n",
    "            probabilities = self.probabilities(self.population)\n",
    "            mutations = np.zeros((self.population_size, argc))\n",
    "            for i in range(self.population_size):\n",
    "                creature = self.select(self.population, 1, probabilities)\n",
    "                mutations[i] = self.mutation(creature)\n",
    "            self.population = np.append(self.population, mutations, axis=0)\n",
    "            \n",
    "            # select\n",
    "            proximities = self.proximities(self.population)\n",
    "            indexes = np.argsort(proximities)\n",
    "            break_point = int(0.1 * self.population_size)\n",
    "            \n",
    "            top_ten = indexes[:break_point]\n",
    "            rest = indexes[break_point:]\n",
    "            rest_population = self.population[rest]\n",
    "            new_generation_rest = self.select(rest_population, self.population_size - len(top_ten), self.probabilities(rest_population))\n",
    "            \n",
    "            solutions.append(self.population[top_ten[0]])\n",
    "            evaluations.append(proximities[top_ten[0]])\n",
    "            \n",
    "            self.population = np.append(self.population[top_ten], new_generation_rest, axis=0)\n",
    "        \n",
    "        return solutions, evaluations"
   ]
  },
  {
   "cell_type": "markdown",
   "id": "1efe592f",
   "metadata": {},
   "source": [
    "# 4. Testing"
   ]
  },
  {
   "cell_type": "markdown",
   "id": "5003b173",
   "metadata": {},
   "source": [
    "## 4.1. Network "
   ]
  },
  {
   "cell_type": "code",
   "execution_count": 17,
   "id": "fbfac46f",
   "metadata": {},
   "outputs": [],
   "source": [
    "example_X = np.random.uniform(-10, 10, size=(50, 1))\n",
    "example_y = example_X ** 2 - 50"
   ]
  },
  {
   "cell_type": "code",
   "execution_count": 18,
   "id": "028a1b73",
   "metadata": {
    "scrolled": false
   },
   "outputs": [],
   "source": [
    "nn = Network([1, 5, 10, 5, 1], Activation.Type.SIGMOID, Activation.Type.LINEAR, Weights.Type.HE)"
   ]
  },
  {
   "cell_type": "code",
   "execution_count": 19,
   "id": "32b644c0",
   "metadata": {},
   "outputs": [
    {
     "name": "stdout",
     "output_type": "stream",
     "text": [
      "1321.8596866368687\n"
     ]
    }
   ],
   "source": [
    "print(f'{Metric.MSE.get(example_y, nn.predict(example_X))}')"
   ]
  },
  {
   "cell_type": "markdown",
   "id": "6b4ebb49",
   "metadata": {},
   "source": [
    "## 4.2. Genetic Algorithm"
   ]
  },
  {
   "cell_type": "code",
   "execution_count": 20,
   "id": "f229959b",
   "metadata": {},
   "outputs": [],
   "source": [
    "def sum_of_squares(x):\n",
    "    return np.sum(np.square(x))"
   ]
  },
  {
   "cell_type": "code",
   "execution_count": 21,
   "id": "5cff3c6c",
   "metadata": {
    "scrolled": true
   },
   "outputs": [],
   "source": [
    "ga = GeneticAlgorithm(100, 100, 0.1, 0.1)\n",
    "start = time.time()\n",
    "solutions, evaluations = ga.optimize(sum_of_squares, 3, 'gauss')\n",
    "end = time.time()"
   ]
  },
  {
   "cell_type": "code",
   "execution_count": 22,
   "id": "6a562c86",
   "metadata": {},
   "outputs": [
    {
     "name": "stdout",
     "output_type": "stream",
     "text": [
      "evaluated in 0h 0m 4s\n"
     ]
    }
   ],
   "source": [
    "evaluation_time, _, _, _= d(start, end)\n",
    "print(f'evaluated in {evaluation_time}')"
   ]
  },
  {
   "cell_type": "code",
   "execution_count": 23,
   "id": "5c62ddc8",
   "metadata": {
    "scrolled": false
   },
   "outputs": [
    {
     "name": "stdout",
     "output_type": "stream",
     "text": [
      "last evaluation: 4.6189542998273774e-05\n"
     ]
    }
   ],
   "source": [
    "print(f'last evaluation: {evaluations[-1]}')"
   ]
  },
  {
   "cell_type": "code",
   "execution_count": 24,
   "id": "d3141fde",
   "metadata": {
    "scrolled": true
   },
   "outputs": [
    {
     "name": "stdout",
     "output_type": "stream",
     "text": [
      "last solution: [ 0.00199884 -0.00239714  0.00603721]\n"
     ]
    }
   ],
   "source": [
    "print(f'last solution: {solutions[-1]}')"
   ]
  },
  {
   "cell_type": "code",
   "execution_count": 25,
   "id": "9111ed31",
   "metadata": {
    "scrolled": false
   },
   "outputs": [
    {
     "data": {
      "text/plain": [
       "[<matplotlib.lines.Line2D at 0x218fae026d0>]"
      ]
     },
     "execution_count": 25,
     "metadata": {},
     "output_type": "execute_result"
    },
    {
     "data": {
      "image/png": "[encoded data removed]",
      "text/plain": [
       "<Figure size 640x480 with 1 Axes>"
      ]
     },
     "metadata": {},
     "output_type": "display_data"
    }
   ],
   "source": [
    "plt.plot(evaluations)"
   ]
  },
  {
   "cell_type": "markdown",
   "id": "a2ec025f",
   "metadata": {},
   "source": [
    "## 4.3. Using Genetic Algorithm for Network optimization"
   ]
  },
  {
   "cell_type": "markdown",
   "id": "f8ec4459",
   "metadata": {},
   "source": [
    "### 4.3.1. iris dataset"
   ]
  },
  {
   "cell_type": "code",
   "execution_count": 26,
   "id": "f4a81e7a",
   "metadata": {},
   "outputs": [],
   "source": [
    "# fetch dataset \n",
    "iris = fetch_ucirepo(id=53)"
   ]
  },
  {
   "cell_type": "code",
   "execution_count": 27,
   "id": "3c74c524",
   "metadata": {},
   "outputs": [],
   "source": [
    "# data (as pandas dataframes) \n",
    "iris_X = iris.data.features.values\n",
    "iris_y = iris.data.targets.values"
   ]
  },
  {
   "cell_type": "code",
   "execution_count": 28,
   "id": "7cfa5237",
   "metadata": {},
   "outputs": [],
   "source": [
    "iris_dictionary = {value: key for key, value in enumerate(np.unique(iris_y))}\n",
    "iris_y = np.vectorize(iris_dictionary.get)(iris_y)"
   ]
  },
  {
   "cell_type": "code",
   "execution_count": 29,
   "id": "c17a55fa",
   "metadata": {},
   "outputs": [],
   "source": [
    "iris_y_encoded = encode_one_hot(iris_y)"
   ]
  },
  {
   "cell_type": "code",
   "execution_count": 30,
   "id": "a1a1cc2d",
   "metadata": {},
   "outputs": [],
   "source": [
    "iris_train_idx = np.random.choice(range(len(iris_X)), int(0.7 * len(iris_X)))\n",
    "iris_test_idx = np.setdiff1d(range(len(iris_X)), iris_train_idx)\n",
    "\n",
    "iris_X_train = iris_X[iris_train_idx]\n",
    "iris_y_train = iris_y_encoded[iris_train_idx]\n",
    "iris_X_test = iris_X[iris_test_idx]\n",
    "iris_y_test = iris_y_encoded[iris_test_idx]"
   ]
  },
  {
   "cell_type": "code",
   "execution_count": 31,
   "id": "5a8f70e1",
   "metadata": {},
   "outputs": [],
   "source": [
    "iris_nn = Network([4, 10, 3], Activation.Type.SIGMOID, Activation.Type.SOFTMAX, Weights.Type.HE)"
   ]
  },
  {
   "cell_type": "code",
   "execution_count": 32,
   "id": "673d6a01",
   "metadata": {},
   "outputs": [],
   "source": [
    "def cost_iris_nn(config):\n",
    "    iris_nn.set_parameters(config)\n",
    "    \n",
    "    return Cost.CrossEntropy().get(iris_y_train, iris_nn.predict(iris_X_train))"
   ]
  },
  {
   "cell_type": "code",
   "execution_count": 33,
   "id": "2753a44e",
   "metadata": {},
   "outputs": [],
   "source": [
    "iris_ga = GeneticAlgorithm(50, 50, 0.8, 0.8)"
   ]
  },
  {
   "cell_type": "code",
   "execution_count": 34,
   "id": "04db3241",
   "metadata": {},
   "outputs": [],
   "source": [
    "iris_start = time.time()\n",
    "iris_solutions, iris_evaluations = iris_ga.optimize(cost_iris_nn, len(iris_nn.get_parameters()), 'gauss', iris_nn.tuples())\n",
    "iris_end = time.time()"
   ]
  },
  {
   "cell_type": "code",
   "execution_count": 35,
   "id": "10c8c4f6",
   "metadata": {
    "scrolled": false
   },
   "outputs": [
    {
     "name": "stdout",
     "output_type": "stream",
     "text": [
      "evaluated in 0h 0m 7s\n"
     ]
    }
   ],
   "source": [
    "iris_evaluation_time, _, _, _ = d(iris_start, iris_end)\n",
    "print(f'evaluated in {iris_evaluation_time}')"
   ]
  },
  {
   "cell_type": "code",
   "execution_count": 36,
   "id": "00ffc29f",
   "metadata": {},
   "outputs": [
    {
     "data": {
      "text/plain": [
       "[<matplotlib.lines.Line2D at 0x218fb1a6050>]"
      ]
     },
     "execution_count": 36,
     "metadata": {},
     "output_type": "execute_result"
    },
    {
     "data": {
      "image/png": "[encoded data removed]",
      "text/plain": [
       "<Figure size 640x480 with 1 Axes>"
      ]
     },
     "metadata": {},
     "output_type": "display_data"
    }
   ],
   "source": [
    "plt.plot(iris_evaluations)"
   ]
  },
  {
   "cell_type": "code",
   "execution_count": 37,
   "id": "9de9483a",
   "metadata": {},
   "outputs": [
    {
     "name": "stdout",
     "output_type": "stream",
     "text": [
      "last evaluation: 0.3527728918864063\n"
     ]
    }
   ],
   "source": [
    "print(f'last evaluation: {iris_evaluations[-1]}')"
   ]
  },
  {
   "cell_type": "code",
   "execution_count": 38,
   "id": "2e312a8a",
   "metadata": {},
   "outputs": [],
   "source": [
    "iris_nn.set_parameters(iris_solutions[-1])"
   ]
  },
  {
   "cell_type": "code",
   "execution_count": 39,
   "id": "19ace139",
   "metadata": {
    "scrolled": true
   },
   "outputs": [
    {
     "name": "stdout",
     "output_type": "stream",
     "text": [
      "[1.         0.84615385 0.81818182]\n"
     ]
    }
   ],
   "source": [
    "print(f'{Metric.F_score().get(iris_y_test, encode_one_hot(iris_nn.classify(iris_X_test)))}')"
   ]
  },
  {
   "cell_type": "markdown",
   "id": "339661cb",
   "metadata": {},
   "source": [
    "### 4.3.2. multimodal-large"
   ]
  },
  {
   "cell_type": "code",
   "execution_count": 40,
   "id": "7b84a6c9",
   "metadata": {},
   "outputs": [],
   "source": [
    "mml_train = pd.read_csv('../data/multimodal-large-training.csv')\n",
    "mml_test = pd.read_csv('../data/multimodal-large-test.csv')"
   ]
  },
  {
   "cell_type": "code",
   "execution_count": 41,
   "id": "9db5401b",
   "metadata": {},
   "outputs": [],
   "source": [
    "mml_X_train = mml_train[['x']].values\n",
    "mml_y_train = mml_train[['y']].values\n",
    "mml_X_test = mml_test[['x']].values\n",
    "mml_y_test = mml_test[['y']].values"
   ]
  },
  {
   "cell_type": "code",
   "execution_count": 42,
   "id": "5a3fac49",
   "metadata": {},
   "outputs": [],
   "source": [
    "mml_nn = Network([1, 6, 6, 1], Activation.Type.TANH, Activation.Type.LINEAR, Weights.Type.HE)"
   ]
  },
  {
   "cell_type": "code",
   "execution_count": 43,
   "id": "00b68993",
   "metadata": {},
   "outputs": [],
   "source": [
    "def cost_mml_nn(config):\n",
    "    mml_nn.set_parameters(config)\n",
    "    \n",
    "    return Cost.MSE().get(mml_y_train, mml_nn.predict(mml_X_train))"
   ]
  },
  {
   "cell_type": "code",
   "execution_count": 44,
   "id": "8ea8eef2",
   "metadata": {},
   "outputs": [],
   "source": [
    "mml_ga = GeneticAlgorithm(50, 50, 0.8, 0.8)"
   ]
  },
  {
   "cell_type": "code",
   "execution_count": 45,
   "id": "f0d0fb76",
   "metadata": {},
   "outputs": [],
   "source": [
    "mml_start = time.time()\n",
    "mml_solutions, mml_evaluations = mml_ga.optimize(cost_mml_nn, len(mml_nn.get_parameters()), 'gauss', mml_nn.tuples())\n",
    "mml_end = time.time()"
   ]
  },
  {
   "cell_type": "code",
   "execution_count": 46,
   "id": "c66408f8",
   "metadata": {
    "scrolled": false
   },
   "outputs": [
    {
     "name": "stdout",
     "output_type": "stream",
     "text": [
      "evaluated in 0h 2m 31s\n"
     ]
    }
   ],
   "source": [
    "mml_evaluation_time, _, _, _ = d(mml_start, mml_end)\n",
    "print(f'evaluated in {mml_evaluation_time}')"
   ]
  },
  {
   "cell_type": "code",
   "execution_count": 47,
   "id": "3c5965ed",
   "metadata": {
    "scrolled": false
   },
   "outputs": [
    {
     "data": {
      "text/plain": [
       "[<matplotlib.lines.Line2D at 0x218fb8e26d0>]"
      ]
     },
     "execution_count": 47,
     "metadata": {},
     "output_type": "execute_result"
    },
    {
     "data": {
      "image/png": "[encoded data removed]",
      "text/plain": [
       "<Figure size 640x480 with 1 Axes>"
      ]
     },
     "metadata": {},
     "output_type": "display_data"
    }
   ],
   "source": [
    "plt.plot(mml_evaluations)"
   ]
  },
  {
   "cell_type": "code",
   "execution_count": 48,
   "id": "a3c1692a",
   "metadata": {},
   "outputs": [
    {
     "name": "stdout",
     "output_type": "stream",
     "text": [
      "last evaluation: 3391.0661701885297\n"
     ]
    }
   ],
   "source": [
    "print(f'last evaluation: {mml_evaluations[-1]}')"
   ]
  },
  {
   "cell_type": "code",
   "execution_count": 49,
   "id": "3dad2a54",
   "metadata": {},
   "outputs": [
    {
     "name": "stdout",
     "output_type": "stream",
     "text": [
      "last solution: [ 1.75893709 -1.50193044 -2.50336357  1.50020766  0.31585147  1.95997161\n",
      " -6.76891505 -4.37267095 -5.05284819 -4.15773993 -3.56852524 -5.37610328\n",
      " -2.80326819 -4.07934856 -4.02279661 -3.63389987 -2.86962844 -4.18304135\n",
      " -3.07269603 -2.4183056  -2.39329053 -0.65188378 -2.29755016 -1.14054073\n",
      " -1.54918924 -3.28369706 -0.74686214 -3.4149422  -3.03237973 -3.47311533\n",
      " -2.0805753  -2.51895605 -2.47535811 -2.49126046 -2.24226514 -0.75510915\n",
      " -1.81954804 -2.16801784 -1.29207165 -2.40948507 -0.38210465 -1.69536799\n",
      " -5.45485477 -3.84525546 -3.75489654 -4.30389603 -4.02076468 -5.18420702\n",
      " -1.05015511  0.17791041 -2.22516505 -1.36503603  1.61254171 -2.31863789\n",
      " -3.57898453 -3.21508571 -0.67510133 -2.63948871 -3.79840943 -2.49813174\n",
      "  2.87329961]\n"
     ]
    }
   ],
   "source": [
    "print(f'last solution: {mml_solutions[-1]}')"
   ]
  },
  {
   "cell_type": "code",
   "execution_count": 50,
   "id": "bb4662a0",
   "metadata": {},
   "outputs": [],
   "source": [
    "mml_nn.set_parameters(mml_solutions[-1])"
   ]
  },
  {
   "cell_type": "code",
   "execution_count": 51,
   "id": "407c69eb",
   "metadata": {},
   "outputs": [
    {
     "data": {
      "text/plain": [
       "<matplotlib.collections.PathCollection at 0x218fccea290>"
      ]
     },
     "execution_count": 51,
     "metadata": {},
     "output_type": "execute_result"
    },
    {
     "data": {
      "image/png": "[encoded data removed]",
      "text/plain": [
       "<Figure size 640x480 with 1 Axes>"
      ]
     },
     "metadata": {},
     "output_type": "display_data"
    }
   ],
   "source": [
    "plt.scatter(mml_X_test, mml_y_test)\n",
    "plt.scatter(mml_X_test, mml_nn.predict(mml_X_test))"
   ]
  },
  {
   "cell_type": "code",
   "execution_count": 52,
   "id": "c7c36512",
   "metadata": {},
   "outputs": [
    {
     "name": "stdout",
     "output_type": "stream",
     "text": [
      "3411.3695596187767\n"
     ]
    }
   ],
   "source": [
    "print(f'{Metric.MSE().get(mml_y_test, mml_nn.predict(mml_X_test))}')"
   ]
  },
  {
   "cell_type": "markdown",
   "id": "cb482dc9",
   "metadata": {},
   "source": [
    "### 4.3.3. auto-mpg dataset"
   ]
  },
  {
   "cell_type": "code",
   "execution_count": 53,
   "id": "ea7aa18f",
   "metadata": {
    "scrolled": false
   },
   "outputs": [],
   "source": [
    "# fetch dataset \n",
    "auto_mpg = fetch_ucirepo(id=9)"
   ]
  },
  {
   "cell_type": "code",
   "execution_count": 54,
   "id": "dfff6fa5",
   "metadata": {},
   "outputs": [],
   "source": [
    "# data (as pandas dataframes) \n",
    "auto_mpg_X = auto_mpg.data.features.values\n",
    "auto_mpg_y = auto_mpg.data.targets.values"
   ]
  },
  {
   "cell_type": "code",
   "execution_count": 55,
   "id": "9e18a823",
   "metadata": {},
   "outputs": [],
   "source": [
    "invalid_indexes = np.unique(np.append(np.argwhere(np.isnan(auto_mpg_X))[:,0], np.argwhere(np.isnan(auto_mpg_y))[:,0]))"
   ]
  },
  {
   "cell_type": "code",
   "execution_count": 56,
   "id": "50b97940",
   "metadata": {},
   "outputs": [],
   "source": [
    "auto_mpg_X = auto_mpg_X[[i for i, row in enumerate(auto_mpg_X) if i not in invalid_indexes]]\n",
    "auto_mpg_y = auto_mpg_y[[i for i, row in enumerate(auto_mpg_y) if i not in invalid_indexes]]"
   ]
  },
  {
   "cell_type": "code",
   "execution_count": 57,
   "id": "6ece07e3",
   "metadata": {},
   "outputs": [],
   "source": [
    "auto_mpg_train_idx = np.random.choice(range(len(auto_mpg_X)), int(0.7 * len(auto_mpg_X)), replace=False)\n",
    "auto_mpg_test_idx = np.setdiff1d(range(len(auto_mpg_X)), auto_mpg_train_idx)\n",
    "\n",
    "auto_mpg_X_train = auto_mpg_X[auto_mpg_train_idx]\n",
    "auto_mpg_y_train = auto_mpg_y[auto_mpg_train_idx]\n",
    "auto_mpg_X_test = auto_mpg_X[auto_mpg_test_idx]\n",
    "auto_mpg_y_test = auto_mpg_y[auto_mpg_test_idx]"
   ]
  },
  {
   "cell_type": "code",
   "execution_count": 58,
   "id": "33875711",
   "metadata": {},
   "outputs": [],
   "source": [
    "auto_mpg_nn = Network([7, 10, 1], Activation.Type.TANH, Activation.Type.LINEAR, Weights.Type.HE)"
   ]
  },
  {
   "cell_type": "code",
   "execution_count": 59,
   "id": "5a0f673a",
   "metadata": {},
   "outputs": [],
   "source": [
    "def cost_auto_mpg_nn(config):\n",
    "    auto_mpg_nn.set_parameters(config)\n",
    "    \n",
    "    return Cost.MSE().get(auto_mpg_y_train, auto_mpg_nn.predict(auto_mpg_X_train))"
   ]
  },
  {
   "cell_type": "code",
   "execution_count": 60,
   "id": "2d58f057",
   "metadata": {},
   "outputs": [],
   "source": [
    "auto_mpg_ga = GeneticAlgorithm(50, 50, 0.8, 0.8)"
   ]
  },
  {
   "cell_type": "code",
   "execution_count": 61,
   "id": "0c7031bf",
   "metadata": {
    "scrolled": false
   },
   "outputs": [],
   "source": [
    "auto_mpg_start = time.time()\n",
    "auto_mpg_solutions, auto_mpg_evaluations = auto_mpg_ga.optimize(cost_auto_mpg_nn, len(auto_mpg_nn.get_parameters()), 'gauss', auto_mpg_nn.tuples())\n",
    "auto_mpg_end = time.time()"
   ]
  },
  {
   "cell_type": "code",
   "execution_count": 62,
   "id": "8aa2da01",
   "metadata": {
    "scrolled": false
   },
   "outputs": [
    {
     "name": "stdout",
     "output_type": "stream",
     "text": [
      "evaluated in 0h 0m 7s\n"
     ]
    }
   ],
   "source": [
    "auto_mpg_evaluation_time, _, _, _ = d(auto_mpg_start, auto_mpg_end)\n",
    "print(f'evaluated in {auto_mpg_evaluation_time}')"
   ]
  },
  {
   "cell_type": "code",
   "execution_count": 63,
   "id": "035dec44",
   "metadata": {
    "scrolled": false
   },
   "outputs": [
    {
     "data": {
      "text/plain": [
       "[<matplotlib.lines.Line2D at 0x218fcd47ad0>]"
      ]
     },
     "execution_count": 63,
     "metadata": {},
     "output_type": "execute_result"
    },
    {
     "data": {
      "image/png": "[encoded data removed]",
      "text/plain": [
       "<Figure size 640x480 with 1 Axes>"
      ]
     },
     "metadata": {},
     "output_type": "display_data"
    }
   ],
   "source": [
    "plt.plot(auto_mpg_evaluations)"
   ]
  },
  {
   "cell_type": "code",
   "execution_count": 64,
   "id": "72603d9f",
   "metadata": {},
   "outputs": [
    {
     "name": "stdout",
     "output_type": "stream",
     "text": [
      "last evaluation: 59.51276348489981\n"
     ]
    }
   ],
   "source": [
    "print(f'last evaluation: {auto_mpg_evaluations[-1]}')"
   ]
  },
  {
   "cell_type": "code",
   "execution_count": 65,
   "id": "c98ee14f",
   "metadata": {},
   "outputs": [
    {
     "name": "stdout",
     "output_type": "stream",
     "text": [
      "last solution: [ 2.51377296  2.6208025   0.88715542  3.10999029  1.55541414  0.31122358\n",
      " -0.11787852  2.32832236  1.86730823  2.9223491   1.03392517  1.9104571\n",
      "  2.34691932  2.18688265  1.5106048   2.0098776   1.43469633  1.47365342\n",
      "  1.31390951  0.72340564  0.56682712  1.60587856  3.31203294  0.5484391\n",
      "  1.71189202  0.77601418  2.71571923  3.04614753  3.0352764   0.9987269\n",
      "  3.85258821  1.69150261  3.84251279  2.70559962  3.69179466  2.9458494\n",
      "  5.17014898  2.58722526  3.3862643   2.94254052  5.09401711  3.52242994\n",
      "  2.46692436  2.74121274  1.51054432  1.90115777  3.14096501  1.95958959\n",
      "  1.32718686  0.98533158  3.80873397  1.49409584  2.4885459   4.3723892\n",
      "  2.73698711  2.73861454  2.83372088  3.22006474  3.08657941  3.25451127\n",
      "  4.0081604   2.54600656  1.65519882  2.63204398  1.51257695  3.08604054\n",
      "  3.92603474  1.7006678   1.43874268  1.89984477  3.3735165   0.64535389\n",
      "  0.61301573  2.44432452  2.53090373  3.06860209  1.42789222  2.09461525\n",
      "  2.31312338  2.23928716  4.65170231  2.83300163  1.73208739  2.66406076\n",
      "  2.25548232  2.799732    2.039752    0.95816834  1.31031409  0.5441868\n",
      "  2.84359337]\n"
     ]
    }
   ],
   "source": [
    "print(f'last solution: {auto_mpg_solutions[-1]}')"
   ]
  },
  {
   "cell_type": "code",
   "execution_count": 66,
   "id": "ecc06888",
   "metadata": {},
   "outputs": [],
   "source": [
    "auto_mpg_nn.set_parameters(auto_mpg_solutions[-1])"
   ]
  },
  {
   "cell_type": "code",
   "execution_count": 67,
   "id": "3fa578b4",
   "metadata": {},
   "outputs": [
    {
     "name": "stdout",
     "output_type": "stream",
     "text": [
      "63.73829310195137\n"
     ]
    }
   ],
   "source": [
    "print(f'{Metric.MSE().get(auto_mpg_y_test, auto_mpg_nn.predict(auto_mpg_X_test))}')"
   ]
  }
 ],
 "metadata": {
  "kernelspec": {
   "display_name": "Python 3 (ipykernel)",
   "language": "python",
   "name": "python3"
  },
  "language_info": {
   "codemirror_mode": {
    "name": "ipython",
    "version": 3
   },
   "file_extension": ".py",
   "mimetype": "text/x-python",
   "name": "python",
   "nbconvert_exporter": "python",
   "pygments_lexer": "ipython3",
   "version": "3.11.7"
  }
 },
 "nbformat": 4,
 "nbformat_minor": 5
}
