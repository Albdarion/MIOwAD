{
 "cells": [
  {
   "cell_type": "markdown",
   "id": "59238815",
   "metadata": {},
   "source": [
    "# 1. Import"
   ]
  },
  {
   "cell_type": "code",
   "execution_count": 1,
   "id": "51854b37",
   "metadata": {},
   "outputs": [],
   "source": [
    "import pandas as pd\n",
    "import numpy as np\n",
    "import uuid\n",
    "import time\n",
    "import math"
   ]
  },
  {
   "cell_type": "markdown",
   "id": "53f282dd",
   "metadata": {},
   "source": [
    "# 2. Constants"
   ]
  },
  {
   "cell_type": "code",
   "execution_count": 4,
   "id": "072bdf2d",
   "metadata": {},
   "outputs": [],
   "source": [
    "eps = 1e-10"
   ]
  },
  {
   "cell_type": "markdown",
   "id": "61609148",
   "metadata": {},
   "source": [
    "# 3. Implementations"
   ]
  },
  {
   "cell_type": "markdown",
   "id": "72fcb48e",
   "metadata": {},
   "source": [
    "## 3.1. Rectangle"
   ]
  },
  {
   "cell_type": "code",
   "execution_count": 6,
   "id": "3ed88e01",
   "metadata": {},
   "outputs": [],
   "source": [
    "class Rectangle:\n",
    "    __slots__ = ['id', 'x', 'y', 'width', 'height', 'left', 'right', 'bottom', 'top', 'value']\n",
    "    \n",
    "    def __init__(self, x, y, height, width, value):\n",
    "        self.id = uuid.uuid4()\n",
    "        self.x = x\n",
    "        self.y = y\n",
    "        self.width = width\n",
    "        self.height = height\n",
    "        self.left = self.x\n",
    "        self.right = self.x + self.width\n",
    "        self.bottom = self.y\n",
    "        self.top = self.y + self.height\n",
    "        self.value = value\n",
    "        \n",
    "        return\n",
    "    \n",
    "    def __repr__(self):\n",
    "        return f'Rectangle(x={self.x}, y={self.y}, width={self.width}, height={self.height}, value={self.value})'\n",
    "    \n",
    "    def intersects(self, another):\n",
    "        return not (self.x + self.width <= another.x or self.x >= another.x + another.width or self.y + self.height <= another.y or self.y >= another.y + another.height)"
   ]
  },
  {
   "cell_type": "markdown",
   "id": "255a6600",
   "metadata": {},
   "source": [
    "## 3.2. Genetic Algorithm"
   ]
  },
  {
   "cell_type": "code",
   "execution_count": 8,
   "id": "491280ef",
   "metadata": {},
   "outputs": [],
   "source": [
    "class GeneticAlgorithm:\n",
    "    __slots__ = ['radius', 'init_size', 'population']\n",
    "    \n",
    "    def __init__(self, radius, number_of_generations, init_size):\n",
    "        self.radius = radius\n",
    "        self.init_size = init_size\n",
    "        self.population = []\n",
    "        \n",
    "        pass\n",
    "    \n",
    "    def can_be_placed(self, new_rectangle):        \n",
    "        # check if new rectangle is strictly inside of circle\n",
    "        if not (\n",
    "            np.sqrt(new_rectangle.left ** 2 + new_rectangle.bottom ** 2) < self.radius and\n",
    "            np.sqrt(new_rectangle.left ** 2 + new_rectangle.top ** 2) < self.radius and\n",
    "            np.sqrt(new_rectangle.right ** 2 + new_rectangle.bottom ** 2) < self.radius and\n",
    "            np.sqrt(new_rectangle.right ** 2 + new_rectangle.top ** 2) < self.radius\n",
    "        ):\n",
    "            return False\n",
    "\n",
    "        # check if new rectangle intersects with any other\n",
    "        for rectangle in self.population:\n",
    "            if new_rectangle.intersects(rectangle):\n",
    "                return False\n",
    "            \n",
    "        return True\n",
    "    \n",
    "    def generate_rectangle(self, width, height, value, x=None, y=None):\n",
    "        # generate x\n",
    "        if x is None:\n",
    "            x = np.random.rand() * 2 * self.radius - self.radius\n",
    "\n",
    "        # generate y based on x\n",
    "        if y is None:\n",
    "            y = np.random.rand() * 2 * np.sqrt(self.radius ** 2 - x ** 2) - np.sqrt(self.radius ** 2 - x ** 2)\n",
    "        \n",
    "        # create new rectangle\n",
    "        return Rectangle(x, y, width, height, value)\n",
    "    \n",
    "    def mutation(self, creature):\n",
    "        # moving top\n",
    "        collisions_while_vertical_move = []\n",
    "        for rect in self.population:\n",
    "            if not (rect.right - eps <= creature.left or creature.right - eps <= rect.left):\n",
    "                collisions_while_vertical_move.append(rect)\n",
    "        \n",
    "        last_available_bottom = float(\"inf\")\n",
    "        for rect in collisions_while_vertical_move:            \n",
    "            if rect.bottom > creature.top - eps and rect.bottom - eps < last_available_bottom:\n",
    "                last_available_bottom = rect.bottom\n",
    "                \n",
    "        last_available_bottom = min(last_available_bottom, np.sqrt(self.radius ** 2 - creature.left ** 2), np.sqrt(self.radius ** 2 - creature.right ** 2))\n",
    "        \n",
    "        if last_available_bottom > creature.top - eps:\n",
    "            creature.y = creature.bottom = last_available_bottom - creature.height\n",
    "            creature.top = creature.bottom + creature.height\n",
    "        \n",
    "        # moving right\n",
    "        collisions_while_horizontal_move = []\n",
    "        for rect in self.population:\n",
    "            if not (rect.top - eps <= creature.bottom or creature.top - eps <= rect.bottom):\n",
    "                collisions_while_horizontal_move.append(rect)\n",
    "        \n",
    "        last_available_left = float(\"inf\")\n",
    "        for rect in collisions_while_horizontal_move:            \n",
    "            if rect.left > creature.right - eps and rect.left - eps < last_available_left:\n",
    "                last_available_left = rect.left\n",
    "                \n",
    "        last_available_left = min(last_available_left, np.sqrt(self.radius ** 2 - creature.bottom ** 2), np.sqrt(self.radius ** 2 - creature.top ** 2))\n",
    "        \n",
    "        if last_available_left > creature.right - eps:\n",
    "            creature.x = creature.left = last_available_left - creature.width\n",
    "            creature.right = creature.left + creature.width\n",
    "    \n",
    "    def optimize(self):\n",
    "        # read data and use only values\n",
    "        df = pd.read_csv(f'../data/r{self.radius}.csv', header=None).values\n",
    "        # allow to swap width and height values\n",
    "        df = np.append(df, df[:, [1,0,2]], axis=0)\n",
    "        # retrieve only unique entries\n",
    "        df = np.unique(df, axis=0)\n",
    "        # sort in accordance with the highest value per area\n",
    "        df = df[np.flip(np.argsort(df[:, 2] / (df[:, 0] * df[:, 1])))]\n",
    "        \n",
    "        # for every type of rectangle from the one with the highest value per area to the lowest\n",
    "        for i in range(len(df)):\n",
    "            # try to create init_size rectangles of such type\n",
    "            for _ in range(self.init_size):\n",
    "                new_rect = self.generate_rectangle(*(df[i]))\n",
    "                if self.can_be_placed(new_rect):\n",
    "                    self.population.append(new_rect)\n",
    "                    self.mutation(new_rect)\n",
    "        \n",
    "        return self.population"
   ]
  },
  {
   "cell_type": "markdown",
   "id": "6fcd1032",
   "metadata": {},
   "source": [
    "# 4. Stuff for verification"
   ]
  },
  {
   "cell_type": "markdown",
   "id": "5ffa7052",
   "metadata": {},
   "source": [
    "## 4.1. Conveniently display elapsed time"
   ]
  },
  {
   "cell_type": "code",
   "execution_count": 5,
   "id": "3a73e93e",
   "metadata": {},
   "outputs": [],
   "source": [
    "def seconds_to_time(seconds):\n",
    "    diff = math.ceil(seconds)\n",
    "    hours = diff // 3600\n",
    "    minutes = (diff - hours * 3600) // 60\n",
    "    seconds = diff - hours * 3600 - minutes * 60\n",
    "    \n",
    "    return hours, minutes, seconds"
   ]
  },
  {
   "cell_type": "markdown",
   "id": "ea78204b",
   "metadata": {},
   "source": [
    "## 4.2. Enable "
   ]
  },
  {
   "cell_type": "code",
   "execution_count": 7,
   "id": "4e289101",
   "metadata": {},
   "outputs": [],
   "source": [
    "def to_html(population, radius):\n",
    "    rects = ''\n",
    "    for rect in population:\n",
    "        rects += f'<rect x=\"{rect.x}\" y=\"{rect.y}\" width=\"{rect.width}\" height=\"{rect.height}\"></rect>'\n",
    "    \n",
    "    return f'''<svg height=\"720px\" viewBox=\"-{radius} -{radius} {2 * radius} {2 * radius}\" transform=\"scale(1,-1)\"><circle cx=\"0\" cy=\"0\" r=\"{radius}\" fill=\"white\" stroke=\"red\" stroke-width=\"5px\"></circle>{rects}</svg>'''"
   ]
  },
  {
   "cell_type": "code",
   "execution_count": 3,
   "id": "0bdd9901",
   "metadata": {},
   "outputs": [],
   "source": [
    "expected_output = {\n",
    "    800: 30000,\n",
    "    850: None,\n",
    "    1000: 17500,\n",
    "    1100: 25000,\n",
    "    1200: 30000\n",
    "}"
   ]
  },
  {
   "cell_type": "code",
   "execution_count": 9,
   "id": "d5ed6416",
   "metadata": {},
   "outputs": [],
   "source": [
    "def solution(radius, trials):\n",
    "    best_score = 0\n",
    "    best_time = 0\n",
    "    best_solution = []\n",
    "    \n",
    "    total_score = 0\n",
    "    total_time = 0\n",
    "    \n",
    "    for _ in range(trials):\n",
    "        start = time.time()\n",
    "        ga = GeneticAlgorithm(radius, 50000, 1000)\n",
    "        final_population = ga.optimize()\n",
    "        score = 0\n",
    "        for rect in final_population:\n",
    "            score += rect.value\n",
    "        end = time.time()\n",
    "        \n",
    "        if score > best_score:\n",
    "            best_score = score\n",
    "            best_time = end - start\n",
    "            best_solution = final_population\n",
    "        \n",
    "        total_score += score\n",
    "        total_time += end - start\n",
    "        \n",
    "    avg_score = total_score / trials\n",
    "    avg_time = total_time / trials\n",
    "    \n",
    "    hours, minutes, seconds = seconds_to_time(best_time)\n",
    "    avg_hours, avg_minutes, avg_seconds = seconds_to_time(avg_time)\n",
    "    \n",
    "    print('best solution html svg representation')\n",
    "    print(f'{to_html(best_solution, radius)}')\n",
    "    print()\n",
    "    print(f'model evaluated on average in {avg_hours}h {avg_minutes}m {avg_seconds}s')\n",
    "    print(f'average score: {avg_score}')\n",
    "    print()\n",
    "    print(f'best score evaluated in {hours}h {minutes}m {seconds}s')\n",
    "    print(f'best score: {best_score}')\n",
    "    print(f'expected score: {expected_output[radius]}')"
   ]
  },
  {
   "cell_type": "code",
   "execution_count": 10,
   "id": "dca6bec4",
   "metadata": {
    "scrolled": false
   },
   "outputs": [
    {
     "name": "stdout",
     "output_type": "stream",
     "text": [
      "best solution html svg representation\n",
      "<svg height=\"720px\" viewBox=\"-800 -800 1600 1600\" transform=\"scale(1,-1)\"><circle cx=\"0\" cy=\"0\" r=\"800\" fill=\"white\" stroke=\"red\" stroke-width=\"5px\"></circle><rect x=\"453.2840264291606\" y=\"237.52376410485158\" width=\"30\" height=\"400\"></rect><rect x=\"376.95881792386234\" y=\"288.75577711843016\" width=\"30\" height=\"400\"></rect><rect x=\"276.35302427263906\" y=\"339.0181489780937\" width=\"30\" height=\"400\"></rect><rect x=\"323.2673654609219\" y=\"317.77584836792846\" width=\"30\" height=\"400\"></rect><rect x=\"246.35302427263906\" y=\"-38.56211655047673\" width=\"30\" height=\"400\"></rect><rect x=\"109.83221273991265\" y=\"387.6845512514891\" width=\"30\" height=\"400\"></rect><rect x=\"293.2673654609219\" y=\"-60.98185102190632\" width=\"30\" height=\"400\"></rect><rect x=\"78.43167139454798\" y=\"392.6175449979547\" width=\"30\" height=\"400\"></rect><rect x=\"48.431671394547976\" y=\"348.59238600347453\" width=\"30\" height=\"400\"></rect><rect x=\"408.2882997960371\" y=\"269.2558302038908\" width=\"30\" height=\"400\"></rect><rect x=\"216.35302427263906\" y=\"-12.315448748510903\" width=\"30\" height=\"400\"></rect><rect x=\"186.35302427263906\" y=\"-12.315448748510903\" width=\"30\" height=\"400\"></rect><rect x=\"156.35302427263906\" y=\"-51.40761399652547\" width=\"30\" height=\"400\"></rect><rect x=\"651.5269414351592\" y=\"18.952298117622377\" width=\"30\" height=\"400\"></rect><rect x=\"18.431671394547976\" y=\"208.44478412055776\" width=\"30\" height=\"400\"></rect><rect x=\"530.9309926426536\" y=\"170.4002292188594\" width=\"30\" height=\"400\"></rect><rect x=\"-11.568328605452024\" y=\"335.8273542257135\" width=\"30\" height=\"400\"></rect><rect x=\"-41.568328605452024\" y=\"341.0780413412424\" width=\"30\" height=\"400\"></rect><rect x=\"-71.56832860545202\" y=\"177.02963327329098\" width=\"30\" height=\"400\"></rect><rect x=\"263.2673654609219\" y=\"-451.40761399652547\" width=\"30\" height=\"400\"></rect><rect x=\"-101.56832860545202\" y=\"374.45922866768717\" width=\"30\" height=\"400\"></rect><rect x=\"-131.56832860545202\" y=\"274.65106675312404\" width=\"30\" height=\"400\"></rect><rect x=\"-161.56832860545202\" y=\"-4.9285284970938505\" width=\"30\" height=\"400\"></rect><rect x=\"-191.56832860545202\" y=\"269.7497334956254\" width=\"30\" height=\"400\"></rect><rect x=\"-221.56832860545202\" y=\"242.1868695212106\" width=\"30\" height=\"400\"></rect><rect x=\"-251.56832860545202\" y=\"316.51595530814234\" width=\"30\" height=\"400\"></rect><rect x=\"126.35302427263906\" y=\"-51.40761399652547\" width=\"30\" height=\"400\"></rect><rect x=\"423.2840264291606\" y=\"-130.7441697961092\" width=\"30\" height=\"400\"></rect><rect x=\"-281.56832860545205\" y=\"272.35813905488646\" width=\"30\" height=\"400\"></rect><rect x=\"96.35302427263906\" y=\"-12.315448748510903\" width=\"30\" height=\"400\"></rect><rect x=\"-311.56832860545205\" y=\"38.15851023872506\" width=\"30\" height=\"400\"></rect><rect x=\"393.2840264291606\" y=\"-130.7441697961092\" width=\"30\" height=\"400\"></rect><rect x=\"-341.56832860545205\" y=\"2.8673019779836864\" width=\"30\" height=\"400\"></rect><rect x=\"66.35302427263906\" y=\"-191.55521587944224\" width=\"30\" height=\"400\"></rect><rect x=\"-371.56832860545205\" y=\"296.01847208825507\" width=\"30\" height=\"400\"></rect><rect x=\"-401.56832860545205\" y=\"-74.36886060328578\" width=\"30\" height=\"400\"></rect><rect x=\"-431.56832860545205\" y=\"-30.95974098674253\" width=\"30\" height=\"400\"></rect><rect x=\"-461.56832860545205\" y=\"-119.71579855051198\" width=\"30\" height=\"400\"></rect><rect x=\"704.6276761674558\" y=\"-83.2632364110479\" width=\"30\" height=\"400\"></rect><rect x=\"-491.56832860545205\" y=\"65.14372939025782\" width=\"30\" height=\"400\"></rect><rect x=\"-521.568328605452\" y=\"142.5336050569622\" width=\"30\" height=\"400\"></rect><rect x=\"573.1640194280328\" y=\"125.5408315891541\" width=\"30\" height=\"400\"></rect><rect x=\"-551.568328605452\" y=\"172.71744209997132\" width=\"30\" height=\"400\"></rect><rect x=\"-581.568328605452\" y=\"131.45736980706056\" width=\"30\" height=\"400\"></rect><rect x=\"-611.568328605452\" y=\"60.12104706684369\" width=\"30\" height=\"400\"></rect><rect x=\"-641.568328605452\" y=\"-46.83825630593401\" width=\"30\" height=\"400\"></rect><rect x=\"36.35302427263906\" y=\"-191.55521587944224\" width=\"30\" height=\"400\"></rect><rect x=\"233.2673654609219\" y=\"-591.5552158794422\" width=\"30\" height=\"400\"></rect><rect x=\"-191.56832860545202\" y=\"-157.8131304787894\" width=\"30\" height=\"400\"></rect><rect x=\"-521.568328605452\" y=\"-257.4663949430378\" width=\"30\" height=\"400\"></rect><rect x=\"-221.56832860545202\" y=\"-361.84148976127494\" width=\"30\" height=\"400\"></rect><rect x=\"6.353024272639061\" y=\"-222.97036672670902\" width=\"30\" height=\"400\"></rect><rect x=\"-251.56832860545202\" y=\"-361.84148976127494\" width=\"30\" height=\"400\"></rect><rect x=\"203.2673654609219\" y=\"-591.5552158794422\" width=\"30\" height=\"400\"></rect><rect x=\"346.95881792386234\" y=\"-82.22415163207154\" width=\"30\" height=\"400\"></rect><rect x=\"568.5905330252382\" y=\"-530.7441697961092\" width=\"30\" height=\"400\"></rect><rect x=\"-23.64697572736094\" y=\"-222.97036672670902\" width=\"30\" height=\"400\"></rect><rect x=\"173.2673654609219\" y=\"-591.5552158794422\" width=\"30\" height=\"400\"></rect><rect x=\"-281.56832860545205\" y=\"-519.715798550512\" width=\"30\" height=\"400\"></rect><rect x=\"492.64210355622936\" y=\"205.6774980055967\" width=\"30\" height=\"400\"></rect><rect x=\"-53.64697572736094\" y=\"-222.97036672670902\" width=\"30\" height=\"400\"></rect><rect x=\"-311.56832860545205\" y=\"-474.3688606032858\" width=\"30\" height=\"400\"></rect><rect x=\"538.5905330252382\" y=\"-229.5997707811406\" width=\"30\" height=\"400\"></rect><rect x=\"604.883246826575\" y=\"86.74763779493185\" width=\"30\" height=\"400\"></rect><rect x=\"143.2673654609219\" y=\"-451.40761399652547\" width=\"30\" height=\"400\"></rect><rect x=\"-83.64697572736094\" y=\"-222.97036672670902\" width=\"30\" height=\"400\"></rect><rect x=\"-551.568328605452\" y=\"-339.8789529331563\" width=\"30\" height=\"400\"></rect><rect x=\"113.2673654609219\" y=\"-591.5552158794422\" width=\"30\" height=\"400\"></rect><rect x=\"363.2840264291606\" y=\"-482.22415163207154\" width=\"30\" height=\"400\"></rect><rect x=\"-341.56832860545205\" y=\"-397.1326980220163\" width=\"30\" height=\"400\"></rect><rect x=\"83.2673654609219\" y=\"-622.970366726709\" width=\"30\" height=\"400\"></rect><rect x=\"-671.568328605452\" y=\"-77.15093791337353\" width=\"30\" height=\"400\"></rect><rect x=\"53.267365460921894\" y=\"-622.970366726709\" width=\"30\" height=\"400\"></rect><rect x=\"-371.56832860545205\" y=\"-474.3688606032858\" width=\"30\" height=\"400\"></rect><rect x=\"462.64210355622936\" y=\"-162.47623589514842\" width=\"30\" height=\"400\"></rect><rect x=\"-701.568328605452\" y=\"-32.78929863697391\" width=\"30\" height=\"400\"></rect><rect x=\"-113.64697572736094\" y=\"-404.92852849709385\" width=\"30\" height=\"400\"></rect><rect x=\"673.4220986649187\" y=\"-381.0477018823776\" width=\"30\" height=\"400\"></rect><rect x=\"643.4220986649187\" y=\"-381.0477018823776\" width=\"30\" height=\"400\"></rect><rect x=\"-401.56832860545205\" y=\"-474.3688606032858\" width=\"30\" height=\"400\"></rect><rect x=\"-731.568328605452\" y=\"-102.14919679675421\" width=\"30\" height=\"400\"></rect><rect x=\"739.5481269230338\" y=\"-181.37776794376512\" width=\"30\" height=\"400\"></rect><rect x=\"613.4220986649187\" y=\"-313.25236220506815\" width=\"30\" height=\"400\"></rect><rect x=\"-581.568328605452\" y=\"-339.8789529331563\" width=\"30\" height=\"400\"></rect><rect x=\"23.267365460921894\" y=\"-622.970366726709\" width=\"30\" height=\"400\"></rect><rect x=\"-6.732634539078106\" y=\"-622.970366726709\" width=\"30\" height=\"400\"></rect><rect x=\"432.64210355622936\" y=\"-530.7441697961092\" width=\"30\" height=\"400\"></rect><rect x=\"-611.568328605452\" y=\"-446.838256305934\" width=\"30\" height=\"400\"></rect><rect x=\"-36.732634539078106\" y=\"-622.970366726709\" width=\"30\" height=\"400\"></rect><rect x=\"-66.7326345390781\" y=\"-622.970366726709\" width=\"30\" height=\"400\"></rect><rect x=\"316.95881792386234\" y=\"-460.9818510219063\" width=\"30\" height=\"400\"></rect><rect x=\"500.93099264265356\" y=\"-194.3225019944033\" width=\"30\" height=\"400\"></rect><rect x=\"470.93099264265356\" y=\"-562.4762358951484\" width=\"30\" height=\"400\"></rect><rect x=\"62.20093052349773\" y=\"-652.970366726709\" width=\"400\" height=\"30\"></rect><rect x=\"16.595100995180474\" y=\"-682.970366726709\" width=\"400\" height=\"30\"></rect><rect x=\"-466.7326345390781\" y=\"-549.715798550512\" width=\"400\" height=\"30\"></rect><rect x=\"-37.131902518860045\" y=\"-712.970366726709\" width=\"400\" height=\"30\"></rect><rect x=\"-337.79906947650227\" y=\"-652.970366726709\" width=\"400\" height=\"30\"></rect><rect x=\"144.7307195264433\" y=\"504.92890138013104\" width=\"120\" height=\"250\"></rect><rect x=\"-551.568328605452\" y=\"-459.8789529331563\" width=\"150\" height=\"120\"></rect><rect x=\"282.64210355622936\" y=\"-602.2241516320715\" width=\"150\" height=\"120\"></rect></svg>\n",
      "\n",
      "model evaluated on average in 0h 0m 2s\n",
      "average score: 36614.8\n",
      "\n",
      "best score evaluated in 0h 0m 2s\n",
      "best score: 39380\n",
      "expected score: 30000\n"
     ]
    }
   ],
   "source": [
    "solution(800, 50)"
   ]
  },
  {
   "cell_type": "code",
   "execution_count": 11,
   "id": "bff7e7b6",
   "metadata": {
    "scrolled": false
   },
   "outputs": [
    {
     "name": "stdout",
     "output_type": "stream",
     "text": [
      "best solution html svg representation\n",
      "<svg height=\"720px\" viewBox=\"-850 -850 1700 1700\" transform=\"scale(1,-1)\"><circle cx=\"0\" cy=\"0\" r=\"850\" fill=\"white\" stroke=\"red\" stroke-width=\"5px\"></circle><rect x=\"614.7153721892511\" y=\"39.76581306166139\" width=\"80\" height=\"450\"></rect><rect x=\"534.7153721892511\" y=\"-141.8120646054748\" width=\"80\" height=\"450\"></rect><rect x=\"-7.9067377768847535\" y=\"396.9371650494676\" width=\"80\" height=\"450\"></rect><rect x=\"426.9258958173201\" y=\"232.29475752771805\" width=\"80\" height=\"450\"></rect><rect x=\"-87.90673777688475\" y=\"306.0497294007803\" width=\"80\" height=\"450\"></rect><rect x=\"-167.90673777688477\" y=\"304.03333165519973\" width=\"80\" height=\"450\"></rect><rect x=\"-247.90673777688477\" y=\"307.55040842809456\" width=\"80\" height=\"450\"></rect><rect x=\"-327.90673777688477\" y=\"303.5437428747871\" width=\"80\" height=\"450\"></rect><rect x=\"346.9258958173201\" y=\"-143.95027059921972\" width=\"80\" height=\"450\"></rect><rect x=\"175.66488968383968\" y=\"360.63892343197415\" width=\"80\" height=\"450\"></rect><rect x=\"266.9258958173201\" y=\"-89.36107656802585\" width=\"80\" height=\"450\"></rect><rect x=\"-407.90673777688477\" y=\"282.4297730610157\" width=\"80\" height=\"450\"></rect><rect x=\"186.9258958173201\" y=\"-145.96666834480027\" width=\"80\" height=\"450\"></rect><rect x=\"-487.90673777688477\" y=\"231.13621844215584\" width=\"80\" height=\"450\"></rect><rect x=\"106.92589581732011\" y=\"-146.45625712521291\" width=\"80\" height=\"450\"></rect><rect x=\"26.92589581732011\" y=\"-145.96666834480027\" width=\"80\" height=\"450\"></rect><rect x=\"-53.07410418267989\" y=\"-167.57022693898432\" width=\"80\" height=\"450\"></rect><rect x=\"-133.0741041826799\" y=\"-218.86378155784416\" width=\"80\" height=\"450\"></rect><rect x=\"-567.9067377768847\" y=\"-113.4291206923308\" width=\"80\" height=\"450\"></rect><rect x=\"-213.0741041826799\" y=\"-145.96666834480027\" width=\"80\" height=\"450\"></rect><rect x=\"444.52001079095214\" y=\"-668.8637815578442\" width=\"80\" height=\"450\"></rect><rect x=\"-213.0741041826799\" y=\"-595.9666683448003\" width=\"80\" height=\"450\"></rect><rect x=\"-647.9067377768847\" y=\"-57.43190853014937\" width=\"80\" height=\"450\"></rect><rect x=\"-727.9067377768847\" y=\"-21.948286425613162\" width=\"80\" height=\"450\"></rect><rect x=\"-293.0741041826799\" y=\"-167.57022693898432\" width=\"80\" height=\"450\"></rect><rect x=\"364.52001079095214\" y=\"-596.4562571252129\" width=\"80\" height=\"450\"></rect><rect x=\"284.52001079095214\" y=\"-596.4562571252129\" width=\"80\" height=\"450\"></rect><rect x=\"-293.0741041826799\" y=\"-617.5702269389843\" width=\"80\" height=\"450\"></rect><rect x=\"712.1900968452637\" y=\"-141.88500448648767\" width=\"80\" height=\"450\"></rect><rect x=\"204.52001079095214\" y=\"-617.5702269389843\" width=\"80\" height=\"450\"></rect><rect x=\"-373.0741041826799\" y=\"-167.57022693898432\" width=\"80\" height=\"450\"></rect><rect x=\"-373.0741041826799\" y=\"-617.5702269389843\" width=\"80\" height=\"450\"></rect><rect x=\"-453.0741041826799\" y=\"-218.86378155784416\" width=\"80\" height=\"450\"></rect><rect x=\"124.52001079095214\" y=\"-596.4562571252129\" width=\"80\" height=\"450\"></rect><rect x=\"44.52001079095214\" y=\"-617.5702269389843\" width=\"80\" height=\"450\"></rect><rect x=\"-35.47998920904786\" y=\"-617.5702269389843\" width=\"80\" height=\"450\"></rect><rect x=\"-533.0741041826799\" y=\"-563.4291206923308\" width=\"80\" height=\"450\"></rect><rect x=\"-115.47998920904786\" y=\"-668.8637815578442\" width=\"80\" height=\"450\"></rect><rect x=\"85.6128110600622\" y=\"383.71001961880256\" width=\"80\" height=\"450\"></rect><rect x=\"-807.9067377768847\" y=\"-207.57317609128444\" width=\"80\" height=\"450\"></rect><rect x=\"-47.87683892756746\" y=\"-748.8637815578442\" width=\"450\" height=\"80\"></rect><rect x=\"-587.9067377768847\" y=\"-457.43190853014937\" width=\"20\" height=\"400\"></rect><rect x=\"-667.9067377768847\" y=\"-421.94828642561316\" width=\"20\" height=\"400\"></rect><rect x=\"-393.0741041826799\" y=\"-618.8637815578442\" width=\"20\" height=\"400\"></rect><rect x=\"692.1900968452637\" y=\"-360.2341869383386\" width=\"20\" height=\"400\"></rect><rect x=\"-607.9067377768847\" y=\"-457.43190853014937\" width=\"20\" height=\"400\"></rect><rect x=\"514.7153721892511\" y=\"-167.70524247228195\" width=\"20\" height=\"400\"></rect><rect x=\"350.4413552246549\" y=\"365.03150414824165\" width=\"20\" height=\"400\"></rect><rect x=\"382.53660896690104\" y=\"348.64162216739476\" width=\"20\" height=\"400\"></rect><rect x=\"672.1900968452637\" y=\"-360.2341869383386\" width=\"20\" height=\"400\"></rect><rect x=\"652.1900968452637\" y=\"-360.2341869383386\" width=\"20\" height=\"400\"></rect><rect x=\"-413.0741041826799\" y=\"-618.8637815578442\" width=\"20\" height=\"400\"></rect><rect x=\"328.6579998140378\" y=\"375.2016506468974\" width=\"20\" height=\"400\"></rect><rect x=\"-37.57968405652025\" y=\"-768.8637815578442\" width=\"400\" height=\"20\"></rect><rect x=\"-637.9067377768847\" y=\"-357.43190853014937\" width=\"30\" height=\"300\"></rect><rect x=\"289.14579196272007\" y=\"487.8108678309079\" width=\"30\" height=\"300\"></rect><rect x=\"484.71537218925107\" y=\"-67.70524247228195\" width=\"30\" height=\"300\"></rect><rect x=\"622.1900968452637\" y=\"-441.8120646054748\" width=\"30\" height=\"300\"></rect><rect x=\"-697.9067377768847\" y=\"-321.94828642561316\" width=\"30\" height=\"300\"></rect><rect x=\"592.1900968452637\" y=\"-441.8120646054748\" width=\"30\" height=\"300\"></rect><rect x=\"799.7404488280788\" y=\"-115.52564520080756\" width=\"30\" height=\"300\"></rect><rect x=\"529.1919743093998\" y=\"340.1596174923528\" width=\"30\" height=\"300\"></rect><rect x=\"-347.87683892756746\" y=\"-698.8637815578442\" width=\"300\" height=\"30\"></rect><rect x=\"-347.87683892756746\" y=\"-728.8637815578442\" width=\"300\" height=\"30\"></rect><rect x=\"-9.6266911110784\" y=\"-798.8637815578442\" width=\"300\" height=\"30\"></rect><rect x=\"144.52001079095214\" y=\"-647.5702269389843\" width=\"300\" height=\"30\"></rect><rect x=\"-415.47998920904786\" y=\"-648.8637815578442\" width=\"300\" height=\"30\"></rect><rect x=\"-543.0741041826799\" y=\"-577.4319085301494\" width=\"10\" height=\"120\"></rect><rect x=\"-817.9067377768847\" y=\"56.54870054546947\" width=\"10\" height=\"120\"></rect><rect x=\"798.6508791964011\" y=\"-261.8850044864877\" width=\"10\" height=\"120\"></rect><rect x=\"-497.90673777688477\" y=\"550.6776905452862\" width=\"10\" height=\"120\"></rect><rect x=\"-817.9067377768847\" y=\"-63.45129945453053\" width=\"10\" height=\"120\"></rect><rect x=\"408.61058060860154\" y=\"619.7737368969849\" width=\"10\" height=\"120\"></rect><rect x=\"-507.90673777688477\" y=\"481.24771739196046\" width=\"10\" height=\"120\"></rect><rect x=\"-423.0741041826799\" y=\"-338.86378155784416\" width=\"10\" height=\"120\"></rect><rect x=\"594.0797799383333\" y=\"477.98630374754805\" width=\"10\" height=\"120\"></rect><rect x=\"788.6508791964011\" y=\"-261.8850044864877\" width=\"10\" height=\"120\"></rect><rect x=\"-827.9067377768847\" y=\"4.812760635628649\" width=\"10\" height=\"120\"></rect><rect x=\"-543.0741041826799\" y=\"-233.4291206923308\" width=\"10\" height=\"120\"></rect><rect x=\"582.1900968452637\" y=\"-261.8120646054748\" width=\"10\" height=\"120\"></rect><rect x=\"831.7520619346631\" y=\"-1.8752090848699083\" width=\"10\" height=\"120\"></rect><rect x=\"604.7153721892511\" y=\"357.98630374754805\" width=\"10\" height=\"120\"></rect><rect x=\"474.71537218925107\" y=\"112.29475752771805\" width=\"10\" height=\"120\"></rect><rect x=\"-543.0741041826799\" y=\"-353.4291206923308\" width=\"10\" height=\"120\"></rect><rect x=\"274.13717863686094\" y=\"681.103029401515\" width=\"10\" height=\"120\"></rect><rect x=\"72.13694966653146\" y=\"726.0221755364795\" width=\"10\" height=\"120\"></rect><rect x=\"570.5737369097767\" y=\"500.83342050071485\" width=\"10\" height=\"120\"></rect><rect x=\"-707.9067377768847\" y=\"-141.94828642561316\" width=\"10\" height=\"120\"></rect><rect x=\"-517.9067377768847\" y=\"552.9191148890908\" width=\"10\" height=\"120\"></rect><rect x=\"-717.9067377768847\" y=\"-141.94828642561316\" width=\"10\" height=\"120\"></rect><rect x=\"464.71537218925107\" y=\"112.29475752771805\" width=\"10\" height=\"120\"></rect><rect x=\"572.1900968452637\" y=\"-261.8120646054748\" width=\"10\" height=\"120\"></rect><rect x=\"474.71537218925107\" y=\"-7.705242472281952\" width=\"10\" height=\"120\"></rect><rect x=\"-707.9067377768847\" y=\"-327.57317609128444\" width=\"10\" height=\"120\"></rect><rect x=\"-817.9067377768847\" y=\"-183.45129945453053\" width=\"10\" height=\"120\"></rect><rect x=\"-527.9067377768847\" y=\"518.4832228515334\" width=\"10\" height=\"120\"></rect><rect x=\"778.6508791964011\" y=\"-261.8850044864877\" width=\"10\" height=\"120\"></rect><rect x=\"562.1900968452637\" y=\"-287.70524247228195\" width=\"10\" height=\"120\"></rect><rect x=\"-433.0741041826799\" y=\"-338.86378155784416\" width=\"10\" height=\"120\"></rect><rect x=\"-537.9067377768847\" y=\"512.2860737855407\" width=\"10\" height=\"120\"></rect><rect x=\"279.14579196272007\" y=\"561.103029401515\" width=\"10\" height=\"120\"></rect><rect x=\"-423.0741041826799\" y=\"-458.86378155784416\" width=\"10\" height=\"120\"></rect><rect x=\"-463.0741041826799\" y=\"111.13621844215584\" width=\"10\" height=\"120\"></rect><rect x=\"-837.9067377768847\" y=\"-14.84421836047008\" width=\"10\" height=\"120\"></rect><rect x=\"768.6508791964011\" y=\"-261.8850044864877\" width=\"10\" height=\"120\"></rect><rect x=\"-547.9067377768847\" y=\"466.19188848568547\" width=\"10\" height=\"120\"></rect><rect x=\"-553.0741041826799\" y=\"-233.4291206923308\" width=\"10\" height=\"120\"></rect><rect x=\"-557.9067377768847\" y=\"511.1791628176112\" width=\"10\" height=\"120\"></rect><rect x=\"582.1900968452637\" y=\"-381.8120646054748\" width=\"10\" height=\"120\"></rect><rect x=\"-553.0741041826799\" y=\"-577.4319085301494\" width=\"10\" height=\"120\"></rect><rect x=\"464.71537218925107\" y=\"-7.705242472281952\" width=\"10\" height=\"120\"></rect><rect x=\"572.1900968452637\" y=\"-407.70524247228195\" width=\"10\" height=\"120\"></rect><rect x=\"-617.9067377768847\" y=\"-477.43190853014937\" width=\"10\" height=\"120\"></rect><rect x=\"552.1900968452637\" y=\"-261.8120646054748\" width=\"10\" height=\"120\"></rect><rect x=\"696.5432355405956\" y=\"352.54275606745523\" width=\"10\" height=\"120\"></rect><rect x=\"758.6508791964011\" y=\"-261.8850044864877\" width=\"10\" height=\"120\"></rect><rect x=\"627.8614301427339\" y=\"-561.8120646054748\" width=\"10\" height=\"120\"></rect><rect x=\"-627.9067377768847\" y=\"-477.43190853014937\" width=\"10\" height=\"120\"></rect><rect x=\"370.56185798432335\" y=\"640.0478091853957\" width=\"10\" height=\"120\"></rect><rect x=\"-425.47998920904786\" y=\"-683.4291206923308\" width=\"10\" height=\"120\"></rect><rect x=\"748.6508791964011\" y=\"-261.8850044864877\" width=\"10\" height=\"120\"></rect><rect x=\"454.71537218925107\" y=\"112.29475752771805\" width=\"10\" height=\"120\"></rect><rect x=\"515.4958308736984\" y=\"548.0973968923703\" width=\"10\" height=\"120\"></rect><rect x=\"-677.9067377768847\" y=\"-447.57317609128444\" width=\"10\" height=\"120\"></rect><rect x=\"75.6128110600622\" y=\"606.0221755364795\" width=\"10\" height=\"120\"></rect><rect x=\"75.6128110600622\" y=\"486.0221755364795\" width=\"10\" height=\"120\"></rect><rect x=\"-127.90673777688475\" y=\"782.0187405075303\" width=\"120\" height=\"10\"></rect><rect x=\"141.22668869000387\" y=\"-808.8637815578442\" width=\"120\" height=\"10\"></rect><rect x=\"-127.90673777688475\" y=\"796.0950179705392\" width=\"120\" height=\"10\"></rect><rect x=\"-607.9067377768847\" y=\"456.19188848568547\" width=\"120\" height=\"10\"></rect><rect x=\"-607.9067377768847\" y=\"446.19188848568547\" width=\"120\" height=\"10\"></rect><rect x=\"-127.90673777688475\" y=\"815.4407080128957\" width=\"120\" height=\"10\"></rect><rect x=\"146.9258958173201\" y=\"350.63892343197415\" width=\"120\" height=\"10\"></rect><rect x=\"-607.9067377768847\" y=\"436.19188848568547\" width=\"120\" height=\"10\"></rect><rect x=\"324.52001079095214\" y=\"-657.5702269389843\" width=\"120\" height=\"10\"></rect><rect x=\"-167.87683892756746\" y=\"-738.8637815578442\" width=\"120\" height=\"10\"></rect><rect x=\"204.52001079095214\" y=\"-657.5702269389843\" width=\"120\" height=\"10\"></rect><rect x=\"-157.57968405652025\" y=\"-758.8637815578442\" width=\"120\" height=\"10\"></rect><rect x=\"-157.57968405652025\" y=\"-768.8637815578442\" width=\"120\" height=\"10\"></rect><rect x=\"-545.4799892090479\" y=\"-587.4319085301494\" width=\"120\" height=\"10\"></rect><rect x=\"21.22668869000387\" y=\"-808.8637815578442\" width=\"120\" height=\"10\"></rect><rect x=\"146.9258958173201\" y=\"340.63892343197415\" width=\"120\" height=\"10\"></rect><rect x=\"-129.6266911110784\" y=\"-778.8637815578442\" width=\"120\" height=\"10\"></rect><rect x=\"-249.6266911110784\" y=\"-778.8637815578442\" width=\"120\" height=\"10\"></rect><rect x=\"-287.87683892756746\" y=\"-738.8637815578442\" width=\"120\" height=\"10\"></rect><rect x=\"-717.9067377768847\" y=\"-261.94828642561316\" width=\"10\" height=\"120\"></rect><rect x=\"-553.0741041826799\" y=\"-353.4291206923308\" width=\"10\" height=\"120\"></rect><rect x=\"691.338096566608\" y=\"-480.2341869383386\" width=\"10\" height=\"120\"></rect><rect x=\"-687.9067377768847\" y=\"-441.94828642561316\" width=\"10\" height=\"120\"></rect><rect x=\"584.0797799383333\" y=\"380.83342050071485\" width=\"10\" height=\"120\"></rect><rect x=\"-727.9067377768847\" y=\"-327.57317609128444\" width=\"10\" height=\"120\"></rect><rect x=\"-473.0741041826799\" y=\"111.13621844215584\" width=\"10\" height=\"120\"></rect><rect x=\"454.71537218925107\" y=\"-7.705242472281952\" width=\"10\" height=\"120\"></rect><rect x=\"-463.0741041826799\" y=\"-8.863781557844163\" width=\"10\" height=\"120\"></rect><rect x=\"-125.47998920904786\" y=\"-338.86378155784416\" width=\"10\" height=\"120\"></rect><rect x=\"-567.9067377768847\" y=\"492.08468266155796\" width=\"10\" height=\"120\"></rect><rect x=\"574.0797799383333\" y=\"380.83342050071485\" width=\"10\" height=\"120\"></rect><rect x=\"279.14579196272007\" y=\"441.10302940151496\" width=\"10\" height=\"120\"></rect><rect x=\"444.71537218925107\" y=\"112.29475752771805\" width=\"10\" height=\"120\"></rect><rect x=\"-563.0741041826799\" y=\"-233.4291206923308\" width=\"10\" height=\"120\"></rect><rect x=\"542.1900968452637\" y=\"-287.70524247228195\" width=\"10\" height=\"120\"></rect><rect x=\"738.6508791964011\" y=\"-261.8850044864877\" width=\"10\" height=\"120\"></rect><rect x=\"416.9258958173201\" y=\"499.77373689698493\" width=\"10\" height=\"120\"></rect><rect x=\"582.1900968452637\" y=\"-527.705242472282\" width=\"10\" height=\"120\"></rect><rect x=\"-483.0741041826799\" y=\"111.13621844215584\" width=\"10\" height=\"120\"></rect><rect x=\"562.1900968452637\" y=\"-407.70524247228195\" width=\"10\" height=\"120\"></rect><rect x=\"728.6508791964011\" y=\"-261.8850044864877\" width=\"10\" height=\"120\"></rect><rect x=\"434.71537218925107\" y=\"112.29475752771805\" width=\"10\" height=\"120\"></rect><rect x=\"-827.9067377768847\" y=\"-134.84421836047008\" width=\"10\" height=\"120\"></rect><rect x=\"718.6508791964011\" y=\"-261.8850044864877\" width=\"10\" height=\"120\"></rect><rect x=\"572.1900968452637\" y=\"-527.705242472282\" width=\"10\" height=\"120\"></rect><rect x=\"552.1900968452637\" y=\"-407.70524247228195\" width=\"10\" height=\"120\"></rect><rect x=\"642.1900968452637\" y=\"-80.23418693833861\" width=\"10\" height=\"120\"></rect><rect x=\"444.71537218925107\" y=\"-7.705242472281952\" width=\"10\" height=\"120\"></rect><rect x=\"-737.9067377768847\" y=\"-327.57317609128444\" width=\"10\" height=\"120\"></rect><rect x=\"269.14579196272007\" y=\"561.103029401515\" width=\"10\" height=\"120\"></rect><rect x=\"-545.4799892090479\" y=\"-597.4319085301494\" width=\"120\" height=\"10\"></rect><rect x=\"-247.90673777688477\" y=\"789.7866836734125\" width=\"120\" height=\"10\"></rect><rect x=\"-235.47998920904786\" y=\"-658.8637815578442\" width=\"120\" height=\"10\"></rect><rect x=\"-167.87683892756746\" y=\"-748.8637815578442\" width=\"120\" height=\"10\"></rect><rect x=\"-545.4799892090479\" y=\"-607.4319085301494\" width=\"120\" height=\"10\"></rect><rect x=\"-129.6266911110784\" y=\"-788.8637815578442\" width=\"120\" height=\"10\"></rect><rect x=\"-129.6266911110784\" y=\"-798.8637815578442\" width=\"120\" height=\"10\"></rect><rect x=\"146.9258958173201\" y=\"330.63892343197415\" width=\"120\" height=\"10\"></rect><rect x=\"55.664889683839675\" y=\"373.71001961880256\" width=\"120\" height=\"10\"></rect><rect x=\"-98.77331130999613\" y=\"-808.8637815578442\" width=\"120\" height=\"10\"></rect></svg>\n",
      "\n",
      "model evaluated on average in 0h 0m 3s\n",
      "average score: 459784.2\n",
      "\n",
      "best score evaluated in 0h 0m 3s\n",
      "best score: 498820\n",
      "expected score: None\n"
     ]
    }
   ],
   "source": [
    "solution(850, 50)"
   ]
  },
  {
   "cell_type": "code",
   "execution_count": 12,
   "id": "131f43a1",
   "metadata": {},
   "outputs": [
    {
     "name": "stdout",
     "output_type": "stream",
     "text": [
      "best solution html svg representation\n",
      "<svg height=\"720px\" viewBox=\"-1000 -1000 2000 2000\" transform=\"scale(1,-1)\"><circle cx=\"0\" cy=\"0\" r=\"1000\" fill=\"white\" stroke=\"red\" stroke-width=\"5px\"></circle><rect x=\"152.01907549930172\" y=\"700.0758372490909\" width=\"160\" height=\"250\"></rect><rect x=\"-7.980924500698279\" y=\"562.7165236029352\" width=\"160\" height=\"250\"></rect><rect x=\"-167.98092450069828\" y=\"527.2676024356292\" width=\"160\" height=\"250\"></rect><rect x=\"316.85866349141213\" y=\"628.9799855816879\" width=\"160\" height=\"250\"></rect><rect x=\"666.6499344125222\" y=\"312.71652360293524\" width=\"160\" height=\"250\"></rect><rect x=\"506.64993441252216\" y=\"277.2676024356292\" width=\"160\" height=\"250\"></rect><rect x=\"346.64993441252216\" y=\"277.2676024356292\" width=\"160\" height=\"250\"></rect><rect x=\"-327.9809245006983\" y=\"451.16816523448085\" width=\"160\" height=\"250\"></rect><rect x=\"186.64993441252216\" y=\"277.2676024356292\" width=\"160\" height=\"250\"></rect><rect x=\"809.8832404777085\" y=\"-6.4296819387478195\" width=\"160\" height=\"250\"></rect><rect x=\"649.8832404777085\" y=\"27.267602435629215\" width=\"160\" height=\"250\"></rect><rect x=\"-487.9809245006983\" y=\"490.8799023805327\" width=\"160\" height=\"250\"></rect><rect x=\"26.649934412522157\" y=\"277.2676024356292\" width=\"160\" height=\"250\"></rect><rect x=\"-133.35006558747784\" y=\"201.16816523448085\" width=\"160\" height=\"250\"></rect><rect x=\"489.88324047770845\" y=\"27.267602435629215\" width=\"160\" height=\"250\"></rect><rect x=\"-293.35006558747784\" y=\"201.16816523448085\" width=\"160\" height=\"250\"></rect><rect x=\"329.88324047770845\" y=\"-48.83183476551915\" width=\"160\" height=\"250\"></rect><rect x=\"169.88324047770845\" y=\"-48.83183476551915\" width=\"160\" height=\"250\"></rect><rect x=\"794.3057867008213\" y=\"-298.83183476551915\" width=\"160\" height=\"250\"></rect><rect x=\"9.883240477708455\" y=\"-48.83183476551915\" width=\"160\" height=\"250\"></rect><rect x=\"634.3057867008213\" y=\"-298.83183476551915\" width=\"160\" height=\"250\"></rect><rect x=\"-647.9809245006983\" y=\"378.8111457579372\" width=\"160\" height=\"250\"></rect><rect x=\"-150.11675952229155\" y=\"-48.83183476551915\" width=\"160\" height=\"250\"></rect><rect x=\"-453.35006558747784\" y=\"128.8111457579372\" width=\"160\" height=\"250\"></rect><rect x=\"474.3057867008213\" y=\"-298.83183476551915\" width=\"160\" height=\"250\"></rect><rect x=\"314.3057867008213\" y=\"-298.83183476551915\" width=\"160\" height=\"250\"></rect><rect x=\"154.30578670082127\" y=\"-298.83183476551915\" width=\"160\" height=\"250\"></rect><rect x=\"-613.3500655874778\" y=\"128.8111457579372\" width=\"160\" height=\"250\"></rect><rect x=\"-310.11675952229155\" y=\"-121.1888542420628\" width=\"160\" height=\"250\"></rect><rect x=\"675.9327826732924\" y=\"-548.8318347655191\" width=\"160\" height=\"250\"></rect><rect x=\"-470.11675952229155\" y=\"-121.1888542420628\" width=\"160\" height=\"250\"></rect><rect x=\"-5.6942132991787275\" y=\"-371.1888542420628\" width=\"160\" height=\"250\"></rect><rect x=\"-165.69421329917873\" y=\"-371.1888542420628\" width=\"160\" height=\"250\"></rect><rect x=\"-807.9809245006983\" y=\"237.64634228092928\" width=\"160\" height=\"250\"></rect><rect x=\"-325.6942132991787\" y=\"-371.1888542420628\" width=\"160\" height=\"250\"></rect><rect x=\"-630.1167595222915\" y=\"-121.1888542420628\" width=\"160\" height=\"250\"></rect><rect x=\"-485.6942132991787\" y=\"-371.1888542420628\" width=\"160\" height=\"250\"></rect><rect x=\"-790.1167595222915\" y=\"-12.353657719070725\" width=\"160\" height=\"250\"></rect><rect x=\"515.9327826732924\" y=\"-548.8318347655191\" width=\"160\" height=\"250\"></rect><rect x=\"-645.6942132991787\" y=\"-371.1888542420628\" width=\"160\" height=\"250\"></rect><rect x=\"355.9327826732924\" y=\"-621.1888542420628\" width=\"160\" height=\"250\"></rect><rect x=\"-805.6942132991787\" y=\"-262.3536577190707\" width=\"160\" height=\"250\"></rect><rect x=\"195.93278267329242\" y=\"-621.1888542420628\" width=\"160\" height=\"250\"></rect><rect x=\"35.93278267329242\" y=\"-621.1888542420628\" width=\"160\" height=\"250\"></rect><rect x=\"-124.06721732670758\" y=\"-621.1888542420628\" width=\"160\" height=\"250\"></rect><rect x=\"-284.0672173267076\" y=\"-621.1888542420628\" width=\"160\" height=\"250\"></rect><rect x=\"330.94804230631354\" y=\"-871.1888542420628\" width=\"160\" height=\"250\"></rect><rect x=\"-444.0672173267076\" y=\"-621.1888542420628\" width=\"160\" height=\"250\"></rect><rect x=\"-965.6942132991787\" y=\"-36.008322502558116\" width=\"160\" height=\"250\"></rect><rect x=\"-604.0672173267076\" y=\"-621.1888542420628\" width=\"160\" height=\"250\"></rect><rect x=\"170.94804230631354\" y=\"-871.1888542420628\" width=\"160\" height=\"250\"></rect><rect x=\"10.948042306313539\" y=\"-871.1888542420628\" width=\"160\" height=\"250\"></rect><rect x=\"-149.05195769368646\" y=\"-871.1888542420628\" width=\"160\" height=\"250\"></rect><rect x=\"-309.05195769368646\" y=\"-871.1888542420628\" width=\"160\" height=\"250\"></rect><rect x=\"-764.0672173267076\" y=\"-621.1888542420628\" width=\"160\" height=\"250\"></rect><rect x=\"-97.98092450069828\" y=\"826.8177801353199\" width=\"250\" height=\"160\"></rect><rect x=\"-469.05195769368646\" y=\"-821.1888542420628\" width=\"160\" height=\"200\"></rect><rect x=\"-367.9809245006983\" y=\"764.2240772016628\" width=\"200\" height=\"160\"></rect><rect x=\"-925.6942132991787\" y=\"-236.00832250255812\" width=\"120\" height=\"200\"></rect><rect x=\"491.77846666254493\" y=\"686.1006428446309\" width=\"100\" height=\"120\"></rect><rect x=\"643.4137319179605\" y=\"-668.8318347655191\" width=\"100\" height=\"120\"></rect><rect x=\"216.85866349141213\" y=\"580.0758372490909\" width=\"100\" height=\"120\"></rect><rect x=\"591.8594733867608\" y=\"602.032180089637\" width=\"100\" height=\"120\"></rect><rect x=\"-905.6942132991787\" y=\"-356.00832250255814\" width=\"100\" height=\"120\"></rect><rect x=\"543.4137319179605\" y=\"-668.8318347655191\" width=\"100\" height=\"120\"></rect><rect x=\"-589.0519576936865\" y=\"-721.1888542420628\" width=\"120\" height=\"100\"></rect><rect x=\"-607.9809245006983\" y=\"676.951304621295\" width=\"120\" height=\"100\"></rect><rect x=\"118.31116087164133\" y=\"-971.1888542420628\" width=\"120\" height=\"100\"></rect></svg>\n",
      "\n",
      "model evaluated on average in 0h 0m 2s\n",
      "average score: 27270.0\n",
      "\n",
      "best score evaluated in 0h 0m 2s\n",
      "best score: 29160\n",
      "expected score: 17500\n"
     ]
    }
   ],
   "source": [
    "solution(1000, 50)"
   ]
  },
  {
   "cell_type": "code",
   "execution_count": 13,
   "id": "bf39a210",
   "metadata": {},
   "outputs": [
    {
     "name": "stdout",
     "output_type": "stream",
     "text": [
      "best solution html svg representation\n",
      "<svg height=\"720px\" viewBox=\"-1100 -1100 2200 2200\" transform=\"scale(1,-1)\"><circle cx=\"0\" cy=\"0\" r=\"1100\" fill=\"white\" stroke=\"red\" stroke-width=\"5px\"></circle><rect x=\"104.83859018625111\" y=\"817.6425062483036\" width=\"160\" height=\"250\"></rect><rect x=\"-55.16140981374889\" y=\"837.9809807157401\" width=\"160\" height=\"250\"></rect><rect x=\"-215.1614098137489\" y=\"791.043815324989\" width=\"160\" height=\"250\"></rect><rect x=\"-375.1614098137489\" y=\"600.8383163901775\" width=\"160\" height=\"250\"></rect><rect x=\"464.90393003253166\" y=\"655.259674474621\" width=\"160\" height=\"250\"></rect><rect x=\"701.5134463652455\" y=\"433.95510213162186\" width=\"160\" height=\"250\"></rect><rect x=\"541.5134463652455\" y=\"405.25967447462097\" width=\"160\" height=\"250\"></rect><rect x=\"304.90393003253166\" y=\"541.043815324989\" width=\"160\" height=\"250\"></rect><rect x=\"862.6263228788531\" y=\"155.25967447462097\" width=\"160\" height=\"250\"></rect><rect x=\"702.6263228788531\" y=\"155.25967447462097\" width=\"160\" height=\"250\"></rect><rect x=\"381.5134463652455\" y=\"291.04381532498905\" width=\"160\" height=\"250\"></rect><rect x=\"-535.1614098137488\" y=\"480.412466933646\" width=\"160\" height=\"250\"></rect><rect x=\"144.90393003253166\" y=\"350.8383163901775\" width=\"160\" height=\"250\"></rect><rect x=\"542.6263228788531\" y=\"41.043815324989055\" width=\"160\" height=\"250\"></rect><rect x=\"382.6263228788531\" y=\"41.043815324989055\" width=\"160\" height=\"250\"></rect><rect x=\"-695.1614098137488\" y=\"287.99102765517705\" width=\"160\" height=\"250\"></rect><rect x=\"-855.1614098137488\" y=\"258.4798396597585\" width=\"160\" height=\"250\"></rect><rect x=\"-15.096069967468338\" y=\"350.8383163901775\" width=\"160\" height=\"250\"></rect><rect x=\"919.9709777980438\" y=\"-208.95618467501095\" width=\"160\" height=\"250\"></rect><rect x=\"222.6263228788531\" y=\"37.99102765517705\" width=\"160\" height=\"250\"></rect><rect x=\"62.6263228788531\" y=\"8.479839659758511\" width=\"160\" height=\"250\"></rect><rect x=\"759.9709777980438\" y=\"-241.5201603402415\" width=\"160\" height=\"250\"></rect><rect x=\"-175.09606996746834\" y=\"350.8383163901775\" width=\"160\" height=\"250\"></rect><rect x=\"599.9709777980438\" y=\"-241.5201603402415\" width=\"160\" height=\"250\"></rect><rect x=\"-97.3736771211469\" y=\"37.99102765517705\" width=\"160\" height=\"250\"></rect><rect x=\"-257.3736771211469\" y=\"8.479839659758511\" width=\"160\" height=\"250\"></rect><rect x=\"-417.3736771211469\" y=\"8.479839659758511\" width=\"160\" height=\"250\"></rect><rect x=\"-577.3736771211469\" y=\"8.479839659758511\" width=\"160\" height=\"250\"></rect><rect x=\"439.9709777980438\" y=\"-241.5201603402415\" width=\"160\" height=\"250\"></rect><rect x=\"-1015.1614098137488\" y=\"12.113322645859569\" width=\"160\" height=\"250\"></rect><rect x=\"-737.3736771211469\" y=\"8.479839659758511\" width=\"160\" height=\"250\"></rect><rect x=\"824.0771981806627\" y=\"-491.5201603402415\" width=\"160\" height=\"250\"></rect><rect x=\"279.9709777980438\" y=\"-241.5201603402415\" width=\"160\" height=\"250\"></rect><rect x=\"119.9709777980438\" y=\"-241.5201603402415\" width=\"160\" height=\"250\"></rect><rect x=\"-695.1614098137488\" y=\"593.2911809223344\" width=\"160\" height=\"250\"></rect><rect x=\"664.0771981806627\" y=\"-491.5201603402415\" width=\"160\" height=\"250\"></rect><rect x=\"-40.029022201956195\" y=\"-241.5201603402415\" width=\"160\" height=\"250\"></rect><rect x=\"504.07719818066266\" y=\"-491.5201603402415\" width=\"160\" height=\"250\"></rect><rect x=\"-200.0290222019562\" y=\"-241.5201603402415\" width=\"160\" height=\"250\"></rect><rect x=\"-360.0290222019562\" y=\"-241.5201603402415\" width=\"160\" height=\"250\"></rect><rect x=\"344.07719818066266\" y=\"-491.5201603402415\" width=\"160\" height=\"250\"></rect><rect x=\"184.07719818066266\" y=\"-491.5201603402415\" width=\"160\" height=\"250\"></rect><rect x=\"24.077198180662663\" y=\"-491.5201603402415\" width=\"160\" height=\"250\"></rect><rect x=\"652.494831866014\" y=\"-741.5201603402415\" width=\"160\" height=\"250\"></rect><rect x=\"-135.92280181933734\" y=\"-491.5201603402415\" width=\"160\" height=\"250\"></rect><rect x=\"-520.0290222019562\" y=\"-241.5201603402415\" width=\"160\" height=\"250\"></rect><rect x=\"492.494831866014\" y=\"-741.5201603402415\" width=\"160\" height=\"250\"></rect><rect x=\"-680.0290222019562\" y=\"-241.5201603402415\" width=\"160\" height=\"250\"></rect><rect x=\"-840.0290222019562\" y=\"-241.5201603402415\" width=\"160\" height=\"250\"></rect><rect x=\"-295.92280181933734\" y=\"-491.5201603402415\" width=\"160\" height=\"250\"></rect><rect x=\"332.494831866014\" y=\"-741.5201603402415\" width=\"160\" height=\"250\"></rect><rect x=\"-455.92280181933734\" y=\"-491.5201603402415\" width=\"160\" height=\"250\"></rect><rect x=\"-615.9228018193373\" y=\"-491.5201603402415\" width=\"160\" height=\"250\"></rect><rect x=\"172.494831866014\" y=\"-741.5201603402415\" width=\"160\" height=\"250\"></rect><rect x=\"316.32737863664914\" y=\"-991.5201603402415\" width=\"160\" height=\"250\"></rect><rect x=\"12.49483186601401\" y=\"-741.5201603402415\" width=\"160\" height=\"250\"></rect><rect x=\"-147.505168133986\" y=\"-741.5201603402415\" width=\"160\" height=\"250\"></rect><rect x=\"156.32737863664914\" y=\"-991.5201603402415\" width=\"160\" height=\"250\"></rect><rect x=\"-1000.0290222019562\" y=\"-237.88667735414043\" width=\"160\" height=\"250\"></rect><rect x=\"-307.505168133986\" y=\"-741.5201603402415\" width=\"160\" height=\"250\"></rect><rect x=\"-775.9228018193373\" y=\"-491.5201603402415\" width=\"160\" height=\"250\"></rect><rect x=\"-467.505168133986\" y=\"-741.5201603402415\" width=\"160\" height=\"250\"></rect><rect x=\"-627.505168133986\" y=\"-741.5201603402415\" width=\"160\" height=\"250\"></rect><rect x=\"-3.6726213633508564\" y=\"-991.5201603402415\" width=\"160\" height=\"250\"></rect><rect x=\"-935.9228018193373\" y=\"-491.5201603402415\" width=\"160\" height=\"250\"></rect><rect x=\"-163.67262136335086\" y=\"-991.5201603402415\" width=\"160\" height=\"250\"></rect><rect x=\"54.90393003253166\" y=\"631.043815324989\" width=\"250\" height=\"160\"></rect><rect x=\"-413.67262136335086\" y=\"-901.5201603402415\" width=\"250\" height=\"160\"></rect><rect x=\"-425.09606996746834\" y=\"320.412466933646\" width=\"250\" height=\"160\"></rect><rect x=\"-747.505168133986\" y=\"-741.5201603402415\" width=\"120\" height=\"250\"></rect><rect x=\"-533.6726213633508\" y=\"-891.5201603402415\" width=\"120\" height=\"150\"></rect><rect x=\"277.1678325236126\" y=\"875.7961360857701\" width=\"120\" height=\"150\"></rect><rect x=\"-335.1614098137489\" y=\"873.2725686529141\" width=\"120\" height=\"150\"></rect><rect x=\"-65.09606996746834\" y=\"641.043815324989\" width=\"120\" height=\"150\"></rect><rect x=\"-495.1614098137489\" y=\"828.4348142210223\" width=\"120\" height=\"150\"></rect><rect x=\"-815.1614098137488\" y=\"582.6305597149753\" width=\"120\" height=\"150\"></rect></svg>\n",
      "\n",
      "model evaluated on average in 0h 0m 2s\n",
      "average score: 37595.6\n",
      "\n",
      "best score evaluated in 0h 0m 2s\n",
      "best score: 41740\n",
      "expected score: 25000\n"
     ]
    }
   ],
   "source": [
    "solution(1100, 50)"
   ]
  },
  {
   "cell_type": "code",
   "execution_count": 14,
   "id": "d1034164",
   "metadata": {},
   "outputs": [
    {
     "name": "stdout",
     "output_type": "stream",
     "text": [
      "best solution html svg representation\n",
      "<svg height=\"720px\" viewBox=\"-1200 -1200 2400 2400\" transform=\"scale(1,-1)\"><circle cx=\"0\" cy=\"0\" r=\"1200\" fill=\"white\" stroke=\"red\" stroke-width=\"5px\"></circle><rect x=\"608.6921783768915\" y=\"671.4729159894983\" width=\"160\" height=\"250\"></rect><rect x=\"315.8813679810451\" y=\"851.6065194108508\" width=\"160\" height=\"250\"></rect><rect x=\"135.49475318173677\" y=\"913.0489460216472\" width=\"160\" height=\"250\"></rect><rect x=\"947.0958069669002\" y=\"212.9674655915985\" width=\"160\" height=\"250\"></rect><rect x=\"155.88136798104512\" y=\"663.0489460216472\" width=\"160\" height=\"250\"></rect><rect x=\"-24.50524681826323\" y=\"917.3237573359415\" width=\"160\" height=\"250\"></rect><rect x=\"-24.50524681826323\" y=\"664.0223576645408\" width=\"160\" height=\"250\"></rect><rect x=\"448.69217837689155\" y=\"601.6065194108508\" width=\"160\" height=\"250\"></rect><rect x=\"-184.50524681826323\" y=\"915.1855993666236\" width=\"160\" height=\"250\"></rect><rect x=\"288.69217837689155\" y=\"413.0489460216472\" width=\"160\" height=\"250\"></rect><rect x=\"128.69217837689155\" y=\"413.0489460216472\" width=\"160\" height=\"250\"></rect><rect x=\"-344.50524681826323\" y=\"763.3280909545288\" width=\"160\" height=\"250\"></rect><rect x=\"-504.50524681826323\" y=\"834.1617748698343\" width=\"160\" height=\"250\"></rect><rect x=\"-31.307821623108453\" y=\"414.0223576645408\" width=\"160\" height=\"250\"></rect><rect x=\"-664.5052468182632\" y=\"697.7021291962061\" width=\"160\" height=\"250\"></rect><rect x=\"787.0958069669002\" y=\"421.47291598949835\" width=\"160\" height=\"250\"></rect><rect x=\"787.0958069669002\" y=\"163.04894602164723\" width=\"160\" height=\"250\"></rect><rect x=\"627.0958069669002\" y=\"55.54817392552002\" width=\"160\" height=\"250\"></rect><rect x=\"467.0958069669002\" y=\"163.04894602164723\" width=\"160\" height=\"250\"></rect><rect x=\"-824.5052468182632\" y=\"593.0725097730382\" width=\"160\" height=\"250\"></rect><rect x=\"-984.5052468182632\" y=\"374.4919119473834\" width=\"160\" height=\"250\"></rect><rect x=\"-191.30782162310845\" y=\"447.7021291962061\" width=\"160\" height=\"250\"></rect><rect x=\"-351.30782162310845\" y=\"447.7021291962061\" width=\"160\" height=\"250\"></rect><rect x=\"-191.30782162310845\" y=\"197.7021291962061\" width=\"160\" height=\"250\"></rect><rect x=\"1024.140400179092\" y=\"-194.45182607447998\" width=\"160\" height=\"250\"></rect><rect x=\"-351.30782162310845\" y=\"197.7021291962061\" width=\"160\" height=\"250\"></rect><rect x=\"307.0958069669002\" y=\"163.04894602164723\" width=\"160\" height=\"250\"></rect><rect x=\"147.09580696690023\" y=\"-52.2978708037939\" width=\"160\" height=\"250\"></rect><rect x=\"864.140400179092\" y=\"-194.45182607447998\" width=\"160\" height=\"250\"></rect><rect x=\"704.140400179092\" y=\"-194.45182607447998\" width=\"160\" height=\"250\"></rect><rect x=\"544.140400179092\" y=\"-302.2978708037939\" width=\"160\" height=\"250\"></rect><rect x=\"384.140400179092\" y=\"-302.2978708037939\" width=\"160\" height=\"250\"></rect><rect x=\"-511.30782162310845\" y=\"124.49191194738341\" width=\"160\" height=\"250\"></rect><rect x=\"-671.3078216231085\" y=\"124.49191194738341\" width=\"160\" height=\"250\"></rect><rect x=\"-831.3078216231085\" y=\"124.49191194738341\" width=\"160\" height=\"250\"></rect><rect x=\"-12.904193033099773\" y=\"-125.50808805261659\" width=\"160\" height=\"250\"></rect><rect x=\"224.140400179092\" y=\"-375.5080880526166\" width=\"160\" height=\"250\"></rect><rect x=\"-172.90419303309977\" y=\"-125.50808805261659\" width=\"160\" height=\"250\"></rect><rect x=\"64.14040017909201\" y=\"-375.5080880526166\" width=\"160\" height=\"250\"></rect><rect x=\"864.0798952136304\" y=\"-625.5080880526166\" width=\"160\" height=\"250\"></rect><rect x=\"704.0798952136304\" y=\"-625.5080880526166\" width=\"160\" height=\"250\"></rect><rect x=\"-991.3078216231085\" y=\"124.49191194738341\" width=\"160\" height=\"250\"></rect><rect x=\"-332.9041930330998\" y=\"-125.50808805261659\" width=\"160\" height=\"250\"></rect><rect x=\"-492.9041930330998\" y=\"-125.50808805261659\" width=\"160\" height=\"250\"></rect><rect x=\"-652.9041930330998\" y=\"-125.50808805261659\" width=\"160\" height=\"250\"></rect><rect x=\"544.0798952136304\" y=\"-625.5080880526166\" width=\"160\" height=\"250\"></rect><rect x=\"384.0798952136304\" y=\"-625.5080880526166\" width=\"160\" height=\"250\"></rect><rect x=\"-95.85959982090799\" y=\"-375.5080880526166\" width=\"160\" height=\"250\"></rect><rect x=\"-812.9041930330998\" y=\"-125.50808805261659\" width=\"160\" height=\"250\"></rect><rect x=\"224.07989521363038\" y=\"-625.5080880526166\" width=\"160\" height=\"250\"></rect><rect x=\"-972.9041930330998\" y=\"-125.50808805261659\" width=\"160\" height=\"250\"></rect><rect x=\"-255.859599820908\" y=\"-375.5080880526166\" width=\"160\" height=\"250\"></rect><rect x=\"-415.859599820908\" y=\"-375.5080880526166\" width=\"160\" height=\"250\"></rect><rect x=\"64.07989521363038\" y=\"-625.5080880526166\" width=\"160\" height=\"250\"></rect><rect x=\"-95.92010478636962\" y=\"-625.5080880526166\" width=\"160\" height=\"250\"></rect><rect x=\"-575.859599820908\" y=\"-375.5080880526166\" width=\"160\" height=\"250\"></rect><rect x=\"-735.859599820908\" y=\"-375.5080880526166\" width=\"160\" height=\"250\"></rect><rect x=\"-895.859599820908\" y=\"-375.5080880526166\" width=\"160\" height=\"250\"></rect><rect x=\"660.6616767916312\" y=\"-875.5080880526166\" width=\"160\" height=\"250\"></rect><rect x=\"-255.92010478636962\" y=\"-625.5080880526166\" width=\"160\" height=\"250\"></rect><rect x=\"-511.30782162310845\" y=\"447.7021291962061\" width=\"160\" height=\"250\"></rect><rect x=\"-415.9201047863696\" y=\"-625.5080880526166\" width=\"160\" height=\"250\"></rect><rect x=\"-575.9201047863696\" y=\"-625.5080880526166\" width=\"160\" height=\"250\"></rect><rect x=\"500.6616767916312\" y=\"-875.5080880526166\" width=\"160\" height=\"250\"></rect><rect x=\"-1151.3078216231083\" y=\"-60.91727554199733\" width=\"160\" height=\"250\"></rect><rect x=\"340.6616767916312\" y=\"-875.5080880526166\" width=\"160\" height=\"250\"></rect><rect x=\"180.66167679163118\" y=\"-875.5080880526166\" width=\"160\" height=\"250\"></rect><rect x=\"20.66167679163118\" y=\"-875.5080880526166\" width=\"160\" height=\"250\"></rect><rect x=\"-735.9201047863696\" y=\"-625.5080880526166\" width=\"160\" height=\"250\"></rect><rect x=\"-139.33832320836882\" y=\"-875.5080880526166\" width=\"160\" height=\"250\"></rect><rect x=\"-299.3383232083688\" y=\"-875.5080880526166\" width=\"160\" height=\"250\"></rect><rect x=\"-895.9201047863696\" y=\"-625.5080880526166\" width=\"160\" height=\"250\"></rect><rect x=\"-1132.9041930330998\" y=\"-310.91727554199736\" width=\"160\" height=\"250\"></rect><rect x=\"-459.3383232083688\" y=\"-875.5080880526166\" width=\"160\" height=\"250\"></rect><rect x=\"256.21093657921034\" y=\"-1125.5080880526166\" width=\"160\" height=\"250\"></rect><rect x=\"-619.3383232083688\" y=\"-875.5080880526166\" width=\"160\" height=\"250\"></rect><rect x=\"96.21093657921034\" y=\"-1125.5080880526166\" width=\"160\" height=\"250\"></rect><rect x=\"-153.78906342078966\" y=\"-1035.5080880526166\" width=\"250\" height=\"160\"></rect><rect x=\"-403.78906342078966\" y=\"-1035.5080880526166\" width=\"250\" height=\"160\"></rect><rect x=\"57.09580696690023\" y=\"253.04894602164723\" width=\"250\" height=\"160\"></rect><rect x=\"-761.3078216231085\" y=\"433.0725097730382\" width=\"250\" height=\"160\"></rect><rect x=\"537.0958069669002\" y=\"441.60651941085075\" width=\"250\" height=\"160\"></rect><rect x=\"-779.3383232083688\" y=\"-825.5080880526166\" width=\"160\" height=\"200\"></rect><rect x=\"946.4571090941286\" y=\"-354.45182607448\" width=\"200\" height=\"160\"></rect><rect x=\"427.0958069669002\" y=\"3.0489460216472253\" width=\"200\" height=\"160\"></rect><rect x=\"-1015.9201047863696\" y=\"-510.91727554199736\" width=\"120\" height=\"200\"></rect><rect x=\"-103.78906342078966\" y=\"-1155.5080880526166\" width=\"200\" height=\"120\"></rect><rect x=\"980.950828188664\" y=\"92.96746559159851\" width=\"200\" height=\"120\"></rect><rect x=\"-503.78906342078966\" y=\"-995.5080880526166\" width=\"100\" height=\"120\"></rect><rect x=\"570.0474957955024\" y=\"-995.5080880526166\" width=\"100\" height=\"120\"></rect><rect x=\"-284.50524681826323\" y=\"1043.7400162939168\" width=\"100\" height=\"120\"></rect><rect x=\"-995.9201047863696\" y=\"-630.9172755419974\" width=\"100\" height=\"120\"></rect><rect x=\"-1091.3078216231083\" y=\"358.6229313570544\" width=\"100\" height=\"120\"></rect><rect x=\"-879.3383232083688\" y=\"-750.9172755419974\" width=\"100\" height=\"120\"></rect><rect x=\"846.4571090941286\" y=\"-314.45182607448\" width=\"100\" height=\"120\"></rect><rect x=\"-1091.3078216231083\" y=\"238.62293135705443\" width=\"100\" height=\"120\"></rect><rect x=\"-124.50524681826323\" y=\"795.1855993666236\" width=\"100\" height=\"120\"></rect><rect x=\"481.3909395034008\" y=\"938.4261831652825\" width=\"120\" height=\"100\"></rect><rect x=\"-223.78906342078966\" y=\"-1135.5080880526166\" width=\"120\" height=\"100\"></rect><rect x=\"-623.7890634207897\" y=\"-975.5080880526166\" width=\"120\" height=\"100\"></rect><rect x=\"450.0474957955024\" y=\"-975.5080880526166\" width=\"120\" height=\"100\"></rect></svg>\n",
      "\n",
      "model evaluated on average in 0h 0m 2s\n",
      "average score: 39556.8\n",
      "\n",
      "best score evaluated in 0h 0m 3s\n",
      "best score: 43020\n",
      "expected score: 30000\n"
     ]
    }
   ],
   "source": [
    "solution(1200, 50)"
   ]
  }
 ],
 "metadata": {
  "kernelspec": {
   "display_name": "Python 3 (ipykernel)",
   "language": "python",
   "name": "python3"
  },
  "language_info": {
   "codemirror_mode": {
    "name": "ipython",
    "version": 3
   },
   "file_extension": ".py",
   "mimetype": "text/x-python",
   "name": "python",
   "nbconvert_exporter": "python",
   "pygments_lexer": "ipython3",
   "version": "3.11.7"
  }
 },
 "nbformat": 4,
 "nbformat_minor": 5
}
