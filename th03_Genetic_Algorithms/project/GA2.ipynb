{
 "cells": [
  {
   "cell_type": "markdown",
   "id": "4e56a61b",
   "metadata": {},
   "source": [
    "# 1. Import"
   ]
  },
  {
   "cell_type": "code",
   "execution_count": 1,
   "id": "51854b37",
   "metadata": {},
   "outputs": [],
   "source": [
    "import pandas as pd\n",
    "import numpy as np\n",
    "import uuid\n",
    "import time\n",
    "import math"
   ]
  },
  {
   "cell_type": "markdown",
   "id": "339c8f21",
   "metadata": {},
   "source": [
    "# 2. Constants"
   ]
  },
  {
   "cell_type": "code",
   "execution_count": 2,
   "id": "072bdf2d",
   "metadata": {},
   "outputs": [],
   "source": [
    "eps = 1e-10"
   ]
  },
  {
   "cell_type": "markdown",
   "id": "6355cb57",
   "metadata": {},
   "source": [
    "# 3. Implementations"
   ]
  },
  {
   "cell_type": "markdown",
   "id": "b6d58e8e",
   "metadata": {},
   "source": [
    "## 3.1. Rectangle"
   ]
  },
  {
   "cell_type": "code",
   "execution_count": 3,
   "id": "3ed88e01",
   "metadata": {},
   "outputs": [],
   "source": [
    "class Rectangle:\n",
    "    __slots__ = ['id', 'x', 'y', 'width', 'height', 'left', 'right', 'bottom', 'top', 'value']\n",
    "    \n",
    "    def __init__(self, x, y, height, width, value):\n",
    "        self.id = uuid.uuid4()\n",
    "        self.x = x\n",
    "        self.y = y\n",
    "        self.width = width\n",
    "        self.height = height\n",
    "        self.left = self.x\n",
    "        self.right = self.x + self.width\n",
    "        self.bottom = self.y\n",
    "        self.top = self.y + self.height\n",
    "        self.value = value\n",
    "        \n",
    "        return\n",
    "    \n",
    "    def __repr__(self):\n",
    "        return f'Rectangle(x={self.x}, y={self.y}, width={self.width}, height={self.height}, value={self.value})'\n",
    "    \n",
    "    def intersects(self, another):\n",
    "        return not (self.x + self.width <= another.x or self.x >= another.x + another.width or self.y + self.height <= another.y or self.y >= another.y + another.height)"
   ]
  },
  {
   "cell_type": "markdown",
   "id": "af784151",
   "metadata": {},
   "source": [
    "## 3.2. Genetic Algorithm"
   ]
  },
  {
   "cell_type": "code",
   "execution_count": 4,
   "id": "491280ef",
   "metadata": {},
   "outputs": [],
   "source": [
    "class GeneticAlgorithm:\n",
    "    __slots__ = ['radius', 'init_size', 'population']\n",
    "    \n",
    "    def __init__(self, radius, number_of_generations, init_size):\n",
    "        self.radius = radius\n",
    "        self.init_size = init_size\n",
    "        self.population = []\n",
    "        \n",
    "        pass\n",
    "    \n",
    "    def can_be_placed(self, new_rectangle):        \n",
    "        # check if new rectangle is strictly inside of circle\n",
    "        if not (\n",
    "            np.sqrt(new_rectangle.left ** 2 + new_rectangle.bottom ** 2) < self.radius and\n",
    "            np.sqrt(new_rectangle.left ** 2 + new_rectangle.top ** 2) < self.radius and\n",
    "            np.sqrt(new_rectangle.right ** 2 + new_rectangle.bottom ** 2) < self.radius and\n",
    "            np.sqrt(new_rectangle.right ** 2 + new_rectangle.top ** 2) < self.radius\n",
    "        ):\n",
    "            return False\n",
    "\n",
    "        # check if new rectangle intersects with any other\n",
    "        for rectangle in self.population:\n",
    "            if new_rectangle.intersects(rectangle):\n",
    "                return False\n",
    "            \n",
    "        return True\n",
    "    \n",
    "    def generate_rectangle(self, width, height, value, x=None, y=None):\n",
    "        # generate x\n",
    "        if x is None:\n",
    "            x = np.random.rand() * 2 * self.radius - self.radius\n",
    "\n",
    "        # generate y based on x\n",
    "        if y is None:\n",
    "            y = np.random.rand() * 2 * np.sqrt(self.radius ** 2 - x ** 2) - np.sqrt(self.radius ** 2 - x ** 2)\n",
    "        \n",
    "        # create new rectangle\n",
    "        return Rectangle(x, y, width, height, value)\n",
    "    \n",
    "    def mutation(self, creature):\n",
    "        # moving top\n",
    "        collisions_while_vertical_move = []\n",
    "        for rect in self.population:\n",
    "            if not (rect.right - eps <= creature.left or creature.right - eps <= rect.left):\n",
    "                collisions_while_vertical_move.append(rect)\n",
    "        \n",
    "        last_available_bottom = float(\"inf\")\n",
    "        for rect in collisions_while_vertical_move:            \n",
    "            if rect.bottom > creature.top - eps and rect.bottom - eps < last_available_bottom:\n",
    "                last_available_bottom = rect.bottom\n",
    "                \n",
    "        last_available_bottom = min(last_available_bottom, np.sqrt(self.radius ** 2 - creature.left ** 2), np.sqrt(self.radius ** 2 - creature.right ** 2))\n",
    "        \n",
    "        if last_available_bottom > creature.top - eps:\n",
    "            creature.y = creature.bottom = last_available_bottom - creature.height\n",
    "            creature.top = creature.bottom + creature.height\n",
    "        \n",
    "        # moving right\n",
    "        collisions_while_horizontal_move = []\n",
    "        for rect in self.population:\n",
    "            if not (rect.top - eps <= creature.bottom or creature.top - eps <= rect.bottom):\n",
    "                collisions_while_horizontal_move.append(rect)\n",
    "        \n",
    "        last_available_left = float(\"inf\")\n",
    "        for rect in collisions_while_horizontal_move:            \n",
    "            if rect.left > creature.right - eps and rect.left - eps < last_available_left:\n",
    "                last_available_left = rect.left\n",
    "                \n",
    "        last_available_left = min(last_available_left, np.sqrt(self.radius ** 2 - creature.bottom ** 2), np.sqrt(self.radius ** 2 - creature.top ** 2))\n",
    "        \n",
    "        if last_available_left > creature.right - eps:\n",
    "            creature.x = creature.left = last_available_left - creature.width\n",
    "            creature.right = creature.left + creature.width\n",
    "    \n",
    "    def optimize(self):\n",
    "        # read data and use only values\n",
    "        df = pd.read_csv(f'../data/r{self.radius}.csv', header=None).values\n",
    "        # allow to swap width and height values\n",
    "        df = np.append(df, df[:, [1,0,2]], axis=0)\n",
    "        # retrieve only unique entries\n",
    "        df = np.unique(df, axis=0)\n",
    "        # sort in accordance with the highest value per area\n",
    "        df = df[np.flip(np.argsort(df[:, 2] / (df[:, 0] * df[:, 1])))]\n",
    "        \n",
    "        # for every type of rectangle from the one with the highest value per area to the lowest\n",
    "        for i in range(len(df)):\n",
    "            # try to create init_size rectangles of such type\n",
    "            for _ in range(self.init_size):\n",
    "                new_rect = self.generate_rectangle(*(df[i]))\n",
    "                if self.can_be_placed(new_rect):\n",
    "                    self.population.append(new_rect)\n",
    "                    self.mutation(new_rect)\n",
    "        \n",
    "        return self.population"
   ]
  },
  {
   "cell_type": "markdown",
   "id": "78c69789",
   "metadata": {},
   "source": [
    "# 4. Stuff for verification"
   ]
  },
  {
   "cell_type": "markdown",
   "id": "b251c61f",
   "metadata": {},
   "source": [
    "## 4.1. Conveniently display elapsed time"
   ]
  },
  {
   "cell_type": "code",
   "execution_count": 5,
   "id": "3a73e93e",
   "metadata": {},
   "outputs": [],
   "source": [
    "def seconds_to_time(seconds):\n",
    "    diff = math.ceil(seconds)\n",
    "    hours = diff // 3600\n",
    "    minutes = (diff - hours * 3600) // 60\n",
    "    seconds = diff - hours * 3600 - minutes * 60\n",
    "    \n",
    "    return hours, minutes, seconds"
   ]
  },
  {
   "cell_type": "markdown",
   "id": "5054871c",
   "metadata": {},
   "source": [
    "## 4.2. Enable display of a result"
   ]
  },
  {
   "cell_type": "code",
   "execution_count": 6,
   "id": "4e289101",
   "metadata": {},
   "outputs": [],
   "source": [
    "def to_html(population, radius):\n",
    "    rects = ''\n",
    "    for rect in population:\n",
    "        rects += f'<rect x=\"{rect.x}\" y=\"{rect.y}\" width=\"{rect.width}\" height=\"{rect.height}\"></rect>'\n",
    "    \n",
    "    return f'''<svg height=\"720px\" viewBox=\"-{radius} -{radius} {2 * radius} {2 * radius}\" transform=\"scale(1,-1)\"><circle cx=\"0\" cy=\"0\" r=\"{radius}\" fill=\"white\" stroke=\"red\" stroke-width=\"5px\"></circle>{rects}</svg>'''"
   ]
  },
  {
   "cell_type": "markdown",
   "id": "30d80009",
   "metadata": {},
   "source": [
    "## 4.3. Expected scores per circle radius"
   ]
  },
  {
   "cell_type": "code",
   "execution_count": 7,
   "id": "0bdd9901",
   "metadata": {},
   "outputs": [],
   "source": [
    "expected_output = {\n",
    "    800: 30000,\n",
    "    850: None,\n",
    "    1000: 17500,\n",
    "    1100: 25000,\n",
    "    1200: 30000\n",
    "}"
   ]
  },
  {
   "cell_type": "markdown",
   "id": "0cf02211",
   "metadata": {},
   "source": [
    "## 4.4. Function to present results"
   ]
  },
  {
   "cell_type": "code",
   "execution_count": 8,
   "id": "d5ed6416",
   "metadata": {},
   "outputs": [],
   "source": [
    "def solution(radius, trials):\n",
    "    best_score = 0\n",
    "    best_time = 0\n",
    "    best_solution = []\n",
    "    \n",
    "    total_score = 0\n",
    "    total_time = 0\n",
    "    \n",
    "    for _ in range(trials):\n",
    "        start = time.time()\n",
    "        ga = GeneticAlgorithm(radius, 50000, 1000)\n",
    "        final_population = ga.optimize()\n",
    "        score = 0\n",
    "        for rect in final_population:\n",
    "            score += rect.value\n",
    "        end = time.time()\n",
    "        \n",
    "        if score > best_score:\n",
    "            best_score = score\n",
    "            best_time = end - start\n",
    "            best_solution = final_population\n",
    "        \n",
    "        total_score += score\n",
    "        total_time += end - start\n",
    "        \n",
    "    avg_score = total_score / trials\n",
    "    avg_time = total_time / trials\n",
    "    \n",
    "    hours, minutes, seconds = seconds_to_time(best_time)\n",
    "    avg_hours, avg_minutes, avg_seconds = seconds_to_time(avg_time)\n",
    "    \n",
    "    print('best solution html svg representation')\n",
    "    print(f'{to_html(best_solution, radius)}')\n",
    "    print()\n",
    "    print(f'model evaluated on average in {avg_hours}h {avg_minutes}m {avg_seconds}s')\n",
    "    print(f'average score: {avg_score}')\n",
    "    print()\n",
    "    print(f'best score evaluated in {hours}h {minutes}m {seconds}s')\n",
    "    print(f'best score: {best_score}')\n",
    "    print(f'expected score: {expected_output[radius]}')"
   ]
  },
  {
   "cell_type": "markdown",
   "id": "874c2b7c",
   "metadata": {},
   "source": [
    "# 5. Results"
   ]
  },
  {
   "cell_type": "markdown",
   "id": "68ed065f",
   "metadata": {},
   "source": [
    "## 5.1. Dataset with radius 800"
   ]
  },
  {
   "cell_type": "code",
   "execution_count": 9,
   "id": "dca6bec4",
   "metadata": {
    "scrolled": false
   },
   "outputs": [
    {
     "name": "stdout",
     "output_type": "stream",
     "text": [
      "best solution html svg representation\n",
      "<svg height=\"720px\" viewBox=\"-800 -800 1600 1600\" transform=\"scale(1,-1)\"><circle cx=\"0\" cy=\"0\" r=\"800\" fill=\"white\" stroke=\"red\" stroke-width=\"5px\"></circle><rect x=\"582.546578989005\" y=\"114.57427896161573\" width=\"30\" height=\"400\"></rect><rect x=\"296.1459922610844\" y=\"330.49900186929256\" width=\"30\" height=\"400\"></rect><rect x=\"170.2160612014047\" y=\"374.54085033456784\" width=\"30\" height=\"400\"></rect><rect x=\"666.842393293045\" y=\"-7.048757592470281\" width=\"30\" height=\"400\"></rect><rect x=\"510.8962941095872\" y=\"189.43294700798242\" width=\"30\" height=\"400\"></rect><rect x=\"445.38259542514567\" y=\"243.4371670698331\" width=\"30\" height=\"400\"></rect><rect x=\"93.60218465200127\" y=\"390.39388911431536\" width=\"30\" height=\"400\"></rect><rect x=\"63.60218465200127\" y=\"306.5557433225805\" width=\"30\" height=\"400\"></rect><rect x=\"552.546578989005\" y=\"-210.56705299201758\" width=\"30\" height=\"400\"></rect><rect x=\"33.60218465200127\" y=\"396.2692180526784\" width=\"30\" height=\"400\"></rect><rect x=\"3.60218465200127\" y=\"351.8895933460535\" width=\"30\" height=\"400\"></rect><rect x=\"415.38259542514567\" y=\"-69.50099813070744\" width=\"30\" height=\"400\"></rect><rect x=\"-26.39781534799873\" y=\"394.5983832368162\" width=\"30\" height=\"400\"></rect><rect x=\"385.38259542514567\" y=\"-93.4442566774195\" width=\"30\" height=\"400\"></rect><rect x=\"-56.39781534799873\" y=\"397.44802450424436\" width=\"30\" height=\"400\"></rect><rect x=\"-26.39781534799873\" y=\"-5.401616763183824\" width=\"30\" height=\"400\"></rect><rect x=\"261.013140148628\" y=\"345.19215794373133\" width=\"30\" height=\"400\"></rect><rect x=\"-86.39781534799873\" y=\"339.25601561312294\" width=\"30\" height=\"400\"></rect><rect x=\"266.1459922610844\" y=\"-54.80784205626867\" width=\"30\" height=\"400\"></rect><rect x=\"-116.39781534799873\" y=\"355.08852741206897\" width=\"30\" height=\"400\"></rect><rect x=\"339.54014501813134\" y=\"309.5351162697858\" width=\"30\" height=\"400\"></rect><rect x=\"236.14599226108442\" y=\"-93.4442566774195\" width=\"30\" height=\"400\"></rect><rect x=\"135.23187367287684\" y=\"382.75055280884374\" width=\"30\" height=\"400\"></rect><rect x=\"-146.39781534799874\" y=\"385.0151459278668\" width=\"30\" height=\"400\"></rect><rect x=\"-176.39781534799874\" y=\"223.13483873095288\" width=\"30\" height=\"400\"></rect><rect x=\"206.14599226108442\" y=\"-25.459149665432165\" width=\"30\" height=\"400\"></rect><rect x=\"-206.39781534799874\" y=\"14.09379608926713\" width=\"30\" height=\"400\"></rect><rect x=\"-236.39781534799874\" y=\"341.19862245845513\" width=\"30\" height=\"400\"></rect><rect x=\"-266.39781534799874\" y=\"224.89819453636483\" width=\"30\" height=\"400\"></rect><rect x=\"522.546578989005\" y=\"-493.4442566774195\" width=\"30\" height=\"400\"></rect><rect x=\"626.076993179212\" y=\"57.7804921803945\" width=\"30\" height=\"400\"></rect><rect x=\"-56.39781534799873\" y=\"-60.74398438687706\" width=\"30\" height=\"400\"></rect><rect x=\"355.38259542514567\" y=\"-90.46488373021418\" width=\"30\" height=\"400\"></rect><rect x=\"140.2160612014047\" y=\"-17.249447191156264\" width=\"30\" height=\"400\"></rect><rect x=\"-296.39781534799874\" y=\"330.67359147952106\" width=\"30\" height=\"400\"></rect><rect x=\"105.23187367287684\" y=\"-9.606110885684643\" width=\"30\" height=\"400\"></rect><rect x=\"176.14599226108442\" y=\"-417.24944719115626\" width=\"30\" height=\"400\"></rect><rect x=\"146.14599226108442\" y=\"-417.24944719115626\" width=\"30\" height=\"400\"></rect><rect x=\"-236.39781534799874\" y=\"-175.10180546363517\" width=\"30\" height=\"400\"></rect><rect x=\"116.14599226108442\" y=\"-460.74398438687706\" width=\"30\" height=\"400\"></rect><rect x=\"636.842393293045\" y=\"-342.2195078196055\" width=\"30\" height=\"400\"></rect><rect x=\"-326.39781534799874\" y=\"237.58727455170742\" width=\"30\" height=\"400\"></rect><rect x=\"-356.39781534799874\" y=\"204.10240082855455\" width=\"30\" height=\"400\"></rect><rect x=\"-386.39781534799874\" y=\"37.41160280735676\" width=\"30\" height=\"400\"></rect><rect x=\"-416.39781534799874\" y=\"213.1507988024174\" width=\"30\" height=\"400\"></rect><rect x=\"492.54657898900496\" y=\"-493.4442566774195\" width=\"30\" height=\"400\"></rect><rect x=\"-446.39781534799874\" y=\"201.36927716846446\" width=\"30\" height=\"400\"></rect><rect x=\"-476.39781534799874\" y=\"94.26242869226303\" width=\"30\" height=\"400\"></rect><rect x=\"-86.39781534799873\" y=\"-60.74398438687706\" width=\"30\" height=\"400\"></rect><rect x=\"-116.39781534799873\" y=\"-385.90620391073287\" width=\"30\" height=\"400\"></rect><rect x=\"-506.39781534799874\" y=\"94.16083211463217\" width=\"30\" height=\"400\"></rect><rect x=\"-536.3978153479987\" y=\"-8.292209184120225\" width=\"30\" height=\"400\"></rect><rect x=\"33.60218465200127\" y=\"-48.110406653946484\" width=\"30\" height=\"400\"></rect><rect x=\"462.54657898900496\" y=\"-493.4442566774195\" width=\"30\" height=\"400\"></rect><rect x=\"86.14599226108442\" y=\"-460.74398438687706\" width=\"30\" height=\"400\"></rect><rect x=\"-566.3978153479987\" y=\"37.55631415181318\" width=\"30\" height=\"400\"></rect><rect x=\"309.54014501813134\" y=\"-69.50099813070744\" width=\"30\" height=\"400\"></rect><rect x=\"-416.39781534799874\" y=\"-198.63072283153554\" width=\"30\" height=\"400\"></rect><rect x=\"355.38259542514567\" y=\"-490.4648837302142\" width=\"30\" height=\"400\"></rect><rect x=\"713.589365958084\" y=\"-104.91551237983623\" width=\"30\" height=\"400\"></rect><rect x=\"-446.39781534799874\" y=\"-305.73757130773697\" width=\"30\" height=\"400\"></rect><rect x=\"-596.3978153479987\" y=\"-24.891151557301214\" width=\"30\" height=\"400\"></rect><rect x=\"432.54657898900496\" y=\"-493.4442566774195\" width=\"30\" height=\"400\"></rect><rect x=\"325.38259542514567\" y=\"-469.50099813070744\" width=\"30\" height=\"400\"></rect><rect x=\"-626.3978153479987\" y=\"-57.303967122729546\" width=\"30\" height=\"400\"></rect><rect x=\"-266.39781534799874\" y=\"-195.89759917144545\" width=\"30\" height=\"400\"></rect><rect x=\"295.38259542514567\" y=\"-493.4442566774195\" width=\"30\" height=\"400\"></rect><rect x=\"-656.3978153479987\" y=\"-57.65062795477451\" width=\"30\" height=\"400\"></rect><rect x=\"-476.39781534799874\" y=\"-408.2922091841202\" width=\"30\" height=\"400\"></rect><rect x=\"-146.39781534799874\" y=\"-595.8975991714454\" width=\"30\" height=\"400\"></rect><rect x=\"-686.3978153479987\" y=\"-112.25164161857259\" width=\"30\" height=\"400\"></rect><rect x=\"-506.39781534799874\" y=\"-408.2922091841202\" width=\"30\" height=\"400\"></rect><rect x=\"-176.39781534799874\" y=\"-385.90620391073287\" width=\"30\" height=\"400\"></rect><rect x=\"-296.39781534799874\" y=\"-362.58839719264324\" width=\"30\" height=\"400\"></rect><rect x=\"-536.3978153479987\" y=\"-408.2922091841202\" width=\"30\" height=\"400\"></rect><rect x=\"-326.39781534799874\" y=\"-362.58839719264324\" width=\"30\" height=\"400\"></rect><rect x=\"-206.39781534799874\" y=\"-575.1018054636352\" width=\"30\" height=\"400\"></rect><rect x=\"56.145992261084416\" y=\"-448.1104066539465\" width=\"30\" height=\"400\"></rect><rect x=\"402.54657898900496\" y=\"-493.4442566774195\" width=\"30\" height=\"400\"></rect><rect x=\"-566.3978153479987\" y=\"-457.30396712272955\" width=\"30\" height=\"400\"></rect><rect x=\"26.145992261084416\" y=\"-448.1104066539465\" width=\"30\" height=\"400\"></rect><rect x=\"-356.39781534799874\" y=\"-362.58839719264324\" width=\"30\" height=\"400\"></rect><rect x=\"480.59385731871566\" y=\"215.86842171716762\" width=\"30\" height=\"400\"></rect><rect x=\"-3.854007738915584\" y=\"-405.4016167631838\" width=\"30\" height=\"400\"></rect><rect x=\"265.38259542514567\" y=\"-493.4442566774195\" width=\"30\" height=\"400\"></rect><rect x=\"-386.39781534799874\" y=\"-598.6307228315355\" width=\"30\" height=\"400\"></rect><rect x=\"-716.3978153479987\" y=\"-51.025423251204074\" width=\"30\" height=\"400\"></rect><rect x=\"-33.854007738915584\" y=\"-460.74398438687706\" width=\"30\" height=\"400\"></rect><rect x=\"235.38259542514567\" y=\"-493.4442566774195\" width=\"30\" height=\"400\"></rect><rect x=\"-63.854007738915584\" y=\"-460.74398438687706\" width=\"30\" height=\"400\"></rect><rect x=\"-236.39781534799874\" y=\"-595.8975991714454\" width=\"30\" height=\"400\"></rect><rect x=\"-746.3978153479987\" y=\"-127.34688354694964\" width=\"30\" height=\"400\"></rect><rect x=\"98.24912980498078\" y=\"-625.8975991714454\" width=\"400\" height=\"30\"></rect><rect x=\"58.03748689505085\" y=\"-655.8975991714454\" width=\"400\" height=\"30\"></rect><rect x=\"-341.96251310494915\" y=\"-628.6307228315355\" width=\"400\" height=\"30\"></rect><rect x=\"204.98438835347133\" y=\"-523.4442566774195\" width=\"400\" height=\"30\"></rect><rect x=\"11.757797073531037\" y=\"-685.8975991714454\" width=\"400\" height=\"30\"></rect><rect x=\"177.6672526210731\" y=\"-553.4442566774195\" width=\"400\" height=\"30\"></rect><rect x=\"-388.24220292646896\" y=\"-658.6307228315355\" width=\"400\" height=\"30\"></rect><rect x=\"-42.94170293835708\" y=\"-715.8975991714454\" width=\"400\" height=\"30\"></rect><rect x=\"-72.33274737892691\" y=\"-580.7439843868771\" width=\"250\" height=\"120\"></rect><rect x=\"-686.3978153479987\" y=\"-262.2516416185726\" width=\"120\" height=\"150\"></rect><rect x=\"-506.39781534799874\" y=\"-558.2922091841202\" width=\"120\" height=\"150\"></rect></svg>\n",
      "\n",
      "model evaluated on average in 0h 0m 3s\n",
      "average score: 36887.2\n",
      "\n",
      "best score evaluated in 0h 0m 3s\n",
      "best score: 40180\n",
      "expected score: 30000\n"
     ]
    }
   ],
   "source": [
    "solution(800, 50)"
   ]
  },
  {
   "cell_type": "markdown",
   "id": "6fb64300",
   "metadata": {},
   "source": [
    "## 5.2. Dataset with radius 850"
   ]
  },
  {
   "cell_type": "code",
   "execution_count": 10,
   "id": "bff7e7b6",
   "metadata": {
    "scrolled": false
   },
   "outputs": [
    {
     "name": "stdout",
     "output_type": "stream",
     "text": [
      "best solution html svg representation\n",
      "<svg height=\"720px\" viewBox=\"-850 -850 1700 1700\" transform=\"scale(1,-1)\"><circle cx=\"0\" cy=\"0\" r=\"850\" fill=\"white\" stroke=\"red\" stroke-width=\"5px\"></circle><rect x=\"472.432685181128\" y=\"196.00164732264318\" width=\"80\" height=\"450\"></rect><rect x=\"636.2468246898011\" y=\"7.701306663829996\" width=\"80\" height=\"450\"></rect><rect x=\"-10.420552918364407\" y=\"397.14739009443565\" width=\"80\" height=\"450\"></rect><rect x=\"556.2468246898011\" y=\"-253.99835267735682\" width=\"80\" height=\"450\"></rect><rect x=\"-90.42055291836441\" y=\"385.22617784687327\" width=\"80\" height=\"450\"></rect><rect x=\"70.9781269909748\" y=\"386.4840734707966\" width=\"80\" height=\"450\"></rect><rect x=\"-170.42055291836442\" y=\"313.86652563517305\" width=\"80\" height=\"450\"></rect><rect x=\"-250.42055291836442\" y=\"296.6918050512528\" width=\"80\" height=\"450\"></rect><rect x=\"-330.4205529183644\" y=\"231.65711870195992\" width=\"80\" height=\"450\"></rect><rect x=\"392.432685181128\" y=\"-218.34288129804008\" width=\"80\" height=\"450\"></rect><rect x=\"312.432685181128\" y=\"-136.13347436482695\" width=\"80\" height=\"450\"></rect><rect x=\"-410.4205529183644\" y=\"291.988194045863\" width=\"80\" height=\"450\"></rect><rect x=\"232.43268518112802\" y=\"-63.5159265292034\" width=\"80\" height=\"450\"></rect><rect x=\"152.43268518112802\" y=\"-136.13347436482695\" width=\"80\" height=\"450\"></rect><rect x=\"312.432685181128\" y=\"-586.133474364827\" width=\"80\" height=\"450\"></rect><rect x=\"72.43268518112802\" y=\"-64.77382215312673\" width=\"80\" height=\"450\"></rect><rect x=\"-7.567314818871978\" y=\"-218.34288129804008\" width=\"80\" height=\"450\"></rect><rect x=\"-87.56731481887198\" y=\"-136.13347436482695\" width=\"80\" height=\"450\"></rect><rect x=\"-167.56731481887198\" y=\"-218.34288129804008\" width=\"80\" height=\"450\"></rect><rect x=\"-490.4205529183644\" y=\"229.75911076674083\" width=\"80\" height=\"450\"></rect><rect x=\"-247.56731481887198\" y=\"-218.34288129804008\" width=\"80\" height=\"450\"></rect><rect x=\"-570.4205529183644\" y=\"159.4440943464548\" width=\"80\" height=\"450\"></rect><rect x=\"232.43268518112802\" y=\"-668.3428812980401\" width=\"80\" height=\"450\"></rect><rect x=\"-327.567314818872\" y=\"-220.24088923325917\" width=\"80\" height=\"450\"></rect><rect x=\"-407.567314818872\" y=\"-290.5559056535452\" width=\"80\" height=\"450\"></rect><rect x=\"-650.4205529183644\" y=\"75.83740127861051\" width=\"80\" height=\"450\"></rect><rect x=\"-730.4205529183644\" y=\"-93.26007291106896\" width=\"80\" height=\"450\"></rect><rect x=\"-487.567314818872\" y=\"-290.5559056535452\" width=\"80\" height=\"450\"></rect><rect x=\"152.43268518112802\" y=\"-668.3428812980401\" width=\"80\" height=\"450\"></rect><rect x=\"72.43268518112802\" y=\"-668.3428812980401\" width=\"80\" height=\"450\"></rect><rect x=\"-7.567314818871978\" y=\"-668.3428812980401\" width=\"80\" height=\"450\"></rect><rect x=\"-567.567314818872\" y=\"-374.1625987213895\" width=\"80\" height=\"450\"></rect><rect x=\"724.0434741439879\" y=\"-174.29346818316696\" width=\"80\" height=\"450\"></rect><rect x=\"-810.4205529183644\" y=\"-205.53254025756686\" width=\"80\" height=\"450\"></rect><rect x=\"-87.56731481887198\" y=\"-668.3428812980401\" width=\"80\" height=\"450\"></rect><rect x=\"-167.56731481887198\" y=\"-670.2408892332592\" width=\"80\" height=\"450\"></rect><rect x=\"445.1835803014351\" y=\"-668.3428812980401\" width=\"80\" height=\"450\"></rect><rect x=\"-247.56731481887198\" y=\"-670.2408892332592\" width=\"80\" height=\"450\"></rect><rect x=\"-327.567314818872\" y=\"-740.5559056535452\" width=\"80\" height=\"450\"></rect><rect x=\"-50.45199522148954\" y=\"-750.2408892332592\" width=\"450\" height=\"80\"></rect><rect x=\"-587.567314818872\" y=\"-324.1625987213895\" width=\"20\" height=\"400\"></rect><rect x=\"-607.567314818872\" y=\"-324.1625987213895\" width=\"20\" height=\"400\"></rect><rect x=\"536.2468246898011\" y=\"-203.99835267735682\" width=\"20\" height=\"400\"></rect><rect x=\"-627.567314818872\" y=\"-324.1625987213895\" width=\"20\" height=\"400\"></rect><rect x=\"216.07850162166267\" y=\"416.557983900758\" width=\"20\" height=\"400\"></rect><rect x=\"434.3290140626878\" y=\"318.3906645974919\" width=\"20\" height=\"400\"></rect><rect x=\"173.46770115594882\" y=\"427.6897055113302\" width=\"20\" height=\"400\"></rect><rect x=\"-647.567314818872\" y=\"-493.26007291106896\" width=\"20\" height=\"400\"></rect><rect x=\"704.0434741439879\" y=\"-392.29869333617\" width=\"20\" height=\"400\"></rect><rect x=\"684.0434741439879\" y=\"-392.29869333617\" width=\"20\" height=\"400\"></rect><rect x=\"-40.5156852473836\" y=\"-770.2408892332592\" width=\"400\" height=\"20\"></rect><rect x=\"397.4521083546046\" y=\"434.70041177557766\" width=\"30\" height=\"300\"></rect><rect x=\"-357.567314818872\" y=\"-590.5559056535452\" width=\"30\" height=\"300\"></rect><rect x=\"-387.567314818872\" y=\"-590.5559056535452\" width=\"30\" height=\"300\"></rect><rect x=\"335.13553739926033\" y=\"467.57803468321924\" width=\"30\" height=\"300\"></rect><rect x=\"614.6594645475819\" y=\"-553.9983526773568\" width=\"30\" height=\"300\"></rect><rect x=\"257.19047734952716\" y=\"500.0135184606262\" width=\"30\" height=\"300\"></rect><rect x=\"587.4711802233887\" y=\"284.1483900461726\" width=\"30\" height=\"300\"></rect><rect x=\"415.1835803014351\" y=\"-518.3428812980401\" width=\"30\" height=\"300\"></rect><rect x=\"506.2468246898011\" y=\"-103.99835267735682\" width=\"30\" height=\"300\"></rect><rect x=\"584.6594645475819\" y=\"-553.9983526773568\" width=\"30\" height=\"300\"></rect><rect x=\"-677.567314818872\" y=\"-393.26007291106896\" width=\"30\" height=\"300\"></rect><rect x=\"554.6594645475819\" y=\"-553.9983526773568\" width=\"30\" height=\"300\"></rect><rect x=\"-417.567314818872\" y=\"-590.5559056535452\" width=\"30\" height=\"300\"></rect><rect x=\"-447.567314818872\" y=\"-590.5559056535452\" width=\"30\" height=\"300\"></rect><rect x=\"-13.443689304941984\" y=\"-800.2408892332592\" width=\"300\" height=\"30\"></rect><rect x=\"-117.79114773105277\" y=\"-830.2408892332592\" width=\"300\" height=\"30\"></rect><rect x=\"805.0745305094251\" y=\"121.15038817061898\" width=\"10\" height=\"120\"></rect><rect x=\"-577.567314818872\" y=\"-444.1625987213895\" width=\"10\" height=\"120\"></rect><rect x=\"405.1835803014351\" y=\"-338.3428812980401\" width=\"10\" height=\"120\"></rect><rect x=\"424.3290140626878\" y=\"314.70041177557766\" width=\"10\" height=\"120\"></rect><rect x=\"496.2468246898011\" y=\"76.00164732264318\" width=\"10\" height=\"120\"></rect><rect x=\"-657.567314818872\" y=\"-513.260072911069\" width=\"10\" height=\"120\"></rect><rect x=\"-740.4205529183644\" y=\"286.3442941176841\" width=\"10\" height=\"120\"></rect><rect x=\"-687.567314818872\" y=\"-213.26007291106896\" width=\"10\" height=\"120\"></rect><rect x=\"-697.567314818872\" y=\"-213.26007291106896\" width=\"10\" height=\"120\"></rect><rect x=\"674.0434741439879\" y=\"-112.29869333617\" width=\"10\" height=\"120\"></rect><rect x=\"-457.567314818872\" y=\"-564.1625987213895\" width=\"10\" height=\"120\"></rect><rect x=\"-707.567314818872\" y=\"-213.26007291106896\" width=\"10\" height=\"120\"></rect><rect x=\"298.55914708223116\" y=\"672.0172048332574\" width=\"10\" height=\"120\"></rect><rect x=\"-717.567314818872\" y=\"-325.5325402575669\" width=\"10\" height=\"120\"></rect><rect x=\"-820.4205529183644\" y=\"94.74875060476154\" width=\"10\" height=\"120\"></rect><rect x=\"544.6594645475819\" y=\"-323.9983526773568\" width=\"10\" height=\"120\"></rect><rect x=\"455.93272889152155\" y=\"590.9196101864823\" width=\"10\" height=\"120\"></rect><rect x=\"534.6594645475819\" y=\"-323.9983526773568\" width=\"10\" height=\"120\"></rect><rect x=\"544.6594645475819\" y=\"-443.9983526773568\" width=\"10\" height=\"120\"></rect><rect x=\"-467.567314818872\" y=\"-564.1625987213895\" width=\"10\" height=\"120\"></rect><rect x=\"486.2468246898011\" y=\"76.00164732264318\" width=\"10\" height=\"120\"></rect><rect x=\"-830.4205529183644\" y=\"-0.18190917851580934\" width=\"10\" height=\"120\"></rect><rect x=\"664.0434741439879\" y=\"-112.29869333617\" width=\"10\" height=\"120\"></rect><rect x=\"462.432685181128\" y=\"470.91961018648226\" width=\"10\" height=\"120\"></rect><rect x=\"-687.567314818872\" y=\"-333.26007291106896\" width=\"10\" height=\"120\"></rect><rect x=\"374.1096445107685\" y=\"638.2610243140624\" width=\"10\" height=\"120\"></rect><rect x=\"-477.567314818872\" y=\"-494.1625987213895\" width=\"10\" height=\"120\"></rect><rect x=\"787.4279620032917\" y=\"-294.29346818316696\" width=\"10\" height=\"120\"></rect><rect x=\"-727.567314818872\" y=\"-325.5325402575669\" width=\"10\" height=\"120\"></rect><rect x=\"496.2468246898011\" y=\"-43.99835267735682\" width=\"10\" height=\"120\"></rect><rect x=\"822.4448119766198\" y=\"51.85934659834513\" width=\"10\" height=\"120\"></rect><rect x=\"-457.567314818872\" y=\"-410.5559056535452\" width=\"10\" height=\"120\"></rect><rect x=\"560.3676261896076\" y=\"510.2227947280486\" width=\"10\" height=\"120\"></rect><rect x=\"-487.567314818872\" y=\"-494.1625987213895\" width=\"10\" height=\"120\"></rect><rect x=\"435.1835803014351\" y=\"-638.3428812980401\" width=\"10\" height=\"120\"></rect><rect x=\"-587.567314818872\" y=\"-444.1625987213895\" width=\"10\" height=\"120\"></rect><rect x=\"835.4595293357813\" y=\"-32.260702901612746\" width=\"10\" height=\"120\"></rect><rect x=\"777.4279620032917\" y=\"-294.29346818316696\" width=\"10\" height=\"120\"></rect><rect x=\"387.4521083546046\" y=\"518.2610243140624\" width=\"10\" height=\"120\"></rect><rect x=\"-820.4205529183644\" y=\"-120.18190917851581\" width=\"10\" height=\"120\"></rect><rect x=\"324.0876549556478\" y=\"661.591606151343\" width=\"10\" height=\"120\"></rect><rect x=\"-597.567314818872\" y=\"-444.1625987213895\" width=\"10\" height=\"120\"></rect><rect x=\"812.4448119766198\" y=\"1.1503881706189816\" width=\"10\" height=\"120\"></rect><rect x=\"194.93369846024208\" y=\"704.9255598145851\" width=\"10\" height=\"120\"></rect><rect x=\"377.4521083546046\" y=\"518.2610243140624\" width=\"10\" height=\"120\"></rect><rect x=\"-750.4205529183644\" y=\"257.8870055776198\" width=\"10\" height=\"120\"></rect><rect x=\"-497.567314818872\" y=\"-494.1625987213895\" width=\"10\" height=\"120\"></rect><rect x=\"-507.567314818872\" y=\"-564.1625987213895\" width=\"10\" height=\"120\"></rect><rect x=\"-637.567314818872\" y=\"-44.162598721389486\" width=\"10\" height=\"120\"></rect><rect x=\"159.2496115438642\" y=\"712.9793328722214\" width=\"10\" height=\"120\"></rect><rect x=\"767.4279620032917\" y=\"-294.29346818316696\" width=\"10\" height=\"120\"></rect><rect x=\"622.533688431713\" y=\"447.8037803669263\" width=\"10\" height=\"120\"></rect><rect x=\"570.9025537843813\" y=\"500.52576337069513\" width=\"10\" height=\"120\"></rect><rect x=\"654.0434741439879\" y=\"-112.29869333617\" width=\"10\" height=\"120\"></rect><rect x=\"825.4595293357813\" y=\"-118.84961182938102\" width=\"10\" height=\"120\"></rect><rect x=\"738.3049081238225\" y=\"283.16220616247944\" width=\"10\" height=\"120\"></rect><rect x=\"325.13553739926033\" y=\"541.591606151343\" width=\"10\" height=\"120\"></rect><rect x=\"414.3290140626878\" y=\"314.70041177557766\" width=\"10\" height=\"120\"></rect><rect x=\"757.4279620032917\" y=\"-294.29346818316696\" width=\"10\" height=\"120\"></rect><rect x=\"747.4279620032917\" y=\"-294.29346818316696\" width=\"10\" height=\"120\"></rect><rect x=\"-737.567314818872\" y=\"-325.5325402575669\" width=\"10\" height=\"120\"></rect><rect x=\"387.4521083546046\" y=\"398.2610243140624\" width=\"10\" height=\"120\"></rect><rect x=\"-447.567314818872\" y=\"-600.5559056535452\" width=\"120\" height=\"10\"></rect><rect x=\"-447.567314818872\" y=\"-610.5559056535452\" width=\"120\" height=\"10\"></rect><rect x=\"-210.42055291836442\" y=\"781.7265166617655\" width=\"120\" height=\"10\"></rect><rect x=\"-170.45199522148954\" y=\"-750.5559056535452\" width=\"120\" height=\"10\"></rect><rect x=\"-447.567314818872\" y=\"219.75911076674083\" width=\"120\" height=\"10\"></rect><rect x=\"-160.5156852473836\" y=\"-760.5559056535452\" width=\"120\" height=\"10\"></rect><rect x=\"-447.567314818872\" y=\"-620.5559056535452\" width=\"120\" height=\"10\"></rect><rect x=\"-627.567314818872\" y=\"-503.26007291106896\" width=\"120\" height=\"10\"></rect><rect x=\"-210.42055291836442\" y=\"771.7265166617655\" width=\"120\" height=\"10\"></rect><rect x=\"192.43268518112802\" y=\"-146.13347436482695\" width=\"120\" height=\"10\"></rect><rect x=\"192.43268518112802\" y=\"-156.13347436482695\" width=\"120\" height=\"10\"></rect><rect x=\"-170.45199522148954\" y=\"-680.2408892332592\" width=\"120\" height=\"10\"></rect><rect x=\"-210.42055291836442\" y=\"806.5210514219277\" width=\"120\" height=\"10\"></rect><rect x=\"-47.56731481887198\" y=\"375.22617784687327\" width=\"120\" height=\"10\"></rect><rect x=\"192.43268518112802\" y=\"-166.13347436482695\" width=\"120\" height=\"10\"></rect><rect x=\"-207.56731481887198\" y=\"286.6918050512528\" width=\"120\" height=\"10\"></rect><rect x=\"-627.567314818872\" y=\"-523.260072911069\" width=\"120\" height=\"10\"></rect><rect x=\"-607.567314818872\" y=\"-444.1625987213895\" width=\"10\" height=\"120\"></rect><rect x=\"674.0434741439879\" y=\"-232.29869333617\" width=\"10\" height=\"120\"></rect><rect x=\"377.4521083546046\" y=\"347.57803468321924\" width=\"10\" height=\"120\"></rect><rect x=\"206.07850162166267\" y=\"584.9255598145851\" width=\"10\" height=\"120\"></rect><rect x=\"644.0434741439879\" y=\"-112.29869333617\" width=\"10\" height=\"120\"></rect><rect x=\"405.1835803014351\" y=\"-458.3428812980401\" width=\"10\" height=\"120\"></rect><rect x=\"-457.567314818872\" y=\"-684.1625987213895\" width=\"10\" height=\"120\"></rect><rect x=\"314.0876549556478\" y=\"552.0172048332574\" width=\"10\" height=\"120\"></rect><rect x=\"722.4795858255145\" y=\"311.246630536266\" width=\"10\" height=\"120\"></rect><rect x=\"664.0434741439879\" y=\"-232.29869333617\" width=\"10\" height=\"120\"></rect><rect x=\"62.43268518112802\" y=\"255.22617784687327\" width=\"10\" height=\"120\"></rect><rect x=\"142.43268518112802\" y=\"-184.77382215312673\" width=\"10\" height=\"120\"></rect><rect x=\"626.2468246898011\" y=\"327.8037803669263\" width=\"10\" height=\"120\"></rect><rect x=\"-697.567314818872\" y=\"-445.5325402575669\" width=\"10\" height=\"120\"></rect><rect x=\"325.13553739926033\" y=\"421.59160615134294\" width=\"10\" height=\"120\"></rect><rect x=\"132.43268518112802\" y=\"-184.77382215312673\" width=\"10\" height=\"120\"></rect><rect x=\"654.0434741439879\" y=\"-232.29869333617\" width=\"10\" height=\"120\"></rect><rect x=\"476.2468246898011\" y=\"76.00164732264318\" width=\"10\" height=\"120\"></rect><rect x=\"-660.4205529183644\" y=\"411.5304788107102\" width=\"10\" height=\"120\"></rect><rect x=\"577.4711802233887\" y=\"380.52576337069513\" width=\"10\" height=\"120\"></rect><rect x=\"560.9025537843813\" y=\"390.2227947280486\" width=\"10\" height=\"120\"></rect><rect x=\"-477.567314818872\" y=\"-614.1625987213895\" width=\"10\" height=\"120\"></rect><rect x=\"367.4521083546046\" y=\"518.2610243140624\" width=\"10\" height=\"120\"></rect><rect x=\"240.60952517877618\" y=\"692.2160216898386\" width=\"10\" height=\"120\"></rect><rect x=\"404.3290140626878\" y=\"278.2610243140624\" width=\"10\" height=\"120\"></rect><rect x=\"-747.567314818872\" y=\"-325.5325402575669\" width=\"10\" height=\"120\"></rect><rect x=\"815.4595293357813\" y=\"-118.84961182938102\" width=\"10\" height=\"120\"></rect><rect x=\"405.1835803014351\" y=\"-578.3428812980401\" width=\"10\" height=\"120\"></rect><rect x=\"567.4711802233887\" y=\"270.2227947280486\" width=\"10\" height=\"120\"></rect><rect x=\"674.0434741439879\" y=\"-352.29869333617\" width=\"10\" height=\"120\"></rect><rect x=\"163.46770115594882\" y=\"592.9793328722214\" width=\"10\" height=\"120\"></rect><rect x=\"257.4521083546046\" y=\"406.557983900758\" width=\"120\" height=\"10\"></rect><rect x=\"315.1835803014351\" y=\"-596.133474364827\" width=\"120\" height=\"10\"></rect><rect x=\"-447.567314818872\" y=\"209.75911076674083\" width=\"120\" height=\"10\"></rect><rect x=\"192.43268518112802\" y=\"-194.77382215312673\" width=\"120\" height=\"10\"></rect><rect x=\"315.1835803014351\" y=\"-606.133474364827\" width=\"120\" height=\"10\"></rect><rect x=\"257.4521083546046\" y=\"396.557983900758\" width=\"120\" height=\"10\"></rect><rect x=\"-447.567314818872\" y=\"199.75911076674083\" width=\"120\" height=\"10\"></rect></svg>\n",
      "\n",
      "model evaluated on average in 0h 0m 3s\n",
      "average score: 457989.0\n",
      "\n",
      "best score evaluated in 0h 0m 3s\n",
      "best score: 488810\n",
      "expected score: None\n"
     ]
    }
   ],
   "source": [
    "solution(850, 50)"
   ]
  },
  {
   "cell_type": "markdown",
   "id": "b55c0c45",
   "metadata": {},
   "source": [
    "## 5.3. Dataset with radius 1000"
   ]
  },
  {
   "cell_type": "code",
   "execution_count": 11,
   "id": "131f43a1",
   "metadata": {},
   "outputs": [
    {
     "name": "stdout",
     "output_type": "stream",
     "text": [
      "best solution html svg representation\n",
      "<svg height=\"720px\" viewBox=\"-1000 -1000 2000 2000\" transform=\"scale(1,-1)\"><circle cx=\"0\" cy=\"0\" r=\"1000\" fill=\"white\" stroke=\"red\" stroke-width=\"5px\"></circle><rect x=\"30.8860837060229\" y=\"731.6121958530147\" width=\"160\" height=\"250\"></rect><rect x=\"459.1226963735653\" y=\"535.29426766985\" width=\"160\" height=\"250\"></rect><rect x=\"681.5698042143331\" y=\"290.14837279644655\" width=\"160\" height=\"250\"></rect><rect x=\"299.1226963735653\" y=\"392.6331669174016\" width=\"160\" height=\"250\"></rect><rect x=\"796.9816726372425\" y=\"40.14837279644655\" width=\"160\" height=\"250\"></rect><rect x=\"-129.1139162939771\" y=\"629.0535955649357\" width=\"160\" height=\"250\"></rect><rect x=\"-289.1139162939771\" y=\"695.7554407863732\" width=\"160\" height=\"250\"></rect><rect x=\"139.1226963735653\" y=\"379.0535955649357\" width=\"160\" height=\"250\"></rect><rect x=\"-449.1139162939771\" y=\"611.326452132847\" width=\"160\" height=\"250\"></rect><rect x=\"-609.1139162939771\" y=\"513.4777218248585\" width=\"160\" height=\"250\"></rect><rect x=\"-769.1139162939771\" y=\"356.15077604330486\" width=\"160\" height=\"250\"></rect><rect x=\"-20.877303626434696\" y=\"263.47772182485846\" width=\"160\" height=\"250\"></rect><rect x=\"-180.8773036264347\" y=\"106.15077604330486\" width=\"160\" height=\"250\"></rect><rect x=\"636.9816726372425\" y=\"-143.84922395669514\" width=\"160\" height=\"250\"></rect><rect x=\"-340.8773036264347\" y=\"106.15077604330486\" width=\"160\" height=\"250\"></rect><rect x=\"-500.8773036264347\" y=\"106.15077604330486\" width=\"160\" height=\"250\"></rect><rect x=\"476.98167263724247\" y=\"-143.84922395669514\" width=\"160\" height=\"250\"></rect><rect x=\"316.98167263724247\" y=\"-143.84922395669514\" width=\"160\" height=\"250\"></rect><rect x=\"156.98167263724247\" y=\"-143.84922395669514\" width=\"160\" height=\"250\"></rect><rect x=\"759.1750588373843\" y=\"-393.84922395669514\" width=\"160\" height=\"250\"></rect><rect x=\"-3.0183273627575318\" y=\"-143.84922395669514\" width=\"160\" height=\"250\"></rect><rect x=\"-163.01832736275753\" y=\"-143.84922395669514\" width=\"160\" height=\"250\"></rect><rect x=\"599.1750588373843\" y=\"-393.84922395669514\" width=\"160\" height=\"250\"></rect><rect x=\"439.1750588373843\" y=\"-393.84922395669514\" width=\"160\" height=\"250\"></rect><rect x=\"-323.01832736275753\" y=\"-143.84922395669514\" width=\"160\" height=\"250\"></rect><rect x=\"-660.8773036264347\" y=\"106.15077604330486\" width=\"160\" height=\"250\"></rect><rect x=\"279.1750588373843\" y=\"-393.84922395669514\" width=\"160\" height=\"250\"></rect><rect x=\"605.152387966189\" y=\"-643.8492239566951\" width=\"160\" height=\"250\"></rect><rect x=\"-820.8773036264347\" y=\"106.15077604330486\" width=\"160\" height=\"250\"></rect><rect x=\"119.17505883738431\" y=\"-393.84922395669514\" width=\"160\" height=\"250\"></rect><rect x=\"-483.01832736275753\" y=\"-143.84922395669514\" width=\"160\" height=\"250\"></rect><rect x=\"-40.82494116261569\" y=\"-393.84922395669514\" width=\"160\" height=\"250\"></rect><rect x=\"-643.0183273627575\" y=\"-143.84922395669514\" width=\"160\" height=\"250\"></rect><rect x=\"-200.8249411626157\" y=\"-393.84922395669514\" width=\"160\" height=\"250\"></rect><rect x=\"445.15238796618905\" y=\"-643.8492239566951\" width=\"160\" height=\"250\"></rect><rect x=\"-803.0183273627575\" y=\"-143.84922395669514\" width=\"160\" height=\"250\"></rect><rect x=\"521.5698042143331\" y=\"142.63316691740158\" width=\"160\" height=\"250\"></rect><rect x=\"-360.8249411626157\" y=\"-393.84922395669514\" width=\"160\" height=\"250\"></rect><rect x=\"285.15238796618905\" y=\"-643.8492239566951\" width=\"160\" height=\"250\"></rect><rect x=\"-520.8249411626157\" y=\"-393.84922395669514\" width=\"160\" height=\"250\"></rect><rect x=\"125.15238796618905\" y=\"-643.8492239566951\" width=\"160\" height=\"250\"></rect><rect x=\"-34.84761203381095\" y=\"-643.8492239566951\" width=\"160\" height=\"250\"></rect><rect x=\"-680.8249411626157\" y=\"-393.84922395669514\" width=\"160\" height=\"250\"></rect><rect x=\"-194.84761203381095\" y=\"-643.8492239566951\" width=\"160\" height=\"250\"></rect><rect x=\"288.36766702340816\" y=\"-893.8492239566951\" width=\"160\" height=\"250\"></rect><rect x=\"-354.84761203381095\" y=\"-643.8492239566951\" width=\"160\" height=\"250\"></rect><rect x=\"-514.847612033811\" y=\"-643.8492239566951\" width=\"160\" height=\"250\"></rect><rect x=\"128.36766702340816\" y=\"-893.8492239566951\" width=\"160\" height=\"250\"></rect><rect x=\"-31.63233297659184\" y=\"-893.8492239566951\" width=\"160\" height=\"250\"></rect><rect x=\"361.5698042143331\" y=\"142.63316691740158\" width=\"160\" height=\"250\"></rect><rect x=\"-191.63233297659184\" y=\"-893.8492239566951\" width=\"160\" height=\"250\"></rect><rect x=\"-963.0183273627575\" y=\"-143.84922395669514\" width=\"160\" height=\"250\"></rect><rect x=\"-674.847612033811\" y=\"-643.8492239566951\" width=\"160\" height=\"250\"></rect><rect x=\"-270.8773036264347\" y=\"451.32645213284695\" width=\"250\" height=\"160\"></rect><rect x=\"-441.63233297659184\" y=\"-803.8492239566951\" width=\"250\" height=\"160\"></rect><rect x=\"-930.8249411626157\" y=\"-303.84922395669514\" width=\"250\" height=\"160\"></rect><rect x=\"196.72481816767805\" y=\"734.671412772899\" width=\"250\" height=\"160\"></rect><rect x=\"201.5698042143331\" y=\"179.05359556493568\" width=\"160\" height=\"200\"></rect><rect x=\"-800.8249411626157\" y=\"-503.84922395669514\" width=\"120\" height=\"200\"></rect><rect x=\"-470.8773036264347\" y=\"393.47772182485846\" width=\"200\" height=\"120\"></rect><rect x=\"1.5698042143330895\" y=\"143.47772182485846\" width=\"200\" height=\"120\"></rect><rect x=\"-920.8773036264347\" y=\"264.5153889402424\" width=\"100\" height=\"120\"></rect><rect x=\"-541.6323329765919\" y=\"-763.8492239566951\" width=\"100\" height=\"120\"></rect><rect x=\"-570.8773036264347\" y=\"393.47772182485846\" width=\"100\" height=\"120\"></rect><rect x=\"-920.8773036264347\" y=\"144.51538894024242\" width=\"100\" height=\"120\"></rect><rect x=\"896.806760426987\" y=\"-79.85162720355345\" width=\"100\" height=\"120\"></rect></svg>\n",
      "\n",
      "model evaluated on average in 0h 0m 2s\n",
      "average score: 27529.2\n",
      "\n",
      "best score evaluated in 0h 0m 2s\n",
      "best score: 29600\n",
      "expected score: 17500\n"
     ]
    }
   ],
   "source": [
    "solution(1000, 50)"
   ]
  },
  {
   "cell_type": "markdown",
   "id": "6cb57b1d",
   "metadata": {},
   "source": [
    "## 5.4. Dataset with radius 1100"
   ]
  },
  {
   "cell_type": "code",
   "execution_count": 12,
   "id": "bf39a210",
   "metadata": {},
   "outputs": [
    {
     "name": "stdout",
     "output_type": "stream",
     "text": [
      "best solution html svg representation\n",
      "<svg height=\"720px\" viewBox=\"-1100 -1100 2200 2200\" transform=\"scale(1,-1)\"><circle cx=\"0\" cy=\"0\" r=\"1100\" fill=\"white\" stroke=\"red\" stroke-width=\"5px\"></circle><rect x=\"226.92501377903693\" y=\"779.7033717105583\" width=\"160\" height=\"250\"></rect><rect x=\"-26.7283906577577\" y=\"841.8968257776596\" width=\"160\" height=\"250\"></rect><rect x=\"-186.7283906577577\" y=\"818.6546859077091\" width=\"160\" height=\"250\"></rect><rect x=\"615.9269631500035\" y=\"529.7033717105583\" width=\"160\" height=\"250\"></rect><rect x=\"-346.7283906577577\" y=\"782.303609713251\" width=\"160\" height=\"250\"></rect><rect x=\"804.0613766760216\" y=\"279.70337171055826\" width=\"160\" height=\"250\"></rect><rect x=\"455.92696315000353\" y=\"529.7033717105583\" width=\"160\" height=\"250\"></rect><rect x=\"66.92501377903693\" y=\"532.303609713251\" width=\"160\" height=\"250\"></rect><rect x=\"295.92696315000353\" y=\"529.7033717105583\" width=\"160\" height=\"250\"></rect><rect x=\"644.0613766760216\" y=\"73.44642424724759\" width=\"160\" height=\"250\"></rect><rect x=\"-506.7283906577577\" y=\"558.482611492285\" width=\"160\" height=\"250\"></rect><rect x=\"484.0613766760216\" y=\"88.23485670247868\" width=\"160\" height=\"250\"></rect><rect x=\"-93.07498622096307\" y=\"568.6546859077091\" width=\"160\" height=\"250\"></rect><rect x=\"-93.07498622096307\" y=\"308.48261149228495\" width=\"160\" height=\"250\"></rect><rect x=\"-253.07498622096307\" y=\"532.303609713251\" width=\"160\" height=\"250\"></rect><rect x=\"-413.07498622096307\" y=\"308.48261149228495\" width=\"160\" height=\"250\"></rect><rect x=\"324.0613766760216\" y=\"58.482611492284946\" width=\"160\" height=\"250\"></rect><rect x=\"-666.7283906577577\" y=\"365.31476257315285\" width=\"160\" height=\"250\"></rect><rect x=\"923.1994691187699\" y=\"-191.51738850771505\" width=\"160\" height=\"250\"></rect><rect x=\"-826.7283906577577\" y=\"270.29083274764855\" width=\"160\" height=\"250\"></rect><rect x=\"164.0613766760216\" y=\"58.482611492284946\" width=\"160\" height=\"250\"></rect><rect x=\"4.0613766760216095\" y=\"58.482611492284946\" width=\"160\" height=\"250\"></rect><rect x=\"763.1994691187699\" y=\"-191.51738850771505\" width=\"160\" height=\"250\"></rect><rect x=\"-155.9386233239784\" y=\"20.29083274764855\" width=\"160\" height=\"250\"></rect><rect x=\"603.1994691187699\" y=\"-191.51738850771505\" width=\"160\" height=\"250\"></rect><rect x=\"-315.9386233239784\" y=\"20.29083274764855\" width=\"160\" height=\"250\"></rect><rect x=\"443.1994691187699\" y=\"-191.51738850771505\" width=\"160\" height=\"250\"></rect><rect x=\"-573.0749862209631\" y=\"115.31476257315285\" width=\"160\" height=\"250\"></rect><rect x=\"-733.0749862209631\" y=\"20.29083274764855\" width=\"160\" height=\"250\"></rect><rect x=\"283.1994691187699\" y=\"-191.51738850771505\" width=\"160\" height=\"250\"></rect><rect x=\"123.19946911876991\" y=\"-191.51738850771505\" width=\"160\" height=\"250\"></rect><rect x=\"-36.80053088123009\" y=\"-229.70916725235145\" width=\"160\" height=\"250\"></rect><rect x=\"-196.8005308812301\" y=\"-229.70916725235145\" width=\"160\" height=\"250\"></rect><rect x=\"829.8884355593086\" y=\"-479.70916725235145\" width=\"160\" height=\"250\"></rect><rect x=\"669.8884355593086\" y=\"-441.51738850771505\" width=\"160\" height=\"250\"></rect><rect x=\"-893.0749862209631\" y=\"3.3749776416180453\" width=\"160\" height=\"250\"></rect><rect x=\"509.8884355593086\" y=\"-441.51738850771505\" width=\"160\" height=\"250\"></rect><rect x=\"-356.8005308812301\" y=\"-246.62502235838195\" width=\"160\" height=\"250\"></rect><rect x=\"-516.8005308812301\" y=\"-246.62502235838195\" width=\"160\" height=\"250\"></rect><rect x=\"349.8884355593086\" y=\"-479.70916725235145\" width=\"160\" height=\"250\"></rect><rect x=\"189.88843555930862\" y=\"-496.62502235838195\" width=\"160\" height=\"250\"></rect><rect x=\"29.88843555930862\" y=\"-496.62502235838195\" width=\"160\" height=\"250\"></rect><rect x=\"647.8063356946054\" y=\"-746.625022358382\" width=\"160\" height=\"250\"></rect><rect x=\"487.8063356946054\" y=\"-746.625022358382\" width=\"160\" height=\"250\"></rect><rect x=\"327.8063356946054\" y=\"-746.625022358382\" width=\"160\" height=\"250\"></rect><rect x=\"-676.8005308812301\" y=\"-229.70916725235145\" width=\"160\" height=\"250\"></rect><rect x=\"-130.11156444069138\" y=\"-496.62502235838195\" width=\"160\" height=\"250\"></rect><rect x=\"-290.1115644406914\" y=\"-496.62502235838195\" width=\"160\" height=\"250\"></rect><rect x=\"-836.8005308812301\" y=\"-246.62502235838195\" width=\"160\" height=\"250\"></rect><rect x=\"-450.1115644406914\" y=\"-496.62502235838195\" width=\"160\" height=\"250\"></rect><rect x=\"167.80633569460542\" y=\"-746.625022358382\" width=\"160\" height=\"250\"></rect><rect x=\"-996.8005308812301\" y=\"-246.62502235838195\" width=\"160\" height=\"250\"></rect><rect x=\"7.806335694605423\" y=\"-746.625022358382\" width=\"160\" height=\"250\"></rect><rect x=\"-152.19366430539458\" y=\"-746.625022358382\" width=\"160\" height=\"250\"></rect><rect x=\"-610.1115644406914\" y=\"-496.62502235838195\" width=\"160\" height=\"250\"></rect><rect x=\"305.5518927135348\" y=\"-996.625022358382\" width=\"160\" height=\"250\"></rect><rect x=\"-312.1936643053946\" y=\"-746.625022358382\" width=\"160\" height=\"250\"></rect><rect x=\"-472.1936643053946\" y=\"-746.625022358382\" width=\"160\" height=\"250\"></rect><rect x=\"-770.1115644406914\" y=\"-496.62502235838195\" width=\"160\" height=\"250\"></rect><rect x=\"-632.1936643053946\" y=\"-746.625022358382\" width=\"160\" height=\"250\"></rect><rect x=\"145.5518927135348\" y=\"-996.625022358382\" width=\"160\" height=\"250\"></rect><rect x=\"-14.448107286465188\" y=\"-996.625022358382\" width=\"160\" height=\"250\"></rect><rect x=\"-1053.0749862209632\" y=\"42.64708657218267\" width=\"160\" height=\"250\"></rect><rect x=\"-930.1115644406914\" y=\"-496.62502235838195\" width=\"160\" height=\"250\"></rect><rect x=\"-174.4481072864652\" y=\"-996.625022358382\" width=\"160\" height=\"250\"></rect><rect x=\"554.0613766760216\" y=\"369.70337171055826\" width=\"250\" height=\"160\"></rect><rect x=\"304.0613766760216\" y=\"369.70337171055826\" width=\"250\" height=\"160\"></rect><rect x=\"-424.4481072864652\" y=\"-906.625022358382\" width=\"250\" height=\"160\"></rect><rect x=\"-786.7283906577577\" y=\"605.848540133486\" width=\"120\" height=\"150\"></rect><rect x=\"-626.7283906577577\" y=\"738.093346478137\" width=\"120\" height=\"150\"></rect><rect x=\"175.92696315000353\" y=\"382.30360971325103\" width=\"120\" height=\"150\"></rect><rect x=\"416.11614772968665\" y=\"810.5100083515428\" width=\"120\" height=\"150\"></rect><rect x=\"-946.7283906577577\" y=\"390.00198045400214\" width=\"120\" height=\"150\"></rect><rect x=\"517.2311741282208\" y=\"-896.625022358382\" width=\"120\" height=\"150\"></rect><rect x=\"943.8449247205842\" y=\"129.70337171055826\" width=\"120\" height=\"150\"></rect><rect x=\"-574.4481072864652\" y=\"-866.625022358382\" width=\"150\" height=\"120\"></rect><rect x=\"-782.1936643053946\" y=\"-616.625022358382\" width=\"150\" height=\"120\"></rect></svg>\n",
      "\n",
      "model evaluated on average in 0h 0m 2s\n",
      "average score: 37891.6\n",
      "\n",
      "best score evaluated in 0h 0m 2s\n",
      "best score: 41160\n",
      "expected score: 25000\n"
     ]
    }
   ],
   "source": [
    "solution(1100, 50)"
   ]
  },
  {
   "cell_type": "markdown",
   "id": "7cac42ba",
   "metadata": {},
   "source": [
    "## 5.5. Dataset with radius 1200"
   ]
  },
  {
   "cell_type": "code",
   "execution_count": 13,
   "id": "d1034164",
   "metadata": {},
   "outputs": [
    {
     "name": "stdout",
     "output_type": "stream",
     "text": [
      "best solution html svg representation\n",
      "<svg height=\"720px\" viewBox=\"-1200 -1200 2400 2400\" transform=\"scale(1,-1)\"><circle cx=\"0\" cy=\"0\" r=\"1200\" fill=\"white\" stroke=\"red\" stroke-width=\"5px\"></circle><rect x=\"735.2228894024497\" y=\"549.109490802061\" width=\"160\" height=\"250\"></rect><rect x=\"280.5282199643781\" y=\"866.2145346728901\" width=\"160\" height=\"250\"></rect><rect x=\"575.2228894024497\" y=\"405.99295974329584\" width=\"160\" height=\"250\"></rect><rect x=\"79.78142016362898\" y=\"925.7996727947807\" width=\"160\" height=\"250\"></rect><rect x=\"120.52821996437808\" y=\"623.9736107456299\" width=\"160\" height=\"250\"></rect><rect x=\"415.2228894024497\" y=\"616.2145346728901\" width=\"160\" height=\"250\"></rect><rect x=\"-80.21857983637102\" y=\"841.0066399772886\" width=\"160\" height=\"250\"></rect><rect x=\"-39.47178003562192\" y=\"591.0066399772886\" width=\"160\" height=\"250\"></rect><rect x=\"415.2228894024497\" y=\"366.21453467289007\" width=\"160\" height=\"250\"></rect><rect x=\"-199.47178003562192\" y=\"591.0066399772886\" width=\"160\" height=\"250\"></rect><rect x=\"255.2228894024497\" y=\"341.0066399772886\" width=\"160\" height=\"250\"></rect><rect x=\"95.22288940244971\" y=\"341.0066399772886\" width=\"160\" height=\"250\"></rect><rect x=\"-359.4717800356219\" y=\"410.10785040918654\" width=\"160\" height=\"250\"></rect><rect x=\"-519.4717800356219\" y=\"462.5489402032815\" width=\"160\" height=\"250\"></rect><rect x=\"969.234128353761\" y=\"155.99295974329584\" width=\"160\" height=\"250\"></rect><rect x=\"809.234128353761\" y=\"116.21453467289007\" width=\"160\" height=\"250\"></rect><rect x=\"-64.77711059755029\" y=\"341.0066399772886\" width=\"160\" height=\"250\"></rect><rect x=\"-224.7771105975503\" y=\"159.72585967748375\" width=\"160\" height=\"250\"></rect><rect x=\"649.234128353761\" y=\"91.00663997728861\" width=\"160\" height=\"250\"></rect><rect x=\"-384.7771105975503\" y=\"-44.45560824857131\" width=\"160\" height=\"250\"></rect><rect x=\"489.234128353761\" y=\"91.00663997728861\" width=\"160\" height=\"250\"></rect><rect x=\"1032.5189513241326\" y=\"-133.78546532710993\" width=\"160\" height=\"250\"></rect><rect x=\"872.5189513241326\" y=\"-158.99336002271139\" width=\"160\" height=\"250\"></rect><rect x=\"329.234128353761\" y=\"91.00663997728861\" width=\"160\" height=\"250\"></rect><rect x=\"169.23412835376098\" y=\"91.00663997728861\" width=\"160\" height=\"250\"></rect><rect x=\"712.5189513241326\" y=\"-158.99336002271139\" width=\"160\" height=\"250\"></rect><rect x=\"552.5189513241326\" y=\"-158.99336002271139\" width=\"160\" height=\"250\"></rect><rect x=\"392.51895132413256\" y=\"-158.99336002271139\" width=\"160\" height=\"250\"></rect><rect x=\"9.23412835376098\" y=\"91.00663997728861\" width=\"160\" height=\"250\"></rect><rect x=\"-544.7771105975503\" y=\"-108.68208375969635\" width=\"160\" height=\"250\"></rect><rect x=\"232.51895132413256\" y=\"-158.99336002271139\" width=\"160\" height=\"250\"></rect><rect x=\"72.51895132413256\" y=\"-358.68208375969635\" width=\"160\" height=\"250\"></rect><rect x=\"968.1508903765191\" y=\"-408.9933600227114\" width=\"160\" height=\"250\"></rect><rect x=\"-679.4717800356219\" y=\"599.3682975272666\" width=\"160\" height=\"250\"></rect><rect x=\"808.1508903765191\" y=\"-408.9933600227114\" width=\"160\" height=\"250\"></rect><rect x=\"648.1508903765191\" y=\"-608.6820837596963\" width=\"160\" height=\"250\"></rect><rect x=\"-150.76587164623902\" y=\"-90.27414032251625\" width=\"160\" height=\"250\"></rect><rect x=\"-679.4717800356219\" y=\"219.81244266506104\" width=\"160\" height=\"250\"></rect><rect x=\"-87.48104867586744\" y=\"-340.27414032251625\" width=\"160\" height=\"250\"></rect><rect x=\"-839.4717800356219\" y=\"532.6225151343474\" width=\"160\" height=\"250\"></rect><rect x=\"-247.48104867586744\" y=\"-358.68208375969635\" width=\"160\" height=\"250\"></rect><rect x=\"-839.4717800356219\" y=\"282.6225151343474\" width=\"160\" height=\"250\"></rect><rect x=\"488.1508903765191\" y=\"-608.6820837596963\" width=\"160\" height=\"250\"></rect><rect x=\"328.1508903765191\" y=\"-608.6820837596963\" width=\"160\" height=\"250\"></rect><rect x=\"-999.4717800356219\" y=\"410.36506840393463\" width=\"160\" height=\"250\"></rect><rect x=\"-407.48104867586744\" y=\"-358.68208375969635\" width=\"160\" height=\"250\"></rect><rect x=\"-999.4717800356219\" y=\"160.36506840393463\" width=\"160\" height=\"250\"></rect><rect x=\"168.1508903765191\" y=\"-608.6820837596963\" width=\"160\" height=\"250\"></rect><rect x=\"8.1508903765191\" y=\"-608.6820837596963\" width=\"160\" height=\"250\"></rect><rect x=\"678.2512028205542\" y=\"-858.6820837596963\" width=\"160\" height=\"250\"></rect><rect x=\"-704.7771105975503\" y=\"-89.63493159606537\" width=\"160\" height=\"250\"></rect><rect x=\"-151.8491096234809\" y=\"-608.6820837596963\" width=\"160\" height=\"250\"></rect><rect x=\"-864.7771105975503\" y=\"-89.63493159606537\" width=\"160\" height=\"250\"></rect><rect x=\"518.2512028205542\" y=\"-858.6820837596963\" width=\"160\" height=\"250\"></rect><rect x=\"358.2512028205542\" y=\"-858.6820837596963\" width=\"160\" height=\"250\"></rect><rect x=\"-567.4810486758674\" y=\"-358.68208375969635\" width=\"160\" height=\"250\"></rect><rect x=\"198.25120282055423\" y=\"-858.6820837596963\" width=\"160\" height=\"250\"></rect><rect x=\"-311.8491096234809\" y=\"-608.6820837596963\" width=\"160\" height=\"250\"></rect><rect x=\"-471.8491096234809\" y=\"-608.6820837596963\" width=\"160\" height=\"250\"></rect><rect x=\"38.25120282055423\" y=\"-858.6820837596963\" width=\"160\" height=\"250\"></rect><rect x=\"-121.74879717944577\" y=\"-858.6820837596963\" width=\"160\" height=\"250\"></rect><rect x=\"299.15578745155517\" y=\"-1108.6820837596963\" width=\"160\" height=\"250\"></rect><rect x=\"-727.4810486758674\" y=\"-339.63493159606537\" width=\"160\" height=\"250\"></rect><rect x=\"-887.4810486758674\" y=\"-339.63493159606537\" width=\"160\" height=\"250\"></rect><rect x=\"-1024.7771105975503\" y=\"-89.63493159606537\" width=\"160\" height=\"250\"></rect><rect x=\"-727.4810486758674\" y=\"-589.6349315960654\" width=\"160\" height=\"250\"></rect><rect x=\"-281.7487971794458\" y=\"-858.6820837596963\" width=\"160\" height=\"250\"></rect><rect x=\"139.15578745155517\" y=\"-1108.6820837596963\" width=\"160\" height=\"250\"></rect><rect x=\"-240.21857983637102\" y=\"884.9040373055473\" width=\"160\" height=\"250\"></rect><rect x=\"-1047.4810486758674\" y=\"-339.63493159606537\" width=\"160\" height=\"250\"></rect><rect x=\"-441.7487971794458\" y=\"-858.6820837596963\" width=\"160\" height=\"250\"></rect><rect x=\"-631.8491096234809\" y=\"-839.6349315960654\" width=\"160\" height=\"250\"></rect><rect x=\"-887.4810486758674\" y=\"-589.6349315960654\" width=\"160\" height=\"250\"></rect><rect x=\"-400.218579836371\" y=\"868.829018533432\" width=\"160\" height=\"250\"></rect><rect x=\"-791.8491096234809\" y=\"-839.6349315960654\" width=\"160\" height=\"250\"></rect><rect x=\"-20.84421254844483\" y=\"-1108.6820837596963\" width=\"160\" height=\"250\"></rect><rect x=\"-270.84421254844483\" y=\"-1018.6820837596963\" width=\"250\" height=\"160\"></rect><rect x=\"-474.7771105975503\" y=\"250.10785040918654\" width=\"250\" height=\"160\"></rect><rect x=\"558.1508903765191\" y=\"-318.9933600227114\" width=\"250\" height=\"160\"></rect><rect x=\"308.1508903765191\" y=\"-318.9933600227114\" width=\"250\" height=\"160\"></rect><rect x=\"-1184.7771105975503\" y=\"-27.0539539604612\" width=\"160\" height=\"200\"></rect><rect x=\"-430.84421254844483\" y=\"-1058.6820837596963\" width=\"160\" height=\"200\"></rect><rect x=\"873.9860189810345\" y=\"-608.9933600227114\" width=\"160\" height=\"200\"></rect><rect x=\"769.234128353761\" y=\"389.10949080206103\" width=\"200\" height=\"160\"></rect><rect x=\"-641.7487971794458\" y=\"-999.6349315960654\" width=\"200\" height=\"160\"></rect><rect x=\"-1119.471780035622\" y=\"222.74191318028676\" width=\"120\" height=\"200\"></rect><rect x=\"-600.218579836371\" y=\"892.0806145469247\" width=\"200\" height=\"120\"></rect><rect x=\"-987.4810486758674\" y=\"-459.63493159606537\" width=\"100\" height=\"120\"></rect><rect x=\"625.1284210115646\" y=\"836.1321943336471\" width=\"100\" height=\"120\"></rect><rect x=\"-1147.4810486758674\" y=\"-147.0539539604612\" width=\"100\" height=\"120\"></rect><rect x=\"594.3928131308523\" y=\"-978.6820837596963\" width=\"100\" height=\"120\"></rect><rect x=\"-120.84421254844483\" y=\"-1138.6820837596963\" width=\"100\" height=\"120\"></rect><rect x=\"494.39281313085235\" y=\"-978.6820837596963\" width=\"100\" height=\"120\"></rect><rect x=\"-220.84421254844483\" y=\"-1138.6820837596963\" width=\"100\" height=\"120\"></rect><rect x=\"453.31909613859773\" y=\"944.8182839566407\" width=\"100\" height=\"120\"></rect><rect x=\"-1147.4810486758674\" y=\"-267.0539539604612\" width=\"100\" height=\"120\"></rect><rect x=\"315.2228894024497\" y=\"746.2145346728901\" width=\"100\" height=\"120\"></rect><rect x=\"-299.4717800356219\" y=\"748.829018533432\" width=\"100\" height=\"120\"></rect><rect x=\"-987.4810486758674\" y=\"-579.6349315960654\" width=\"100\" height=\"120\"></rect><rect x=\"-619.4717800356219\" y=\"479.3682975272666\" width=\"100\" height=\"120\"></rect><rect x=\"-56.93167209889434\" y=\"1098.3415147677053\" width=\"120\" height=\"100\"></rect><rect x=\"112.51895132413256\" y=\"-8.993360022711386\" width=\"120\" height=\"100\"></rect><rect x=\"-419.4717800356219\" y=\"768.829018533432\" width=\"120\" height=\"100\"></rect></svg>\n",
      "\n",
      "model evaluated on average in 0h 0m 2s\n",
      "average score: 40108.0\n",
      "\n",
      "best score evaluated in 0h 0m 3s\n",
      "best score: 42540\n",
      "expected score: 30000\n"
     ]
    }
   ],
   "source": [
    "solution(1200, 50)"
   ]
  }
 ],
 "metadata": {
  "kernelspec": {
   "display_name": "Python 3 (ipykernel)",
   "language": "python",
   "name": "python3"
  },
  "language_info": {
   "codemirror_mode": {
    "name": "ipython",
    "version": 3
   },
   "file_extension": ".py",
   "mimetype": "text/x-python",
   "name": "python",
   "nbconvert_exporter": "python",
   "pygments_lexer": "ipython3",
   "version": "3.11.7"
  }
 },
 "nbformat": 4,
 "nbformat_minor": 5
}
